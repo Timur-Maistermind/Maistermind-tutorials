{
 "cells": [
  {
   "cell_type": "code",
   "execution_count": 1,
   "id": "a512b9ec-3873-4da8-a16a-605ea755808b",
   "metadata": {},
   "outputs": [],
   "source": [
    "import numpy as np\n",
    "import pandas as pd\n",
    "import mlflow\n",
    "import optuna\n",
    "import pickle\n",
    "import mlflow.sklearn\n",
    "from catboost import CatBoostRegressor\n",
    "from mlflow.tracking import MlflowClient\n",
    "from sklearn.datasets import make_regression\n",
    "from sklearn.linear_model import Lasso\n",
    "from sklearn.metrics import mean_squared_error\n",
    "from sklearn.model_selection import train_test_split, cross_val_score\n",
    "from mlflow.models import infer_signature"
   ]
  },
  {
   "cell_type": "markdown",
   "id": "efdd6522-0245-4583-accf-1b27c58ea77f",
   "metadata": {},
   "source": [
    "# Starting ML Tracking Server"
   ]
  },
  {
   "cell_type": "markdown",
   "id": "2a064223-10c7-475e-aecd-9bae90b237ea",
   "metadata": {},
   "source": [
    "In the terminal, navigate to the notebook folder and the start the ml server\n",
    "\n",
    "Run in the terminal (command line): mlflow server --host 127.0.0.1 --port 8080\n",
    "\n",
    "**This is what it does:**\n",
    "\n",
    "1. Starts the MLflow Tracking Server\n",
    "A dedicated process that manages and serves your MLflow experiments.\n",
    "\n",
    "2. Provides a Web UI\n",
    "Accessible at http://127.0.0.1:8080 (or localhost:8080), where you can browse experiments, runs, parameters, metrics, and artifacts.\n",
    "\n",
    "3. Exposes a Tracking API Endpoint\n",
    "Other scripts or notebooks can log directly to this server if you set - **mlflow.set_tracking_uri(\"http://127.0.0.1:8080\")**\n",
    "\n",
    "4. MLflow automatically creates a folder mlruns/ in your working directory the first time you log something.\n",
    "Inside mlruns/, it creates subfolders for:\n",
    "\n",
    "- each experiment (default is 0)\n",
    "\n",
    "- each run within that experiment"
   ]
  },
  {
   "cell_type": "markdown",
   "id": "b50c8aa0-0b1a-471e-9d0b-39a09ce395fc",
   "metadata": {},
   "source": [
    "# Setting URI"
   ]
  },
  {
   "cell_type": "code",
   "execution_count": 4,
   "id": "b7384755-4370-4e02-8c07-e2170704aecb",
   "metadata": {},
   "outputs": [],
   "source": [
    "# Set the tracking uri\n",
    "mlflow.set_tracking_uri(uri=\"http://127.0.0.1:8080\")"
   ]
  },
  {
   "cell_type": "markdown",
   "id": "2bed6c30",
   "metadata": {},
   "source": [
    "What it does:\n",
    "\n",
    "1. It tells your MLflow client (your script/notebook) where to send all logging data (experiments, runs, params, metrics, artifacts).\n",
    "\n",
    "3. Since our host is local, it will still write to mlruns, but here you could configure a remote host URI."
   ]
  },
  {
   "cell_type": "code",
   "execution_count": 5,
   "id": "29bf7ea4-2c2d-4ec1-9ee5-82152447c270",
   "metadata": {},
   "outputs": [
    {
     "name": "stdout",
     "output_type": "stream",
     "text": [
      "Current Tracking URI: http://127.0.0.1:8080\n"
     ]
    }
   ],
   "source": [
    "print(\"Current Tracking URI:\", mlflow.get_tracking_uri())"
   ]
  },
  {
   "cell_type": "markdown",
   "id": "586f53a5-ec53-429c-9444-3b6e7ed51b4e",
   "metadata": {},
   "source": [
    "# Fitting the model"
   ]
  },
  {
   "cell_type": "markdown",
   "id": "dc342a7a-840f-424c-ac09-86b0f1b2817c",
   "metadata": {},
   "source": [
    "Prepare the data and fit the model"
   ]
  },
  {
   "cell_type": "code",
   "execution_count": 6,
   "id": "d581e782-0705-4037-b949-87123cc75ecf",
   "metadata": {},
   "outputs": [
    {
     "name": "stdout",
     "output_type": "stream",
     "text": [
      "RMSE val = 0.6356127117266147, RMSE test = 0.638554128638353\n"
     ]
    }
   ],
   "source": [
    "# Load datasets\n",
    "df = pd.read_csv('WineQT.csv', sep=',')\n",
    "\n",
    "# Split the data into training, validation, and test sets\n",
    "train, test = train_test_split(df, test_size=0.25, random_state=42)\n",
    "x_train = train.drop([\"quality\"], axis=1).values\n",
    "y_train = train[[\"quality\"]].values.ravel()\n",
    "x_test= test.drop([\"quality\"], axis=1).values\n",
    "y_test = test[[\"quality\"]].values.ravel()\n",
    "\n",
    "# Split the data into training and validation sets\n",
    "x_train, x_val, y_train, y_val = train_test_split(\n",
    "    x_train, y_train, test_size=0.2, random_state=42\n",
    ")\n",
    "\n",
    "# Setting hyperparameter\n",
    "alpha = 0.1\n",
    "model = Lasso(alpha=alpha)\n",
    "model.fit(x_train, y_train)\n",
    "\n",
    "# Predicting\n",
    "y_pred_val = model.predict(x_val)\n",
    "y_pred_test = model.predict(x_test)\n",
    "\n",
    "# Calculating metrics\n",
    "rmse_val = np.sqrt(mean_squared_error(y_val, y_pred_val))\n",
    "rmse_test = np.sqrt(mean_squared_error(y_test, y_pred_test))\n",
    "print(f'RMSE val = {rmse_val}, RMSE test = {rmse_test}')"
   ]
  },
  {
   "cell_type": "markdown",
   "id": "e928ce83",
   "metadata": {},
   "source": [
    "# Running first experiment"
   ]
  },
  {
   "cell_type": "markdown",
   "id": "2fae1084",
   "metadata": {},
   "source": [
    "Create an MLFLow Experiment. It will create a folder with artifact_location= ... name in the mlruns folder"
   ]
  },
  {
   "cell_type": "code",
   "execution_count": 7,
   "id": "bb376f49-e4ce-4309-8acd-eb45553dd430",
   "metadata": {},
   "outputs": [
    {
     "name": "stderr",
     "output_type": "stream",
     "text": [
      "2025/08/19 14:27:04 INFO mlflow.tracking.fluent: Experiment with name 'Wine Quality Regression' does not exist. Creating a new experiment.\n"
     ]
    },
    {
     "data": {
      "text/plain": [
       "<Experiment: artifact_location='mlflow-artifacts:/980501120094527569', creation_time=1755599224007, experiment_id='980501120094527569', last_update_time=1755599224007, lifecycle_stage='active', name='Wine Quality Regression', tags={}>"
      ]
     },
     "execution_count": 7,
     "metadata": {},
     "output_type": "execute_result"
    }
   ],
   "source": [
    "# Set the experiment name - it also creates an experiment if it doesn't exist\n",
    "mlflow.set_experiment(\"Wine Quality Regression\")"
   ]
  },
  {
   "cell_type": "code",
   "execution_count": 8,
   "id": "389d7191-26c1-4858-8259-4a397ef38899",
   "metadata": {},
   "outputs": [
    {
     "name": "stderr",
     "output_type": "stream",
     "text": [
      "Successfully registered model 'lasso_baseline_1'.\n",
      "2025/08/19 14:27:49 INFO mlflow.store.model_registry.abstract_store: Waiting up to 300 seconds for model version to finish creation. Model name: lasso_baseline_1, version 1\n"
     ]
    },
    {
     "name": "stdout",
     "output_type": "stream",
     "text": [
      "🏃 View run lasso_baseline at: http://127.0.0.1:8080/#/experiments/980501120094527569/runs/a89e0db8af594231ac37b978719b3e0f\n",
      "🧪 View experiment at: http://127.0.0.1:8080/#/experiments/980501120094527569\n"
     ]
    },
    {
     "name": "stderr",
     "output_type": "stream",
     "text": [
      "Created version '1' of model 'lasso_baseline_1'.\n"
     ]
    }
   ],
   "source": [
    "# Setting hyperparameters\n",
    "params = {\n",
    "    'alpha': model.alpha\n",
    "}\n",
    "\n",
    "# Start an MLflow run\n",
    "with mlflow.start_run(run_name='lasso_baseline'):\n",
    "    # Log the hyperparameters\n",
    "    mlflow.log_params(params)\n",
    "    # Log the loss metric\n",
    "    mlflow.log_metric(\"rmse_val\", rmse_val)\n",
    "    mlflow.log_metric(\"rmse_test\", rmse_test)\n",
    "    # Set a tag that we can use to remind ourselves what this run was for\n",
    "    mlflow.set_tag(\"model_version\", \"baseline\")\n",
    "\n",
    "    # Log the model\n",
    "    model_info = mlflow.sklearn.log_model(\n",
    "        sk_model=model,\n",
    "        name=\"wine_model_lasso\",\n",
    "        input_example=x_train,\n",
    "        registered_model_name=\"lasso_baseline_1\",\n",
    "    )"
   ]
  },
  {
   "cell_type": "markdown",
   "id": "3cca3d99",
   "metadata": {},
   "source": [
    "# Running MLflow experiments with different models"
   ]
  },
  {
   "cell_type": "code",
   "execution_count": 9,
   "id": "cf275328",
   "metadata": {},
   "outputs": [],
   "source": [
    "def train_model(df: pd.DataFrame, params: dict, model='Lasso'):\n",
    "    \"\"\"\n",
    "    Train a model and return the metrics\n",
    "    \"\"\"\n",
    "    # Split the data into training, validation, and test sets\n",
    "    train, test = train_test_split(df, test_size=0.25, random_state=42)\n",
    "    x_train = train.drop([\"quality\"], axis=1).values\n",
    "    y_train = train[[\"quality\"]].values.ravel()\n",
    "    x_test= test.drop([\"quality\"], axis=1).values\n",
    "    y_test = test[[\"quality\"]].values.ravel()\n",
    "\n",
    "    # Split the data into training and validation sets\n",
    "    x_train, x_val, y_train, y_val = train_test_split(\n",
    "        x_train, y_train, test_size=0.2, random_state=42\n",
    "    )\n",
    "\n",
    "    if model == 'Lasso':\n",
    "        model = Lasso(**params)\n",
    "    elif model == 'CatBoost':\n",
    "        model = CatBoostRegressor(**params)\n",
    "    else:\n",
    "        raise ValueError(f\"Model {model} not supported\")\n",
    "\n",
    "    # Fitting the model\n",
    "    model.fit(x_train, y_train)\n",
    "    # Predicting\n",
    "    y_pred_val = model.predict(x_val)\n",
    "    y_pred_test = model.predict(x_test)\n",
    "\n",
    "    # Calculating metrics\n",
    "    rmse_val = np.sqrt(mean_squared_error(y_val, y_pred_val))\n",
    "    rmse_test = np.sqrt(mean_squared_error(y_test, y_pred_test))\n",
    "    print(f'RMSE val = {rmse_val}, RMSE test = {rmse_test}')\n",
    "    return model,rmse_val, rmse_test"
   ]
  },
  {
   "cell_type": "code",
   "execution_count": 10,
   "id": "a0f3ff19",
   "metadata": {},
   "outputs": [],
   "source": [
    "def log_run(\n",
    "        run_name: str,\n",
    "        params: dict,\n",
    "        metrics: dict,\n",
    "        tags: dict,\n",
    "        trained_model,\n",
    "        model_type='Lasso',\n",
    "        input_example=None,\n",
    "        registered_model_name=None):\n",
    "    \"\"\"\n",
    "    Log a run to MLflow\n",
    "    \"\"\"\n",
    "    mlflow.log_params(params)\n",
    "    mlflow.log_metrics(metrics)\n",
    "    mlflow.set_tag(\"model_version\", run_name)\n",
    "    mlflow.set_tags(tags)\n",
    "\n",
    "    if model_type == 'Lasso':\n",
    "        # Log sklearn model\n",
    "        model_info = mlflow.sklearn.log_model(\n",
    "            sk_model=trained_model,\n",
    "            artifact_path=\"wine_model_lasso\",\n",
    "            input_example=input_example,\n",
    "            registered_model_name=registered_model_name,\n",
    "        )\n",
    "    elif model_type == 'CatBoost':\n",
    "        # Log CatBoost model\n",
    "        model_info = mlflow.catboost.log_model(\n",
    "            cb_model=trained_model,\n",
    "            artifact_path=\"wine_model_catboost\",\n",
    "            input_example=input_example,\n",
    "            registered_model_name=registered_model_name,\n",
    "        )\n",
    "    else:\n",
    "        raise ValueError(f\"Model type {model_type} not supported\")\n",
    "    \n",
    "    return model_info"
   ]
  },
  {
   "cell_type": "markdown",
   "id": "f652f8f6",
   "metadata": {},
   "source": [
    "### Running LASSO"
   ]
  },
  {
   "cell_type": "code",
   "execution_count": 11,
   "id": "782b5edc",
   "metadata": {},
   "outputs": [
    {
     "name": "stderr",
     "output_type": "stream",
     "text": [
      "2025/08/19 14:30:47 WARNING mlflow.models.model: `artifact_path` is deprecated. Please use `name` instead.\n"
     ]
    },
    {
     "name": "stdout",
     "output_type": "stream",
     "text": [
      "RMSE val = 0.6356127117266147, RMSE test = 0.638554128638353\n",
      "Model logged with URI: models:/m-cd9c0c005af146b8abaca7b26acf4d9b\n",
      "RMSE validation: 0.6356\n",
      "RMSE test: 0.6386\n",
      "🏃 View run lasso_baseline at: http://127.0.0.1:8080/#/experiments/980501120094527569/runs/0097e4f10f1646dd888859fba62b0abb\n",
      "🧪 View experiment at: http://127.0.0.1:8080/#/experiments/980501120094527569\n"
     ]
    }
   ],
   "source": [
    "# Setting hyperparameters\n",
    "\n",
    "lasso_params = {\n",
    "    'alpha': 0.1,\n",
    "    'max_iter': 1000,\n",
    "    'random_state': 42\n",
    "}\n",
    "\n",
    "# Train the model\n",
    "trained_model, rmse_val, rmse_test = train_model(df, lasso_params, model='Lasso')\n",
    "\n",
    "# Start an MLflow run\n",
    "with mlflow.start_run(run_name='lasso_baseline'):\n",
    "    # Prepare metrics and tags\n",
    "    metrics = {\n",
    "        'rmse_val': rmse_val,\n",
    "        'rmse_test': rmse_test\n",
    "    }\n",
    "    \n",
    "    # Let's add some tags to the run\n",
    "    tags = {\n",
    "        'model_version': 'baseline',\n",
    "        'experiment_type': 'regression',\n",
    "    }\n",
    "    \n",
    "    # Log everything using our function\n",
    "    model_info = log_run(\n",
    "        run_name=\"lasso_baseline\",\n",
    "        params=lasso_params,\n",
    "        metrics=metrics,\n",
    "        tags=tags,\n",
    "        trained_model=trained_model,\n",
    "        model_type='Lasso',\n",
    "        input_example=x_train  # Make sure x_train is available from train_model\n",
    "    )\n",
    "    \n",
    "    print(f\"Model logged with URI: {model_info.model_uri}\")\n",
    "    print(f\"RMSE validation: {rmse_val:.4f}\")\n",
    "    print(f\"RMSE test: {rmse_test:.4f}\")"
   ]
  },
  {
   "cell_type": "code",
   "execution_count": 12,
   "id": "57be525d",
   "metadata": {},
   "outputs": [
    {
     "name": "stderr",
     "output_type": "stream",
     "text": [
      "2025/08/19 14:33:19 WARNING mlflow.models.model: `artifact_path` is deprecated. Please use `name` instead.\n"
     ]
    },
    {
     "name": "stdout",
     "output_type": "stream",
     "text": [
      "RMSE val = 0.5558687336128091, RMSE test = 0.5729224664412881\n"
     ]
    },
    {
     "name": "stderr",
     "output_type": "stream",
     "text": [
      "\u001b[31m2025/08/19 14:33:20 WARNING mlflow.models.model: Model logged without a signature and input example. Please set `input_example` parameter when logging the model to auto infer the model signature.\u001b[0m\n"
     ]
    },
    {
     "name": "stdout",
     "output_type": "stream",
     "text": [
      "Model logged with URI: models:/m-81e3db93e807433895f306b8140b9bc4\n",
      "RMSE validation: 0.5559\n",
      "RMSE test: 0.5729\n",
      "🏃 View run catboost_baseline at: http://127.0.0.1:8080/#/experiments/980501120094527569/runs/f426c0014e634410ab587649d87f0022\n",
      "🧪 View experiment at: http://127.0.0.1:8080/#/experiments/980501120094527569\n"
     ]
    }
   ],
   "source": [
    "# Setting hyperparameters for CatBoost\n",
    "catboost_params = {\n",
    "    'iterations': 100,\n",
    "    'learning_rate': 0.1,\n",
    "    'depth': 6,\n",
    "    'random_seed': 42,\n",
    "    'verbose': False\n",
    "}\n",
    "\n",
    "# Train the model\n",
    "trained_model, rmse_val, rmse_test = train_model(df, catboost_params, model='CatBoost')\n",
    "\n",
    "# Start an MLflow run\n",
    "with mlflow.start_run(run_name='catboost_baseline'):\n",
    "    # Prepare metrics and tags\n",
    "    metrics = {\n",
    "        'rmse_val': rmse_val,\n",
    "        'rmse_test': rmse_test\n",
    "    }\n",
    "    \n",
    "    tags = {\n",
    "        'model_version': 'baseline',\n",
    "        'experiment_type': 'regression',\n",
    "        'data_version': 'v1',\n",
    "        'algorithm': 'gradient_boosting'\n",
    "    }\n",
    "    \n",
    "    # Log everything using our function\n",
    "    model_info = log_run(\n",
    "        run_name=\"catboost_baseline\",\n",
    "        params=catboost_params,\n",
    "        metrics=metrics,\n",
    "        tags=tags,\n",
    "        trained_model=trained_model,\n",
    "        model_type='CatBoost',\n",
    "    )\n",
    "    \n",
    "    print(f\"Model logged with URI: {model_info.model_uri}\")\n",
    "    print(f\"RMSE validation: {rmse_val:.4f}\")\n",
    "    print(f\"RMSE test: {rmse_test:.4f}\")"
   ]
  },
  {
   "cell_type": "markdown",
   "id": "c316e4dd",
   "metadata": {},
   "source": [
    "# Searching for the best model"
   ]
  },
  {
   "cell_type": "code",
   "execution_count": 11,
   "id": "596c22e5-2cef-401b-a44f-64200b45552f",
   "metadata": {},
   "outputs": [
    {
     "name": "stdout",
     "output_type": "stream",
     "text": [
      "Experiment 'Wine Quality Regression' has ID: 253826154506420569\n"
     ]
    }
   ],
   "source": [
    "# Get experiment by name\n",
    "experiment_name = \"Wine Quality Regression\"\n",
    "experiment = mlflow.get_experiment_by_name(experiment_name)\n",
    "\n",
    "if experiment:\n",
    "    experiment_id = experiment.experiment_id\n",
    "    print(f\"Experiment '{experiment_name}' has ID: {experiment_id}\")\n",
    "else:\n",
    "    print(f\"Experiment '{experiment_name}' not found\")"
   ]
  },
  {
   "cell_type": "code",
   "execution_count": 21,
   "id": "982e8a2c-bccf-4833-98fb-5cfd88e2eeba",
   "metadata": {},
   "outputs": [],
   "source": [
    "# Find high-performing models across experiments\n",
    "top_models = mlflow.search_logged_models(\n",
    "    experiment_ids=[str(experiment_id)],\n",
    "    filter_string=\"metrics.rmse_test < 0.9\",\n",
    "    order_by=[{\"field_name\": \"metrics.rmse_val\", \"ascending\": True}],\n",
    ")\n",
    "best_model = top_models.iloc[0]"
   ]
  },
  {
   "cell_type": "code",
   "execution_count": 22,
   "id": "f578d1f5-5362-4160-bf13-e71b1e91352b",
   "metadata": {},
   "outputs": [
    {
     "data": {
      "text/html": [
       "<div>\n",
       "<style scoped>\n",
       "    .dataframe tbody tr th:only-of-type {\n",
       "        vertical-align: middle;\n",
       "    }\n",
       "\n",
       "    .dataframe tbody tr th {\n",
       "        vertical-align: top;\n",
       "    }\n",
       "\n",
       "    .dataframe thead th {\n",
       "        text-align: right;\n",
       "    }\n",
       "</style>\n",
       "<table border=\"1\" class=\"dataframe\">\n",
       "  <thead>\n",
       "    <tr style=\"text-align: right;\">\n",
       "      <th></th>\n",
       "      <th>artifact_location</th>\n",
       "      <th>creation_timestamp</th>\n",
       "      <th>experiment_id</th>\n",
       "      <th>last_updated_timestamp</th>\n",
       "      <th>metrics</th>\n",
       "      <th>model_id</th>\n",
       "      <th>model_type</th>\n",
       "      <th>name</th>\n",
       "      <th>params</th>\n",
       "      <th>source_run_id</th>\n",
       "      <th>status</th>\n",
       "      <th>status_message</th>\n",
       "      <th>tags</th>\n",
       "    </tr>\n",
       "  </thead>\n",
       "  <tbody>\n",
       "    <tr>\n",
       "      <th>0</th>\n",
       "      <td>mlflow-artifacts:/253826154506420569/models/m-...</td>\n",
       "      <td>1755598652618</td>\n",
       "      <td>253826154506420569</td>\n",
       "      <td>1755598653674</td>\n",
       "      <td>[&lt;Metric: dataset_digest=None, dataset_name=No...</td>\n",
       "      <td>m-c20d70c629ef4099b308680e30d44dc3</td>\n",
       "      <td></td>\n",
       "      <td>wine_model_catboost</td>\n",
       "      <td>{'depth': '6', 'learning_rate': '0.1', 'verbos...</td>\n",
       "      <td>0e3e37bcc73d455b824e8d021ac3b0cc</td>\n",
       "      <td>READY</td>\n",
       "      <td></td>\n",
       "      <td>{'mlflow.user': 'timurbikmuhametov', 'mlflow.s...</td>\n",
       "    </tr>\n",
       "    <tr>\n",
       "      <th>1</th>\n",
       "      <td>mlflow-artifacts:/253826154506420569/models/m-...</td>\n",
       "      <td>1755598651571</td>\n",
       "      <td>253826154506420569</td>\n",
       "      <td>1755598652453</td>\n",
       "      <td>[&lt;Metric: dataset_digest=None, dataset_name=No...</td>\n",
       "      <td>m-e218d3503c184427bbdb2f4f46b96dfb</td>\n",
       "      <td></td>\n",
       "      <td>wine_model_lasso</td>\n",
       "      <td>{'random_state': '42', 'max_iter': '1000', 'al...</td>\n",
       "      <td>ae542ea41b72470a8bf268408b13087f</td>\n",
       "      <td>READY</td>\n",
       "      <td></td>\n",
       "      <td>{'mlflow.user': 'timurbikmuhametov', 'mlflow.s...</td>\n",
       "    </tr>\n",
       "    <tr>\n",
       "      <th>2</th>\n",
       "      <td>mlflow-artifacts:/253826154506420569/models/m-...</td>\n",
       "      <td>1755598650524</td>\n",
       "      <td>253826154506420569</td>\n",
       "      <td>1755598651493</td>\n",
       "      <td>[&lt;Metric: dataset_digest=None, dataset_name=No...</td>\n",
       "      <td>m-0252824ac5ba4db697dd61089d324603</td>\n",
       "      <td></td>\n",
       "      <td>wine_model_lasso</td>\n",
       "      <td>{'alpha': '0.1'}</td>\n",
       "      <td>3504206dacd147999652dd3a0c0a529e</td>\n",
       "      <td>READY</td>\n",
       "      <td></td>\n",
       "      <td>{'mlflow.user': 'timurbikmuhametov', 'mlflow.m...</td>\n",
       "    </tr>\n",
       "    <tr>\n",
       "      <th>3</th>\n",
       "      <td>mlflow-artifacts:/253826154506420569/models/m-...</td>\n",
       "      <td>1755598140354</td>\n",
       "      <td>253826154506420569</td>\n",
       "      <td>1755598141227</td>\n",
       "      <td>[&lt;Metric: dataset_digest=None, dataset_name=No...</td>\n",
       "      <td>m-140cb057f327474295042ef4426fff64</td>\n",
       "      <td></td>\n",
       "      <td>wine_model_lasso</td>\n",
       "      <td>{'random_state': '42', 'max_iter': '1000', 'al...</td>\n",
       "      <td>6dc98f84eb3244a9990e122c48b20547</td>\n",
       "      <td>READY</td>\n",
       "      <td></td>\n",
       "      <td>{'mlflow.user': 'timurbikmuhametov', 'mlflow.s...</td>\n",
       "    </tr>\n",
       "    <tr>\n",
       "      <th>4</th>\n",
       "      <td>mlflow-artifacts:/253826154506420569/models/m-...</td>\n",
       "      <td>1755598121990</td>\n",
       "      <td>253826154506420569</td>\n",
       "      <td>1755598123034</td>\n",
       "      <td>[&lt;Metric: dataset_digest=None, dataset_name=No...</td>\n",
       "      <td>m-16764069e6e94a57a5ed5d10cd7c833d</td>\n",
       "      <td></td>\n",
       "      <td>wine_model_lasso</td>\n",
       "      <td>{'alpha': '0.1'}</td>\n",
       "      <td>5b05dbda731547a7b16d091b2ae48713</td>\n",
       "      <td>READY</td>\n",
       "      <td></td>\n",
       "      <td>{'mlflow.user': 'timurbikmuhametov', 'mlflow.m...</td>\n",
       "    </tr>\n",
       "  </tbody>\n",
       "</table>\n",
       "</div>"
      ],
      "text/plain": [
       "                                   artifact_location  creation_timestamp  \\\n",
       "0  mlflow-artifacts:/253826154506420569/models/m-...       1755598652618   \n",
       "1  mlflow-artifacts:/253826154506420569/models/m-...       1755598651571   \n",
       "2  mlflow-artifacts:/253826154506420569/models/m-...       1755598650524   \n",
       "3  mlflow-artifacts:/253826154506420569/models/m-...       1755598140354   \n",
       "4  mlflow-artifacts:/253826154506420569/models/m-...       1755598121990   \n",
       "\n",
       "        experiment_id  last_updated_timestamp  \\\n",
       "0  253826154506420569           1755598653674   \n",
       "1  253826154506420569           1755598652453   \n",
       "2  253826154506420569           1755598651493   \n",
       "3  253826154506420569           1755598141227   \n",
       "4  253826154506420569           1755598123034   \n",
       "\n",
       "                                             metrics  \\\n",
       "0  [<Metric: dataset_digest=None, dataset_name=No...   \n",
       "1  [<Metric: dataset_digest=None, dataset_name=No...   \n",
       "2  [<Metric: dataset_digest=None, dataset_name=No...   \n",
       "3  [<Metric: dataset_digest=None, dataset_name=No...   \n",
       "4  [<Metric: dataset_digest=None, dataset_name=No...   \n",
       "\n",
       "                             model_id model_type                 name  \\\n",
       "0  m-c20d70c629ef4099b308680e30d44dc3             wine_model_catboost   \n",
       "1  m-e218d3503c184427bbdb2f4f46b96dfb                wine_model_lasso   \n",
       "2  m-0252824ac5ba4db697dd61089d324603                wine_model_lasso   \n",
       "3  m-140cb057f327474295042ef4426fff64                wine_model_lasso   \n",
       "4  m-16764069e6e94a57a5ed5d10cd7c833d                wine_model_lasso   \n",
       "\n",
       "                                              params  \\\n",
       "0  {'depth': '6', 'learning_rate': '0.1', 'verbos...   \n",
       "1  {'random_state': '42', 'max_iter': '1000', 'al...   \n",
       "2                                   {'alpha': '0.1'}   \n",
       "3  {'random_state': '42', 'max_iter': '1000', 'al...   \n",
       "4                                   {'alpha': '0.1'}   \n",
       "\n",
       "                      source_run_id status status_message  \\\n",
       "0  0e3e37bcc73d455b824e8d021ac3b0cc  READY                  \n",
       "1  ae542ea41b72470a8bf268408b13087f  READY                  \n",
       "2  3504206dacd147999652dd3a0c0a529e  READY                  \n",
       "3  6dc98f84eb3244a9990e122c48b20547  READY                  \n",
       "4  5b05dbda731547a7b16d091b2ae48713  READY                  \n",
       "\n",
       "                                                tags  \n",
       "0  {'mlflow.user': 'timurbikmuhametov', 'mlflow.s...  \n",
       "1  {'mlflow.user': 'timurbikmuhametov', 'mlflow.s...  \n",
       "2  {'mlflow.user': 'timurbikmuhametov', 'mlflow.m...  \n",
       "3  {'mlflow.user': 'timurbikmuhametov', 'mlflow.s...  \n",
       "4  {'mlflow.user': 'timurbikmuhametov', 'mlflow.m...  "
      ]
     },
     "execution_count": 22,
     "metadata": {},
     "output_type": "execute_result"
    }
   ],
   "source": [
    "top_models"
   ]
  },
  {
   "cell_type": "code",
   "execution_count": 23,
   "id": "0b376d8c-619d-4529-ac96-f9d7b7faa80e",
   "metadata": {},
   "outputs": [
    {
     "data": {
      "text/plain": [
       "artifact_location         mlflow-artifacts:/253826154506420569/models/m-...\n",
       "creation_timestamp                                            1755598652618\n",
       "experiment_id                                            253826154506420569\n",
       "last_updated_timestamp                                        1755598653674\n",
       "metrics                   [<Metric: dataset_digest=None, dataset_name=No...\n",
       "model_id                                 m-c20d70c629ef4099b308680e30d44dc3\n",
       "model_type                                                                 \n",
       "name                                                    wine_model_catboost\n",
       "params                    {'depth': '6', 'learning_rate': '0.1', 'verbos...\n",
       "source_run_id                              0e3e37bcc73d455b824e8d021ac3b0cc\n",
       "status                                                                READY\n",
       "status_message                                                             \n",
       "tags                      {'mlflow.user': 'timurbikmuhametov', 'mlflow.s...\n",
       "Name: 0, dtype: object"
      ]
     },
     "execution_count": 23,
     "metadata": {},
     "output_type": "execute_result"
    }
   ],
   "source": [
    "best_model"
   ]
  },
  {
   "cell_type": "code",
   "execution_count": 24,
   "id": "ecbd7125-e7cd-4b34-9941-b446376d222f",
   "metadata": {},
   "outputs": [
    {
     "data": {
      "application/vnd.jupyter.widget-view+json": {
       "model_id": "3f17db6297fd4aefae7aeec1116a6b8f",
       "version_major": 2,
       "version_minor": 0
      },
      "text/plain": [
       "Downloading artifacts:   0%|          | 0/5 [00:00<?, ?it/s]"
      ]
     },
     "metadata": {},
     "output_type": "display_data"
    }
   ],
   "source": [
    "# loaded_model = mlflow.pyfunc.load_model(f\"mlflow-artifacts:/{best_model.experiment_id}/models/{best_model.model_id}/artifacts\")\n",
    "loaded_model = mlflow.pyfunc.load_model(f\"{best_model.artifact_location}\")"
   ]
  },
  {
   "cell_type": "code",
   "execution_count": 25,
   "id": "2e026157-2335-4c58-a9c2-e4a301cedec6",
   "metadata": {},
   "outputs": [
    {
     "data": {
      "text/plain": [
       "mlflow.pyfunc.loaded_model:\n",
       "  artifact_path: mlflow-artifacts:/253826154506420569/models/m-c20d70c629ef4099b308680e30d44dc3/artifacts\n",
       "  flavor: mlflow.catboost\n",
       "  run_id: 0e3e37bcc73d455b824e8d021ac3b0cc"
      ]
     },
     "execution_count": 25,
     "metadata": {},
     "output_type": "execute_result"
    }
   ],
   "source": [
    "loaded_model"
   ]
  },
  {
   "cell_type": "code",
   "execution_count": 26,
   "id": "2f69f4bd-0568-494e-af03-6e4bc5799a72",
   "metadata": {},
   "outputs": [
    {
     "data": {
      "application/vnd.jupyter.widget-view+json": {
       "model_id": "95e87bda7524439b94fd3af9ae31c7c6",
       "version_major": 2,
       "version_minor": 0
      },
      "text/plain": [
       "Downloading artifacts:   0%|          | 0/5 [00:00<?, ?it/s]"
      ]
     },
     "metadata": {},
     "output_type": "display_data"
    }
   ],
   "source": [
    "# Load the best model directly\n",
    "loaded_model = mlflow.pyfunc.load_model(f\"models:/{best_model.model_id}\")"
   ]
  },
  {
   "cell_type": "code",
   "execution_count": 27,
   "id": "1ce4f412-4959-4dfd-a485-1a47c5033c53",
   "metadata": {},
   "outputs": [
    {
     "data": {
      "text/plain": [
       "array([5.26025073, 4.9595734 , 5.36203291, 5.23560873, 6.07836592,\n",
       "       6.60682351, 5.31153175, 5.12167314, 5.78321961, 5.03908073,\n",
       "       6.41653014, 6.29602144, 5.34480938, 6.28064416, 5.1472709 ,\n",
       "       5.06744798, 5.7992744 , 5.45268741, 5.1313353 , 6.91733278,\n",
       "       6.51237718, 6.06400099, 5.09038892, 6.75156149, 5.50293257,\n",
       "       5.30706481, 6.33206477, 6.17691675, 5.02974341, 5.64910286,\n",
       "       5.35402858, 5.64737727, 6.48740719, 5.8854732 , 5.46302839,\n",
       "       5.37344437, 5.52181087, 6.42136897, 6.5928192 , 5.77839632,\n",
       "       6.5483293 , 5.15017947, 6.16860697, 5.32383387, 5.13514657,\n",
       "       5.23559906, 5.55455713, 6.05801224, 4.89755257, 5.65701363,\n",
       "       6.78133425, 5.16450426, 5.70759668, 6.29083085, 5.55479106,\n",
       "       6.48507469, 5.69471691, 5.78451992, 6.08785042, 5.55812174,\n",
       "       5.18716616, 6.0141601 , 6.02013041, 6.40557773, 6.57592665,\n",
       "       5.58508846, 6.87301101, 5.19324708, 5.25059116, 5.37486675,\n",
       "       5.72759617, 5.45203135, 5.69588958, 5.64892336, 5.08725385,\n",
       "       5.19749361, 5.70384424, 6.11097513, 5.3098361 , 5.75098766,\n",
       "       5.6376899 , 5.63727483, 5.83948408, 5.30367529, 5.35099204,\n",
       "       6.14776956, 4.58495602, 5.51470093, 6.03050298, 5.53058098,\n",
       "       4.80612204, 5.89640892, 5.11940119, 5.15427652, 4.90632828,\n",
       "       5.25893964, 5.33841786, 6.4288356 , 5.70244761, 5.56237997,\n",
       "       5.93450744, 6.25455714, 5.22766977, 5.97889762, 5.16938841,\n",
       "       5.10374063, 6.12353684, 6.45921068, 5.74167542, 6.32206069,\n",
       "       6.1349913 , 4.93654385, 5.03414265, 6.38613091, 5.16739616,\n",
       "       5.22597595, 5.73729065, 6.23099921, 5.55454636, 5.10593905,\n",
       "       5.16891337, 5.14834629, 5.35647932, 5.52607876, 5.06878873,\n",
       "       5.69690377, 5.85961293, 5.62290044, 5.13026387, 6.14594202,\n",
       "       5.12833731, 5.05490151, 6.81908009, 5.82486   , 6.26469428,\n",
       "       4.76615994, 4.76759007, 5.39031033, 5.48172814, 5.81125682,\n",
       "       6.71088693, 5.37257717, 5.06340078, 5.0082377 , 6.4017613 ,\n",
       "       5.3139081 , 4.72203695, 5.36958219, 4.96922141, 5.19632844,\n",
       "       6.55248065, 5.42071688, 6.48002319, 5.09015642, 5.93614377,\n",
       "       5.32007853, 5.36958219, 5.70583823, 6.34725566, 5.70229197,\n",
       "       5.35007783, 5.14680567, 5.70961265, 5.74370483, 6.09747774,\n",
       "       5.13714403, 5.95736594, 5.78173582, 5.70792552, 4.99256953,\n",
       "       6.30695801, 5.69406975, 5.44554148, 5.4724162 , 5.37336928,\n",
       "       5.12428032, 6.34546716, 5.85122004, 5.79520265, 5.22876515,\n",
       "       6.38272112, 5.73058178, 6.20244481, 5.27405585, 5.11262605,\n",
       "       5.04669921, 6.29780818, 5.13513852, 6.09749792, 5.52057997,\n",
       "       5.88264047, 5.92152636, 6.71603492, 5.54470478, 5.93303047,\n",
       "       5.7131535 , 5.0575987 , 6.46161594, 6.92061703, 6.04011749,\n",
       "       5.34833354, 5.8874418 , 5.24448705, 5.55746281, 5.97622467,\n",
       "       6.13206607, 5.23067722, 5.16470836, 6.23771992, 6.38027405,\n",
       "       5.05648584, 6.35085114, 5.46422153, 5.731024  , 5.29741701,\n",
       "       5.20104615, 5.84450009, 5.0445763 , 6.62505313, 5.71974851,\n",
       "       5.42259437, 5.67346633, 5.10272903, 5.41902396, 5.258734  ,\n",
       "       6.13274658, 5.4654616 , 5.71805114, 5.82381296, 5.90167657,\n",
       "       7.05824607, 6.68643321, 4.91371629, 5.01763868, 5.83857389,\n",
       "       6.9013396 , 5.23738986, 5.70909838, 5.78731014, 5.35187549,\n",
       "       6.42356888, 5.70995607, 6.09006766, 4.93181033, 5.32157985,\n",
       "       5.79696505, 5.33071933, 5.83661993, 5.80628838, 5.30692699,\n",
       "       5.19619808, 4.96366659, 5.89013982, 5.43140892, 5.15337485,\n",
       "       6.07680408, 6.24437912, 5.52768905, 5.63812516, 5.34508105,\n",
       "       5.69690377, 5.7131535 , 6.94446661, 5.66987633, 4.98112463,\n",
       "       4.98586558, 5.24612649, 6.28187124, 5.18920493, 5.92518353,\n",
       "       5.63967276, 6.85485175, 5.15314853, 6.33158493, 4.99309189,\n",
       "       5.65854935, 5.1321818 , 5.43140892, 5.5323188 , 5.35118969,\n",
       "       5.21410883, 5.66376091, 5.09121931, 5.00093243, 5.5004764 ,\n",
       "       6.52867756])"
      ]
     },
     "execution_count": 27,
     "metadata": {},
     "output_type": "execute_result"
    }
   ],
   "source": [
    "loaded_model.predict(x_test)"
   ]
  },
  {
   "cell_type": "markdown",
   "id": "fdb5f2d0",
   "metadata": {},
   "source": [
    "To find the best model, we need an experiment ID for which we want to find the model"
   ]
  },
  {
   "cell_type": "code",
   "execution_count": 10,
   "id": "e22cd04a",
   "metadata": {},
   "outputs": [
    {
     "name": "stdout",
     "output_type": "stream",
     "text": [
      "Experiment ID: 726012541908738036, Name: Wine Quality Regression\n",
      "Experiment ID: 0, Name: Default\n"
     ]
    }
   ],
   "source": [
    "# Get all experiments\n",
    "experiments = mlflow.search_experiments()\n",
    "\n",
    "for exp in experiments:\n",
    "    print(f\"Experiment ID: {exp.experiment_id}, Name: {exp.name}\")"
   ]
  },
  {
   "cell_type": "code",
   "execution_count": 29,
   "id": "13fd49bb",
   "metadata": {},
   "outputs": [
    {
     "data": {
      "text/html": [
       "<div>\n",
       "<style scoped>\n",
       "    .dataframe tbody tr th:only-of-type {\n",
       "        vertical-align: middle;\n",
       "    }\n",
       "\n",
       "    .dataframe tbody tr th {\n",
       "        vertical-align: top;\n",
       "    }\n",
       "\n",
       "    .dataframe thead th {\n",
       "        text-align: right;\n",
       "    }\n",
       "</style>\n",
       "<table border=\"1\" class=\"dataframe\">\n",
       "  <thead>\n",
       "    <tr style=\"text-align: right;\">\n",
       "      <th></th>\n",
       "      <th>run_id</th>\n",
       "      <th>experiment_id</th>\n",
       "      <th>status</th>\n",
       "      <th>artifact_uri</th>\n",
       "      <th>start_time</th>\n",
       "      <th>end_time</th>\n",
       "      <th>metrics.rmse_val</th>\n",
       "      <th>metrics.rmse_test</th>\n",
       "      <th>params.iterations</th>\n",
       "      <th>params.depth</th>\n",
       "      <th>...</th>\n",
       "      <th>params.random_state</th>\n",
       "      <th>params.alpha</th>\n",
       "      <th>tags.algorithm</th>\n",
       "      <th>tags.mlflow.source.type</th>\n",
       "      <th>tags.data_version</th>\n",
       "      <th>tags.experiment_type</th>\n",
       "      <th>tags.mlflow.user</th>\n",
       "      <th>tags.mlflow.runName</th>\n",
       "      <th>tags.mlflow.source.name</th>\n",
       "      <th>tags.model_version</th>\n",
       "    </tr>\n",
       "  </thead>\n",
       "  <tbody>\n",
       "    <tr>\n",
       "      <th>0</th>\n",
       "      <td>7af575228fd94f52a2926e220a2da5d2</td>\n",
       "      <td>726012541908738036</td>\n",
       "      <td>FINISHED</td>\n",
       "      <td>mlflow-artifacts:/726012541908738036/7af575228...</td>\n",
       "      <td>2025-08-19 09:09:50.304000+00:00</td>\n",
       "      <td>2025-08-19 09:09:51.605000+00:00</td>\n",
       "      <td>0.555869</td>\n",
       "      <td>0.572922</td>\n",
       "      <td>100</td>\n",
       "      <td>6</td>\n",
       "      <td>...</td>\n",
       "      <td>None</td>\n",
       "      <td>None</td>\n",
       "      <td>gradient_boosting</td>\n",
       "      <td>LOCAL</td>\n",
       "      <td>v1</td>\n",
       "      <td>regression</td>\n",
       "      <td>timurbikmuhametov</td>\n",
       "      <td>catboost_baseline</td>\n",
       "      <td>/Users/timurbikmuhametov/miniconda3/envs/maist...</td>\n",
       "      <td>baseline</td>\n",
       "    </tr>\n",
       "    <tr>\n",
       "      <th>1</th>\n",
       "      <td>64386ede47074b06b5474942a70009ca</td>\n",
       "      <td>726012541908738036</td>\n",
       "      <td>FINISHED</td>\n",
       "      <td>mlflow-artifacts:/726012541908738036/64386ede4...</td>\n",
       "      <td>2025-08-19 09:32:15.188000+00:00</td>\n",
       "      <td>2025-08-19 09:32:16.181000+00:00</td>\n",
       "      <td>0.635613</td>\n",
       "      <td>0.638554</td>\n",
       "      <td>None</td>\n",
       "      <td>None</td>\n",
       "      <td>...</td>\n",
       "      <td>42</td>\n",
       "      <td>0.1</td>\n",
       "      <td>None</td>\n",
       "      <td>LOCAL</td>\n",
       "      <td>None</td>\n",
       "      <td>regression</td>\n",
       "      <td>timurbikmuhametov</td>\n",
       "      <td>lasso_baseline</td>\n",
       "      <td>/Users/timurbikmuhametov/miniconda3/envs/maist...</td>\n",
       "      <td>baseline</td>\n",
       "    </tr>\n",
       "    <tr>\n",
       "      <th>2</th>\n",
       "      <td>8f1dbc55bfea453091c4e18c18f81401</td>\n",
       "      <td>726012541908738036</td>\n",
       "      <td>FINISHED</td>\n",
       "      <td>mlflow-artifacts:/726012541908738036/8f1dbc55b...</td>\n",
       "      <td>2025-08-19 09:32:13.973000+00:00</td>\n",
       "      <td>2025-08-19 09:32:15.169000+00:00</td>\n",
       "      <td>0.635613</td>\n",
       "      <td>0.638554</td>\n",
       "      <td>None</td>\n",
       "      <td>None</td>\n",
       "      <td>...</td>\n",
       "      <td>None</td>\n",
       "      <td>0.1</td>\n",
       "      <td>None</td>\n",
       "      <td>LOCAL</td>\n",
       "      <td>None</td>\n",
       "      <td>None</td>\n",
       "      <td>timurbikmuhametov</td>\n",
       "      <td>lasso_baseline</td>\n",
       "      <td>/Users/timurbikmuhametov/miniconda3/envs/maist...</td>\n",
       "      <td>baseline</td>\n",
       "    </tr>\n",
       "    <tr>\n",
       "      <th>3</th>\n",
       "      <td>f522cecef12544c4a64dcf5c7407484f</td>\n",
       "      <td>726012541908738036</td>\n",
       "      <td>FINISHED</td>\n",
       "      <td>mlflow-artifacts:/726012541908738036/f522cecef...</td>\n",
       "      <td>2025-08-19 09:31:50.755000+00:00</td>\n",
       "      <td>2025-08-19 09:31:51.749000+00:00</td>\n",
       "      <td>0.635613</td>\n",
       "      <td>0.638554</td>\n",
       "      <td>None</td>\n",
       "      <td>None</td>\n",
       "      <td>...</td>\n",
       "      <td>42</td>\n",
       "      <td>0.1</td>\n",
       "      <td>None</td>\n",
       "      <td>LOCAL</td>\n",
       "      <td>None</td>\n",
       "      <td>regression</td>\n",
       "      <td>timurbikmuhametov</td>\n",
       "      <td>lasso_baseline</td>\n",
       "      <td>/Users/timurbikmuhametov/miniconda3/envs/maist...</td>\n",
       "      <td>baseline</td>\n",
       "    </tr>\n",
       "    <tr>\n",
       "      <th>4</th>\n",
       "      <td>09fd041c2c47487ab9ebd17f229d91b5</td>\n",
       "      <td>726012541908738036</td>\n",
       "      <td>FINISHED</td>\n",
       "      <td>mlflow-artifacts:/726012541908738036/09fd041c2...</td>\n",
       "      <td>2025-08-19 09:31:49.336000+00:00</td>\n",
       "      <td>2025-08-19 09:31:50.734000+00:00</td>\n",
       "      <td>0.635613</td>\n",
       "      <td>0.638554</td>\n",
       "      <td>None</td>\n",
       "      <td>None</td>\n",
       "      <td>...</td>\n",
       "      <td>None</td>\n",
       "      <td>0.1</td>\n",
       "      <td>None</td>\n",
       "      <td>LOCAL</td>\n",
       "      <td>None</td>\n",
       "      <td>None</td>\n",
       "      <td>timurbikmuhametov</td>\n",
       "      <td>lasso_baseline</td>\n",
       "      <td>/Users/timurbikmuhametov/miniconda3/envs/maist...</td>\n",
       "      <td>baseline</td>\n",
       "    </tr>\n",
       "  </tbody>\n",
       "</table>\n",
       "<p>5 rows × 24 columns</p>\n",
       "</div>"
      ],
      "text/plain": [
       "                             run_id       experiment_id    status  \\\n",
       "0  7af575228fd94f52a2926e220a2da5d2  726012541908738036  FINISHED   \n",
       "1  64386ede47074b06b5474942a70009ca  726012541908738036  FINISHED   \n",
       "2  8f1dbc55bfea453091c4e18c18f81401  726012541908738036  FINISHED   \n",
       "3  f522cecef12544c4a64dcf5c7407484f  726012541908738036  FINISHED   \n",
       "4  09fd041c2c47487ab9ebd17f229d91b5  726012541908738036  FINISHED   \n",
       "\n",
       "                                        artifact_uri  \\\n",
       "0  mlflow-artifacts:/726012541908738036/7af575228...   \n",
       "1  mlflow-artifacts:/726012541908738036/64386ede4...   \n",
       "2  mlflow-artifacts:/726012541908738036/8f1dbc55b...   \n",
       "3  mlflow-artifacts:/726012541908738036/f522cecef...   \n",
       "4  mlflow-artifacts:/726012541908738036/09fd041c2...   \n",
       "\n",
       "                        start_time                         end_time  \\\n",
       "0 2025-08-19 09:09:50.304000+00:00 2025-08-19 09:09:51.605000+00:00   \n",
       "1 2025-08-19 09:32:15.188000+00:00 2025-08-19 09:32:16.181000+00:00   \n",
       "2 2025-08-19 09:32:13.973000+00:00 2025-08-19 09:32:15.169000+00:00   \n",
       "3 2025-08-19 09:31:50.755000+00:00 2025-08-19 09:31:51.749000+00:00   \n",
       "4 2025-08-19 09:31:49.336000+00:00 2025-08-19 09:31:50.734000+00:00   \n",
       "\n",
       "   metrics.rmse_val  metrics.rmse_test params.iterations params.depth  ...  \\\n",
       "0          0.555869           0.572922               100            6  ...   \n",
       "1          0.635613           0.638554              None         None  ...   \n",
       "2          0.635613           0.638554              None         None  ...   \n",
       "3          0.635613           0.638554              None         None  ...   \n",
       "4          0.635613           0.638554              None         None  ...   \n",
       "\n",
       "  params.random_state params.alpha     tags.algorithm tags.mlflow.source.type  \\\n",
       "0                None         None  gradient_boosting                   LOCAL   \n",
       "1                  42          0.1               None                   LOCAL   \n",
       "2                None          0.1               None                   LOCAL   \n",
       "3                  42          0.1               None                   LOCAL   \n",
       "4                None          0.1               None                   LOCAL   \n",
       "\n",
       "  tags.data_version tags.experiment_type   tags.mlflow.user  \\\n",
       "0                v1           regression  timurbikmuhametov   \n",
       "1              None           regression  timurbikmuhametov   \n",
       "2              None                 None  timurbikmuhametov   \n",
       "3              None           regression  timurbikmuhametov   \n",
       "4              None                 None  timurbikmuhametov   \n",
       "\n",
       "  tags.mlflow.runName                            tags.mlflow.source.name  \\\n",
       "0   catboost_baseline  /Users/timurbikmuhametov/miniconda3/envs/maist...   \n",
       "1      lasso_baseline  /Users/timurbikmuhametov/miniconda3/envs/maist...   \n",
       "2      lasso_baseline  /Users/timurbikmuhametov/miniconda3/envs/maist...   \n",
       "3      lasso_baseline  /Users/timurbikmuhametov/miniconda3/envs/maist...   \n",
       "4      lasso_baseline  /Users/timurbikmuhametov/miniconda3/envs/maist...   \n",
       "\n",
       "  tags.model_version  \n",
       "0           baseline  \n",
       "1           baseline  \n",
       "2           baseline  \n",
       "3           baseline  \n",
       "4           baseline  \n",
       "\n",
       "[5 rows x 24 columns]"
      ]
     },
     "execution_count": 29,
     "metadata": {},
     "output_type": "execute_result"
    }
   ],
   "source": [
    "# Search runs instead of registered models (much faster and more comprehensive)\n",
    "runs = mlflow.search_runs(\n",
    "    experiment_ids=['726012541908738036'],\n",
    "    filter_string=\"metrics.rmse_test < 0.9\",\n",
    "    order_by=[\"metrics.rmse_val ASC\"],  # Lower RMSE is better\n",
    "    max_results=5\n",
    ")\n",
    "runs"
   ]
  },
  {
   "cell_type": "code",
   "execution_count": 12,
   "id": "382ae32a-a2b0-4fdf-9897-93b4a056529e",
   "metadata": {},
   "outputs": [
    {
     "data": {
      "text/plain": [
       "run_id                                      7af575228fd94f52a2926e220a2da5d2\n",
       "experiment_id                                             726012541908738036\n",
       "status                                                              FINISHED\n",
       "artifact_uri               mlflow-artifacts:/726012541908738036/7af575228...\n",
       "start_time                                  2025-08-19 09:09:50.304000+00:00\n",
       "end_time                                    2025-08-19 09:09:51.605000+00:00\n",
       "metrics.rmse_val                                                    0.555869\n",
       "metrics.rmse_test                                                   0.572922\n",
       "params.iterations                                                        100\n",
       "params.depth                                                               6\n",
       "params.learning_rate                                                     0.1\n",
       "params.verbose                                                         False\n",
       "params.random_seed                                                        42\n",
       "params.max_iter                                                         None\n",
       "params.random_state                                                     None\n",
       "params.alpha                                                            None\n",
       "tags.algorithm                                             gradient_boosting\n",
       "tags.mlflow.source.type                                                LOCAL\n",
       "tags.data_version                                                         v1\n",
       "tags.experiment_type                                              regression\n",
       "tags.mlflow.user                                           timurbikmuhametov\n",
       "tags.mlflow.runName                                        catboost_baseline\n",
       "tags.mlflow.source.name    /Users/timurbikmuhametov/miniconda3/envs/maist...\n",
       "tags.model_version                                                  baseline\n",
       "Name: 0, dtype: object"
      ]
     },
     "execution_count": 12,
     "metadata": {},
     "output_type": "execute_result"
    }
   ],
   "source": [
    "runs.iloc[0]"
   ]
  },
  {
   "cell_type": "code",
   "execution_count": 20,
   "id": "408fe7f5-9528-4318-ae5d-620562415cb4",
   "metadata": {},
   "outputs": [
    {
     "name": "stdout",
     "output_type": "stream",
     "text": [
      "mlflow-artifacts:/726012541908738036/7af575228fd94f52a2926e220a2da5d2/artifacts\n"
     ]
    }
   ],
   "source": [
    "# Get the run ID of the latest \"best_model\" if there are several\n",
    "best_exp_id = runs.iloc[0].experiment_id\n",
    "best_run_id = runs.iloc[0].run_id\n",
    "artifact_location = runs.iloc[0].artifact_uri\n",
    "print(artifact_location)"
   ]
  },
  {
   "cell_type": "code",
   "execution_count": 51,
   "id": "b3904a1f-2b0f-4e30-b728-8ef5aa7eb8f6",
   "metadata": {},
   "outputs": [],
   "source": [
    "loaded_model = mlflow.pyfunc.load_model(\"./mlartifacts/726012541908738036/models/m-51cde1c7c1c64d89b5a4cdc13c3cd7ae/artifacts/\")"
   ]
  },
  {
   "cell_type": "code",
   "execution_count": 52,
   "id": "7deea23f-ba71-4d02-ae54-b50f4c0bed4b",
   "metadata": {},
   "outputs": [
    {
     "data": {
      "text/plain": [
       "mlflow.pyfunc.loaded_model:\n",
       "  artifact_path: mlflow-artifacts:/726012541908738036/models/m-51cde1c7c1c64d89b5a4cdc13c3cd7ae/artifacts\n",
       "  flavor: mlflow.sklearn\n",
       "  run_id: d7478d26be944533aaad05b44c27ef20"
      ]
     },
     "execution_count": 52,
     "metadata": {},
     "output_type": "execute_result"
    }
   ],
   "source": [
    "loaded_model"
   ]
  },
  {
   "cell_type": "code",
   "execution_count": 22,
   "id": "34ac433f-41fe-4867-b438-f640cab93c5d",
   "metadata": {},
   "outputs": [
    {
     "data": {
      "text/plain": [
       "'./mlartifacts/726012541908738036/models/m-51cde1c7c1c64d89b5a4cdc13c3cd7ae/artifacts/model.pkl'"
      ]
     },
     "execution_count": 22,
     "metadata": {},
     "output_type": "execute_result"
    }
   ],
   "source": [
    "\"./mlartifacts/726012541908738036/models/m-51cde1c7c1c64d89b5a4cdc13c3cd7ae/artifacts/model.pkl\""
   ]
  },
  {
   "cell_type": "code",
   "execution_count": 23,
   "id": "32bcb49f-aa5c-42e5-9ee9-8ac44e43b67f",
   "metadata": {},
   "outputs": [
    {
     "data": {
      "text/plain": [
       "'mlflow-artifacts:/726012541908738036/7af575228fd94f52a2926e220a2da5d2/artifacts/model.pkl'"
      ]
     },
     "execution_count": 23,
     "metadata": {},
     "output_type": "execute_result"
    }
   ],
   "source": [
    "f\"{artifact_location}/model.pkl\""
   ]
  },
  {
   "cell_type": "code",
   "execution_count": 14,
   "id": "32bc4b77-bc03-41aa-a369-d1f937b018fd",
   "metadata": {},
   "outputs": [],
   "source": [
    "# Search for the best model\n",
    "client = MlflowClient()"
   ]
  },
  {
   "cell_type": "code",
   "execution_count": 49,
   "id": "e4c6549d-791d-4d7f-82d3-ba4ab3ab4229",
   "metadata": {},
   "outputs": [
    {
     "ename": "FileNotFoundError",
     "evalue": "[Errno 2] No such file or directory: 'mlflow-artifacts:/726012541908738036/7af575228fd94f52a2926e220a2da5d2/artifacts/model.pkl'",
     "output_type": "error",
     "traceback": [
      "\u001b[0;31m---------------------------------------------------------------------------\u001b[0m",
      "\u001b[0;31mFileNotFoundError\u001b[0m                         Traceback (most recent call last)",
      "Cell \u001b[0;32mIn[49], line 1\u001b[0m\n\u001b[0;32m----> 1\u001b[0m \u001b[38;5;28;01mwith\u001b[39;00m \u001b[38;5;28;43mopen\u001b[39;49m\u001b[43m(\u001b[49m\u001b[38;5;124;43mf\u001b[39;49m\u001b[38;5;124;43m\"\u001b[39;49m\u001b[38;5;132;43;01m{\u001b[39;49;00m\u001b[43martifact_location\u001b[49m\u001b[38;5;132;43;01m}\u001b[39;49;00m\u001b[38;5;124;43m/model.pkl\u001b[39;49m\u001b[38;5;124;43m\"\u001b[39;49m\u001b[43m,\u001b[49m\u001b[43m \u001b[49m\u001b[38;5;124;43m'\u001b[39;49m\u001b[38;5;124;43mrb\u001b[39;49m\u001b[38;5;124;43m'\u001b[39;49m\u001b[43m)\u001b[49m \u001b[38;5;28;01mas\u001b[39;00m f:\n\u001b[1;32m      2\u001b[0m     model \u001b[38;5;241m=\u001b[39m pickle\u001b[38;5;241m.\u001b[39mload(f)\n",
      "File \u001b[0;32m~/miniconda3/envs/maistermind-tutorials/lib/python3.11/site-packages/IPython/core/interactiveshell.py:286\u001b[0m, in \u001b[0;36m_modified_open\u001b[0;34m(file, *args, **kwargs)\u001b[0m\n\u001b[1;32m    279\u001b[0m \u001b[38;5;28;01mif\u001b[39;00m file \u001b[38;5;129;01min\u001b[39;00m {\u001b[38;5;241m0\u001b[39m, \u001b[38;5;241m1\u001b[39m, \u001b[38;5;241m2\u001b[39m}:\n\u001b[1;32m    280\u001b[0m     \u001b[38;5;28;01mraise\u001b[39;00m \u001b[38;5;167;01mValueError\u001b[39;00m(\n\u001b[1;32m    281\u001b[0m         \u001b[38;5;124mf\u001b[39m\u001b[38;5;124m\"\u001b[39m\u001b[38;5;124mIPython won\u001b[39m\u001b[38;5;124m'\u001b[39m\u001b[38;5;124mt let you open fd=\u001b[39m\u001b[38;5;132;01m{\u001b[39;00mfile\u001b[38;5;132;01m}\u001b[39;00m\u001b[38;5;124m by default \u001b[39m\u001b[38;5;124m\"\u001b[39m\n\u001b[1;32m    282\u001b[0m         \u001b[38;5;124m\"\u001b[39m\u001b[38;5;124mas it is likely to crash IPython. If you know what you are doing, \u001b[39m\u001b[38;5;124m\"\u001b[39m\n\u001b[1;32m    283\u001b[0m         \u001b[38;5;124m\"\u001b[39m\u001b[38;5;124myou can use builtins\u001b[39m\u001b[38;5;124m'\u001b[39m\u001b[38;5;124m open.\u001b[39m\u001b[38;5;124m\"\u001b[39m\n\u001b[1;32m    284\u001b[0m     )\n\u001b[0;32m--> 286\u001b[0m \u001b[38;5;28;01mreturn\u001b[39;00m \u001b[43mio_open\u001b[49m\u001b[43m(\u001b[49m\u001b[43mfile\u001b[49m\u001b[43m,\u001b[49m\u001b[43m \u001b[49m\u001b[38;5;241;43m*\u001b[39;49m\u001b[43margs\u001b[49m\u001b[43m,\u001b[49m\u001b[43m \u001b[49m\u001b[38;5;241;43m*\u001b[39;49m\u001b[38;5;241;43m*\u001b[39;49m\u001b[43mkwargs\u001b[49m\u001b[43m)\u001b[49m\n",
      "\u001b[0;31mFileNotFoundError\u001b[0m: [Errno 2] No such file or directory: 'mlflow-artifacts:/726012541908738036/7af575228fd94f52a2926e220a2da5d2/artifacts/model.pkl'"
     ]
    }
   ],
   "source": [
    "with open(f\"{artifact_location}/model.pkl\", 'rb') as f:\n",
    "    model = pickle.load(f)"
   ]
  },
  {
   "cell_type": "code",
   "execution_count": 19,
   "id": "1ea6b254-d678-4d3c-954b-f2862b030eff",
   "metadata": {},
   "outputs": [
    {
     "data": {
      "application/vnd.jupyter.widget-view+json": {
       "model_id": "02fc98db0faa449fbc82dcdf5a7a3220",
       "version_major": 2,
       "version_minor": 0
      },
      "text/plain": [
       "Downloading artifacts:   0%|          | 0/1 [00:00<?, ?it/s]"
      ]
     },
     "metadata": {},
     "output_type": "display_data"
    },
    {
     "ename": "KeyboardInterrupt",
     "evalue": "",
     "output_type": "error",
     "traceback": [
      "\u001b[0;31m---------------------------------------------------------------------------\u001b[0m",
      "\u001b[0;31mKeyboardInterrupt\u001b[0m                         Traceback (most recent call last)",
      "Cell \u001b[0;32mIn[19], line 2\u001b[0m\n\u001b[1;32m      1\u001b[0m \u001b[38;5;66;03m# Load the best model directly\u001b[39;00m\n\u001b[0;32m----> 2\u001b[0m loaded_model \u001b[38;5;241m=\u001b[39m \u001b[43mmlflow\u001b[49m\u001b[38;5;241;43m.\u001b[39;49m\u001b[43mpyfunc\u001b[49m\u001b[38;5;241;43m.\u001b[39;49m\u001b[43mload_model\u001b[49m\u001b[43m(\u001b[49m\u001b[38;5;124;43mf\u001b[39;49m\u001b[38;5;124;43m\"\u001b[39;49m\u001b[38;5;132;43;01m{\u001b[39;49;00m\u001b[43martifact_location\u001b[49m\u001b[38;5;132;43;01m}\u001b[39;49;00m\u001b[38;5;124;43m/model.pkl\u001b[39;49m\u001b[38;5;124;43m\"\u001b[39;49m\u001b[43m)\u001b[49m\n",
      "File \u001b[0;32m~/miniconda3/envs/maistermind-tutorials/lib/python3.11/site-packages/mlflow/tracing/provider.py:439\u001b[0m, in \u001b[0;36mtrace_disabled.<locals>.wrapper\u001b[0;34m(*args, **kwargs)\u001b[0m\n\u001b[1;32m    437\u001b[0m disable()\n\u001b[1;32m    438\u001b[0m \u001b[38;5;28;01mtry\u001b[39;00m:\n\u001b[0;32m--> 439\u001b[0m     is_func_called, result \u001b[38;5;241m=\u001b[39m \u001b[38;5;28;01mTrue\u001b[39;00m, \u001b[43mf\u001b[49m\u001b[43m(\u001b[49m\u001b[38;5;241;43m*\u001b[39;49m\u001b[43margs\u001b[49m\u001b[43m,\u001b[49m\u001b[43m \u001b[49m\u001b[38;5;241;43m*\u001b[39;49m\u001b[38;5;241;43m*\u001b[39;49m\u001b[43mkwargs\u001b[49m\u001b[43m)\u001b[49m\n\u001b[1;32m    440\u001b[0m \u001b[38;5;28;01mfinally\u001b[39;00m:\n\u001b[1;32m    441\u001b[0m     enable()\n",
      "File \u001b[0;32m~/miniconda3/envs/maistermind-tutorials/lib/python3.11/site-packages/mlflow/pyfunc/__init__.py:1127\u001b[0m, in \u001b[0;36mload_model\u001b[0;34m(model_uri, suppress_warnings, dst_path, model_config)\u001b[0m\n\u001b[1;32m   1123\u001b[0m         entity_list\u001b[38;5;241m.\u001b[39mappend(Entity(job\u001b[38;5;241m=\u001b[39mjob_entity))\n\u001b[1;32m   1125\u001b[0m     lineage_header_info \u001b[38;5;241m=\u001b[39m LineageHeaderInfo(entities\u001b[38;5;241m=\u001b[39mentity_list) \u001b[38;5;28;01mif\u001b[39;00m entity_list \u001b[38;5;28;01melse\u001b[39;00m \u001b[38;5;28;01mNone\u001b[39;00m\n\u001b[0;32m-> 1127\u001b[0m local_path \u001b[38;5;241m=\u001b[39m \u001b[43m_download_artifact_from_uri\u001b[49m\u001b[43m(\u001b[49m\n\u001b[1;32m   1128\u001b[0m \u001b[43m    \u001b[49m\u001b[43martifact_uri\u001b[49m\u001b[38;5;241;43m=\u001b[39;49m\u001b[43mmodel_uri\u001b[49m\u001b[43m,\u001b[49m\u001b[43m \u001b[49m\u001b[43moutput_path\u001b[49m\u001b[38;5;241;43m=\u001b[39;49m\u001b[43mdst_path\u001b[49m\u001b[43m,\u001b[49m\u001b[43m \u001b[49m\u001b[43mlineage_header_info\u001b[49m\u001b[38;5;241;43m=\u001b[39;49m\u001b[43mlineage_header_info\u001b[49m\n\u001b[1;32m   1129\u001b[0m \u001b[43m\u001b[49m\u001b[43m)\u001b[49m\n\u001b[1;32m   1131\u001b[0m \u001b[38;5;28;01mif\u001b[39;00m \u001b[38;5;129;01mnot\u001b[39;00m suppress_warnings:\n\u001b[1;32m   1132\u001b[0m     model_requirements \u001b[38;5;241m=\u001b[39m _get_pip_requirements_from_model_path(local_path)\n",
      "File \u001b[0;32m~/miniconda3/envs/maistermind-tutorials/lib/python3.11/site-packages/mlflow/tracking/artifact_utils.py:124\u001b[0m, in \u001b[0;36m_download_artifact_from_uri\u001b[0;34m(artifact_uri, output_path, lineage_header_info, tracking_uri)\u001b[0m\n\u001b[1;32m    118\u001b[0m     \u001b[38;5;28;01mif\u001b[39;00m \u001b[38;5;28misinstance\u001b[39m(repo, ModelsArtifactRepository):\n\u001b[1;32m    119\u001b[0m         \u001b[38;5;28;01mreturn\u001b[39;00m repo\u001b[38;5;241m.\u001b[39mdownload_artifacts(\n\u001b[1;32m    120\u001b[0m             artifact_path\u001b[38;5;241m=\u001b[39martifact_path,\n\u001b[1;32m    121\u001b[0m             dst_path\u001b[38;5;241m=\u001b[39moutput_path,\n\u001b[1;32m    122\u001b[0m             lineage_header_info\u001b[38;5;241m=\u001b[39mlineage_header_info,\n\u001b[1;32m    123\u001b[0m         )\n\u001b[0;32m--> 124\u001b[0m     \u001b[38;5;28;01mreturn\u001b[39;00m \u001b[43mrepo\u001b[49m\u001b[38;5;241;43m.\u001b[39;49m\u001b[43mdownload_artifacts\u001b[49m\u001b[43m(\u001b[49m\u001b[43martifact_path\u001b[49m\u001b[38;5;241;43m=\u001b[39;49m\u001b[43martifact_path\u001b[49m\u001b[43m,\u001b[49m\u001b[43m \u001b[49m\u001b[43mdst_path\u001b[49m\u001b[38;5;241;43m=\u001b[39;49m\u001b[43moutput_path\u001b[49m\u001b[43m)\u001b[49m\n\u001b[1;32m    125\u001b[0m \u001b[38;5;28;01mexcept\u001b[39;00m \u001b[38;5;167;01mException\u001b[39;00m \u001b[38;5;28;01mas\u001b[39;00m e:\n\u001b[1;32m    126\u001b[0m     \u001b[38;5;28;01mif\u001b[39;00m artifact_uri\u001b[38;5;241m.\u001b[39mstartswith(\u001b[38;5;124m\"\u001b[39m\u001b[38;5;124mm-\u001b[39m\u001b[38;5;124m\"\u001b[39m):\n\u001b[1;32m    127\u001b[0m         \u001b[38;5;66;03m# When a Model ID like string is passed, suggest using 'models:/{artifact_uri}' instead.\u001b[39;00m\n",
      "File \u001b[0;32m~/miniconda3/envs/maistermind-tutorials/lib/python3.11/site-packages/mlflow/store/artifact/artifact_repo.py:304\u001b[0m, in \u001b[0;36mArtifactRepository.download_artifacts\u001b[0;34m(self, artifact_path, dst_path)\u001b[0m\n\u001b[1;32m    302\u001b[0m tracebacks \u001b[38;5;241m=\u001b[39m {}\n\u001b[1;32m    303\u001b[0m \u001b[38;5;28;01mwith\u001b[39;00m ArtifactProgressBar\u001b[38;5;241m.\u001b[39mfiles(desc\u001b[38;5;241m=\u001b[39m\u001b[38;5;124m\"\u001b[39m\u001b[38;5;124mDownloading artifacts\u001b[39m\u001b[38;5;124m\"\u001b[39m, total\u001b[38;5;241m=\u001b[39m\u001b[38;5;28mlen\u001b[39m(futures)) \u001b[38;5;28;01mas\u001b[39;00m pbar:\n\u001b[0;32m--> 304\u001b[0m \u001b[43m    \u001b[49m\u001b[38;5;28;43;01mfor\u001b[39;49;00m\u001b[43m \u001b[49m\u001b[43mf\u001b[49m\u001b[43m \u001b[49m\u001b[38;5;129;43;01min\u001b[39;49;00m\u001b[43m \u001b[49m\u001b[43mas_completed\u001b[49m\u001b[43m(\u001b[49m\u001b[43mfutures\u001b[49m\u001b[43m)\u001b[49m\u001b[43m:\u001b[49m\n\u001b[1;32m    305\u001b[0m \u001b[43m        \u001b[49m\u001b[38;5;28;43;01mtry\u001b[39;49;00m\u001b[43m:\u001b[49m\n\u001b[1;32m    306\u001b[0m \u001b[43m            \u001b[49m\u001b[43mf\u001b[49m\u001b[38;5;241;43m.\u001b[39;49m\u001b[43mresult\u001b[49m\u001b[43m(\u001b[49m\u001b[43m)\u001b[49m\n",
      "File \u001b[0;32m~/miniconda3/envs/maistermind-tutorials/lib/python3.11/concurrent/futures/_base.py:243\u001b[0m, in \u001b[0;36mas_completed\u001b[0;34m(fs, timeout)\u001b[0m\n\u001b[1;32m    238\u001b[0m     \u001b[38;5;28;01mif\u001b[39;00m wait_timeout \u001b[38;5;241m<\u001b[39m \u001b[38;5;241m0\u001b[39m:\n\u001b[1;32m    239\u001b[0m         \u001b[38;5;28;01mraise\u001b[39;00m \u001b[38;5;167;01mTimeoutError\u001b[39;00m(\n\u001b[1;32m    240\u001b[0m                 \u001b[38;5;124m'\u001b[39m\u001b[38;5;132;01m%d\u001b[39;00m\u001b[38;5;124m (of \u001b[39m\u001b[38;5;132;01m%d\u001b[39;00m\u001b[38;5;124m) futures unfinished\u001b[39m\u001b[38;5;124m'\u001b[39m \u001b[38;5;241m%\u001b[39m (\n\u001b[1;32m    241\u001b[0m                 \u001b[38;5;28mlen\u001b[39m(pending), total_futures))\n\u001b[0;32m--> 243\u001b[0m \u001b[43mwaiter\u001b[49m\u001b[38;5;241;43m.\u001b[39;49m\u001b[43mevent\u001b[49m\u001b[38;5;241;43m.\u001b[39;49m\u001b[43mwait\u001b[49m\u001b[43m(\u001b[49m\u001b[43mwait_timeout\u001b[49m\u001b[43m)\u001b[49m\n\u001b[1;32m    245\u001b[0m \u001b[38;5;28;01mwith\u001b[39;00m waiter\u001b[38;5;241m.\u001b[39mlock:\n\u001b[1;32m    246\u001b[0m     finished \u001b[38;5;241m=\u001b[39m waiter\u001b[38;5;241m.\u001b[39mfinished_futures\n",
      "File \u001b[0;32m~/miniconda3/envs/maistermind-tutorials/lib/python3.11/threading.py:629\u001b[0m, in \u001b[0;36mEvent.wait\u001b[0;34m(self, timeout)\u001b[0m\n\u001b[1;32m    627\u001b[0m signaled \u001b[38;5;241m=\u001b[39m \u001b[38;5;28mself\u001b[39m\u001b[38;5;241m.\u001b[39m_flag\n\u001b[1;32m    628\u001b[0m \u001b[38;5;28;01mif\u001b[39;00m \u001b[38;5;129;01mnot\u001b[39;00m signaled:\n\u001b[0;32m--> 629\u001b[0m     signaled \u001b[38;5;241m=\u001b[39m \u001b[38;5;28;43mself\u001b[39;49m\u001b[38;5;241;43m.\u001b[39;49m\u001b[43m_cond\u001b[49m\u001b[38;5;241;43m.\u001b[39;49m\u001b[43mwait\u001b[49m\u001b[43m(\u001b[49m\u001b[43mtimeout\u001b[49m\u001b[43m)\u001b[49m\n\u001b[1;32m    630\u001b[0m \u001b[38;5;28;01mreturn\u001b[39;00m signaled\n",
      "File \u001b[0;32m~/miniconda3/envs/maistermind-tutorials/lib/python3.11/threading.py:327\u001b[0m, in \u001b[0;36mCondition.wait\u001b[0;34m(self, timeout)\u001b[0m\n\u001b[1;32m    325\u001b[0m \u001b[38;5;28;01mtry\u001b[39;00m:    \u001b[38;5;66;03m# restore state no matter what (e.g., KeyboardInterrupt)\u001b[39;00m\n\u001b[1;32m    326\u001b[0m     \u001b[38;5;28;01mif\u001b[39;00m timeout \u001b[38;5;129;01mis\u001b[39;00m \u001b[38;5;28;01mNone\u001b[39;00m:\n\u001b[0;32m--> 327\u001b[0m         \u001b[43mwaiter\u001b[49m\u001b[38;5;241;43m.\u001b[39;49m\u001b[43macquire\u001b[49m\u001b[43m(\u001b[49m\u001b[43m)\u001b[49m\n\u001b[1;32m    328\u001b[0m         gotit \u001b[38;5;241m=\u001b[39m \u001b[38;5;28;01mTrue\u001b[39;00m\n\u001b[1;32m    329\u001b[0m     \u001b[38;5;28;01melse\u001b[39;00m:\n",
      "\u001b[0;31mKeyboardInterrupt\u001b[0m: "
     ]
    }
   ],
   "source": [
    "# Load the best model directly\n",
    "loaded_model = mlflow.pyfunc.load_model(f\"{artifact_location}/model.pkl\")"
   ]
  },
  {
   "cell_type": "code",
   "execution_count": null,
   "id": "14d3b3c6-bbcc-4251-9e92-c213ec324cfc",
   "metadata": {},
   "outputs": [],
   "source": []
  },
  {
   "cell_type": "code",
   "execution_count": null,
   "id": "9c642e8d-4c03-43f6-8182-7fac6ec3aeb9",
   "metadata": {},
   "outputs": [],
   "source": []
  },
  {
   "cell_type": "code",
   "execution_count": null,
   "id": "0d9e0cf7-5a79-4aae-bf89-dabdbfee83f8",
   "metadata": {},
   "outputs": [],
   "source": []
  },
  {
   "cell_type": "code",
   "execution_count": null,
   "id": "c1f4fa98-3bbb-41a7-a389-d499e51765d9",
   "metadata": {},
   "outputs": [],
   "source": []
  },
  {
   "cell_type": "code",
   "execution_count": 55,
   "id": "f27a015e-68ac-44b1-8e5b-15ea5c53b95a",
   "metadata": {},
   "outputs": [],
   "source": [
    "model_path = \"./mlartifacts/726012541908738036/models/m-51cde1c7c1c64d89b5a4cdc13c3cd7ae/artifacts/model.pkl\"\n",
    "with open(model_path, 'rb') as f:\n",
    "    model = pickle.load(f)"
   ]
  },
  {
   "cell_type": "code",
   "execution_count": 56,
   "id": "6e1f80a7-6203-4266-bb4e-27b1ed4d79b3",
   "metadata": {},
   "outputs": [
    {
     "data": {
      "text/html": [
       "<style>#sk-container-id-1 {color: black;background-color: white;}#sk-container-id-1 pre{padding: 0;}#sk-container-id-1 div.sk-toggleable {background-color: white;}#sk-container-id-1 label.sk-toggleable__label {cursor: pointer;display: block;width: 100%;margin-bottom: 0;padding: 0.3em;box-sizing: border-box;text-align: center;}#sk-container-id-1 label.sk-toggleable__label-arrow:before {content: \"▸\";float: left;margin-right: 0.25em;color: #696969;}#sk-container-id-1 label.sk-toggleable__label-arrow:hover:before {color: black;}#sk-container-id-1 div.sk-estimator:hover label.sk-toggleable__label-arrow:before {color: black;}#sk-container-id-1 div.sk-toggleable__content {max-height: 0;max-width: 0;overflow: hidden;text-align: left;background-color: #f0f8ff;}#sk-container-id-1 div.sk-toggleable__content pre {margin: 0.2em;color: black;border-radius: 0.25em;background-color: #f0f8ff;}#sk-container-id-1 input.sk-toggleable__control:checked~div.sk-toggleable__content {max-height: 200px;max-width: 100%;overflow: auto;}#sk-container-id-1 input.sk-toggleable__control:checked~label.sk-toggleable__label-arrow:before {content: \"▾\";}#sk-container-id-1 div.sk-estimator input.sk-toggleable__control:checked~label.sk-toggleable__label {background-color: #d4ebff;}#sk-container-id-1 div.sk-label input.sk-toggleable__control:checked~label.sk-toggleable__label {background-color: #d4ebff;}#sk-container-id-1 input.sk-hidden--visually {border: 0;clip: rect(1px 1px 1px 1px);clip: rect(1px, 1px, 1px, 1px);height: 1px;margin: -1px;overflow: hidden;padding: 0;position: absolute;width: 1px;}#sk-container-id-1 div.sk-estimator {font-family: monospace;background-color: #f0f8ff;border: 1px dotted black;border-radius: 0.25em;box-sizing: border-box;margin-bottom: 0.5em;}#sk-container-id-1 div.sk-estimator:hover {background-color: #d4ebff;}#sk-container-id-1 div.sk-parallel-item::after {content: \"\";width: 100%;border-bottom: 1px solid gray;flex-grow: 1;}#sk-container-id-1 div.sk-label:hover label.sk-toggleable__label {background-color: #d4ebff;}#sk-container-id-1 div.sk-serial::before {content: \"\";position: absolute;border-left: 1px solid gray;box-sizing: border-box;top: 0;bottom: 0;left: 50%;z-index: 0;}#sk-container-id-1 div.sk-serial {display: flex;flex-direction: column;align-items: center;background-color: white;padding-right: 0.2em;padding-left: 0.2em;position: relative;}#sk-container-id-1 div.sk-item {position: relative;z-index: 1;}#sk-container-id-1 div.sk-parallel {display: flex;align-items: stretch;justify-content: center;background-color: white;position: relative;}#sk-container-id-1 div.sk-item::before, #sk-container-id-1 div.sk-parallel-item::before {content: \"\";position: absolute;border-left: 1px solid gray;box-sizing: border-box;top: 0;bottom: 0;left: 50%;z-index: -1;}#sk-container-id-1 div.sk-parallel-item {display: flex;flex-direction: column;z-index: 1;position: relative;background-color: white;}#sk-container-id-1 div.sk-parallel-item:first-child::after {align-self: flex-end;width: 50%;}#sk-container-id-1 div.sk-parallel-item:last-child::after {align-self: flex-start;width: 50%;}#sk-container-id-1 div.sk-parallel-item:only-child::after {width: 0;}#sk-container-id-1 div.sk-dashed-wrapped {border: 1px dashed gray;margin: 0 0.4em 0.5em 0.4em;box-sizing: border-box;padding-bottom: 0.4em;background-color: white;}#sk-container-id-1 div.sk-label label {font-family: monospace;font-weight: bold;display: inline-block;line-height: 1.2em;}#sk-container-id-1 div.sk-label-container {text-align: center;}#sk-container-id-1 div.sk-container {/* jupyter's `normalize.less` sets `[hidden] { display: none; }` but bootstrap.min.css set `[hidden] { display: none !important; }` so we also need the `!important` here to be able to override the default hidden behavior on the sphinx rendered scikit-learn.org. See: https://github.com/scikit-learn/scikit-learn/issues/21755 */display: inline-block !important;position: relative;}#sk-container-id-1 div.sk-text-repr-fallback {display: none;}</style><div id=\"sk-container-id-1\" class=\"sk-top-container\"><div class=\"sk-text-repr-fallback\"><pre>Lasso(alpha=0.1, random_state=42)</pre><b>In a Jupyter environment, please rerun this cell to show the HTML representation or trust the notebook. <br />On GitHub, the HTML representation is unable to render, please try loading this page with nbviewer.org.</b></div><div class=\"sk-container\" hidden><div class=\"sk-item\"><div class=\"sk-estimator sk-toggleable\"><input class=\"sk-toggleable__control sk-hidden--visually\" id=\"sk-estimator-id-1\" type=\"checkbox\" checked><label for=\"sk-estimator-id-1\" class=\"sk-toggleable__label sk-toggleable__label-arrow\">Lasso</label><div class=\"sk-toggleable__content\"><pre>Lasso(alpha=0.1, random_state=42)</pre></div></div></div></div></div>"
      ],
      "text/plain": [
       "Lasso(alpha=0.1, random_state=42)"
      ]
     },
     "execution_count": 56,
     "metadata": {},
     "output_type": "execute_result"
    }
   ],
   "source": [
    "model"
   ]
  },
  {
   "cell_type": "code",
   "execution_count": 48,
   "id": "fb871524-18b2-42ca-9625-7511d7595df5",
   "metadata": {},
   "outputs": [
    {
     "data": {
      "text/plain": [
       "'7af575228fd94f52a2926e220a2da5d2'"
      ]
     },
     "execution_count": 48,
     "metadata": {},
     "output_type": "execute_result"
    }
   ],
   "source": [
    "runs.iloc[0].run_id"
   ]
  },
  {
   "cell_type": "code",
   "execution_count": 32,
   "id": "c63f2b10-2659-4e78-bffd-4d83f6a5a683",
   "metadata": {},
   "outputs": [
    {
     "data": {
      "text/plain": [
       "'m-d741678831344f049a6ea35fd421bbcc'"
      ]
     },
     "execution_count": 32,
     "metadata": {},
     "output_type": "execute_result"
    }
   ],
   "source": [
    "best_model.model_id"
   ]
  },
  {
   "cell_type": "code",
   "execution_count": null,
   "id": "2debbb7b-a69e-44d9-aa81-619e56b04e13",
   "metadata": {},
   "outputs": [],
   "source": []
  },
  {
   "cell_type": "code",
   "execution_count": null,
   "id": "81cbe573-5361-4a83-85b0-2cc193bfa0ba",
   "metadata": {},
   "outputs": [],
   "source": []
  },
  {
   "cell_type": "code",
   "execution_count": null,
   "id": "bfee2c94-6d31-46b3-9849-de272bce1468",
   "metadata": {},
   "outputs": [],
   "source": []
  },
  {
   "cell_type": "markdown",
   "id": "9efa1a5e-036d-4482-8fdf-3abee47c2901",
   "metadata": {},
   "source": [
    "## Child runs"
   ]
  },
  {
   "cell_type": "markdown",
   "id": "d86c0b5a-8ed1-4c32-b257-fac33db32b15",
   "metadata": {},
   "source": [
    "Within the same run, you can create child runs with different parameters"
   ]
  },
  {
   "cell_type": "code",
   "execution_count": 50,
   "id": "037b8fa8-b353-4108-a641-47876a486528",
   "metadata": {},
   "outputs": [],
   "source": [
    "# Define a function to log parameters and metrics and add tag\n",
    "# logging for search_runs functionality\n",
    "def log_run(run_name, iteration, params, rmse_val, rmse_test):\n",
    "    with mlflow.start_run(run_name=f\"{run_name}_{iteration}\", nested=True):\n",
    "        # Log the hyperparameters\n",
    "        mlflow.log_params(params)\n",
    "        # Log the loss metric\n",
    "        mlflow.log_metric(\"rmse_error_val\", rmse_val)\n",
    "        mlflow.log_metric(\"rmse_error_test\", rmse_test)"
   ]
  },
  {
   "cell_type": "code",
   "execution_count": 45,
   "id": "cbc0fa06-7daa-44a3-85a8-b901bed7e430",
   "metadata": {},
   "outputs": [
    {
     "name": "stdout",
     "output_type": "stream",
     "text": [
      "[1.0, 0.4641588833612779, 0.2154434690031884, 0.1, 0.046415888336127795, 0.021544346900318846, 0.01, 0.004641588833612782, 0.0021544346900318843, 0.001]\n"
     ]
    }
   ],
   "source": [
    "# Specify several alphas\n",
    "alpha_range = np.logspace(0, -3, num=10).tolist()\n",
    "print(alpha_range)"
   ]
  },
  {
   "cell_type": "code",
   "execution_count": 47,
   "id": "43fa77e5-7aee-49b7-9421-e5ec21500fc7",
   "metadata": {},
   "outputs": [
    {
     "name": "stdout",
     "output_type": "stream",
     "text": [
      "Iteration 0, rmse=0.7374379792573892\n",
      "🏃 View run Lasso_nested_0 at: http://127.0.0.1:8080/#/experiments/516757630045126067/runs/6f9fc596e26e41a4b2ca7da25f60e43d\n",
      "🧪 View experiment at: http://127.0.0.1:8080/#/experiments/516757630045126067\n",
      "Iteration 1, rmse=0.7366319489063405\n",
      "🏃 View run Lasso_nested_1 at: http://127.0.0.1:8080/#/experiments/516757630045126067/runs/a8a8a49b7ee24291851614e8a1a531ea\n",
      "🧪 View experiment at: http://127.0.0.1:8080/#/experiments/516757630045126067\n",
      "Iteration 2, rmse=0.6743324662326164\n",
      "🏃 View run Lasso_nested_2 at: http://127.0.0.1:8080/#/experiments/516757630045126067/runs/b31bfac145a041a79bfc32483ac0d2a1\n",
      "🧪 View experiment at: http://127.0.0.1:8080/#/experiments/516757630045126067\n",
      "Iteration 3, rmse=0.638554128638353\n",
      "🏃 View run Lasso_nested_3 at: http://127.0.0.1:8080/#/experiments/516757630045126067/runs/ce7ddb15126a4965833f0d4d2a74d918\n",
      "🧪 View experiment at: http://127.0.0.1:8080/#/experiments/516757630045126067\n",
      "Iteration 4, rmse=0.628923587071802\n",
      "🏃 View run Lasso_nested_4 at: http://127.0.0.1:8080/#/experiments/516757630045126067/runs/4a4582937c46429eafb44117f2b1bb3d\n",
      "🧪 View experiment at: http://127.0.0.1:8080/#/experiments/516757630045126067\n",
      "Iteration 5, rmse=0.6128059355142866\n",
      "🏃 View run Lasso_nested_5 at: http://127.0.0.1:8080/#/experiments/516757630045126067/runs/063ae0e2a8a34aab9a280be2ce489260\n",
      "🧪 View experiment at: http://127.0.0.1:8080/#/experiments/516757630045126067\n",
      "Iteration 6, rmse=0.605750602168249\n",
      "🏃 View run Lasso_nested_6 at: http://127.0.0.1:8080/#/experiments/516757630045126067/runs/8bf6bceb9fe8464b8a3bddf8189c47d2\n",
      "🧪 View experiment at: http://127.0.0.1:8080/#/experiments/516757630045126067\n",
      "Iteration 7, rmse=0.6060892593315526\n",
      "🏃 View run Lasso_nested_7 at: http://127.0.0.1:8080/#/experiments/516757630045126067/runs/4e7b30e375554027a773a963ec4f821d\n",
      "🧪 View experiment at: http://127.0.0.1:8080/#/experiments/516757630045126067\n",
      "Iteration 8, rmse=0.6072882839308418\n",
      "🏃 View run Lasso_nested_8 at: http://127.0.0.1:8080/#/experiments/516757630045126067/runs/797e2ed50346486daa2f52fbb720ddb1\n",
      "🧪 View experiment at: http://127.0.0.1:8080/#/experiments/516757630045126067\n",
      "Iteration 9, rmse=0.6098083649853254\n",
      "🏃 View run Lasso_nested_9 at: http://127.0.0.1:8080/#/experiments/516757630045126067/runs/bb731b28032a4753997f2e36265059ac\n",
      "🧪 View experiment at: http://127.0.0.1:8080/#/experiments/516757630045126067\n",
      "🏃 View run Lasso_nested at: http://127.0.0.1:8080/#/experiments/516757630045126067/runs/2f547ee274254b9bbade6e4ba6c8f48c\n",
      "🧪 View experiment at: http://127.0.0.1:8080/#/experiments/516757630045126067\n"
     ]
    }
   ],
   "source": [
    "run_name = 'Lasso_nested'\n",
    "with mlflow.start_run(run_name=run_name):\n",
    "    for idx, alpha in enumerate(alpha_range):\n",
    "        model = Lasso(alpha=alpha)\n",
    "        model.fit(x_train, y_train)\n",
    "        # Predictions\n",
    "        y_pred_val = model.predict(x_val)\n",
    "        y_pred_test = model.predict(x_test)\n",
    "        # Erros\n",
    "        rmse_val = np.sqrt(mean_squared_error(y_val, y_pred_val))\n",
    "        rmse_test = np.sqrt(mean_squared_error(y_test, y_pred_test))\n",
    "        print(f'Iteration {idx}, rmse={rmse_test}')\n",
    "        # Writing params\n",
    "        params = {'alpha': alpha}\n",
    "        log_run(run_name, idx, params, rmse_val, rmse_test)"
   ]
  },
  {
   "cell_type": "markdown",
   "id": "cc0f12aa-3661-40c4-8d27-1ec4a10663e2",
   "metadata": {},
   "source": [
    "### Child runs with Optuna"
   ]
  },
  {
   "cell_type": "markdown",
   "id": "d3767a55-6215-4426-96dd-6aff2b3c4b03",
   "metadata": {},
   "source": [
    "Child runs are useful when tuning hyperparameters under the same run. Here's an example of how to rune hyperparameters wth Optuna."
   ]
  },
  {
   "cell_type": "code",
   "execution_count": 64,
   "id": "cf64795f-97bf-4a31-b7d7-eef4deae4500",
   "metadata": {},
   "outputs": [],
   "source": [
    "# Specify the objective function with Optuna\n",
    "def objective(trial, x_train, y_train, x_val, y_val, x_test, y_test):\n",
    "    # Sample alpha\n",
    "    alpha = trial.suggest_float('alpha', 0.0001, 1, log=True)\n",
    "    model = Lasso(alpha=alpha)\n",
    "    model.fit(x_train, y_train)\n",
    "    # Predictions\n",
    "    y_pred_val = model.predict(x_val)\n",
    "    y_pred_test = model.predict(x_test)\n",
    "    # Erros\n",
    "    rmse_val = np.sqrt(mean_squared_error(y_val, y_pred_val))\n",
    "    rmse_test = np.sqrt(mean_squared_error(y_test, y_pred_test))\n",
    "    params = {'alpha': alpha}\n",
    "    log_run(run_name, trial.number, params, rmse_val, rmse_test)\n",
    "    return round(rmse_val, 3)"
   ]
  },
  {
   "cell_type": "code",
   "execution_count": 65,
   "id": "50eeed7c-ca93-4277-a320-6d78a6d62fe7",
   "metadata": {},
   "outputs": [
    {
     "name": "stderr",
     "output_type": "stream",
     "text": [
      "[I 2025-08-02 14:03:24,962] A new study created in memory with name: no-name-7b154b66-c55b-451a-a7fd-82aef6d089e0\n"
     ]
    }
   ],
   "source": [
    "study = optuna.create_study(direction=\"minimize\")"
   ]
  },
  {
   "cell_type": "code",
   "execution_count": 66,
   "id": "95df8b48-8728-42d3-8024-4f218319fb9c",
   "metadata": {},
   "outputs": [
    {
     "name": "stderr",
     "output_type": "stream",
     "text": [
      "[I 2025-08-02 14:03:25,217] Trial 0 finished with value: 0.572 and parameters: {'alpha': 0.0012763906181106578}. Best is trial 0 with value: 0.572.\n",
      "[I 2025-08-02 14:03:25,311] Trial 1 finished with value: 0.579 and parameters: {'alpha': 0.008637636160407839}. Best is trial 0 with value: 0.572.\n"
     ]
    },
    {
     "name": "stdout",
     "output_type": "stream",
     "text": [
      "Alpha = 0.0012763906181106578\n",
      "RMSE val = 0.5715216132633616, RMSE test = 0.609019662261828\n",
      "🏃 View run Lasso_optuna_0 at: http://127.0.0.1:8080/#/experiments/516757630045126067/runs/10d2cac749374ae7a827f64d27c7f9bd\n",
      "🧪 View experiment at: http://127.0.0.1:8080/#/experiments/516757630045126067\n",
      "Alpha = 0.008637636160407839\n",
      "RMSE val = 0.5794276266600845, RMSE test = 0.6056065029825204\n",
      "🏃 View run Lasso_optuna_1 at: http://127.0.0.1:8080/#/experiments/516757630045126067/runs/af23ba2897ea40b3b97c02c8c9ff3842\n",
      "🧪 View experiment at: http://127.0.0.1:8080/#/experiments/516757630045126067\n",
      "Alpha = 0.14109067380360615\n",
      "RMSE val = 0.6474581339947599, RMSE test = 0.6513333206284194\n"
     ]
    },
    {
     "name": "stderr",
     "output_type": "stream",
     "text": [
      "[I 2025-08-02 14:03:25,400] Trial 2 finished with value: 0.647 and parameters: {'alpha': 0.14109067380360615}. Best is trial 0 with value: 0.572.\n",
      "[I 2025-08-02 14:03:25,487] Trial 3 finished with value: 0.571 and parameters: {'alpha': 0.0003134351413728864}. Best is trial 3 with value: 0.571.\n",
      "[I 2025-08-02 14:03:25,570] Trial 4 finished with value: 0.572 and parameters: {'alpha': 0.001552855110295442}. Best is trial 3 with value: 0.571.\n"
     ]
    },
    {
     "name": "stdout",
     "output_type": "stream",
     "text": [
      "🏃 View run Lasso_optuna_2 at: http://127.0.0.1:8080/#/experiments/516757630045126067/runs/b59221ff85514ce7aab1a2be2c19f369\n",
      "🧪 View experiment at: http://127.0.0.1:8080/#/experiments/516757630045126067\n",
      "Alpha = 0.0003134351413728864\n",
      "RMSE val = 0.5711530951272646, RMSE test = 0.6122679319127128\n",
      "🏃 View run Lasso_optuna_3 at: http://127.0.0.1:8080/#/experiments/516757630045126067/runs/91d49b5a1c984a24bb460e745893fff9\n",
      "🧪 View experiment at: http://127.0.0.1:8080/#/experiments/516757630045126067\n",
      "Alpha = 0.001552855110295442\n",
      "RMSE val = 0.5718007267437641, RMSE test = 0.6083471053016355\n",
      "🏃 View run Lasso_optuna_4 at: http://127.0.0.1:8080/#/experiments/516757630045126067/runs/8fea6c4275354961bdd21bfc60ed903b\n",
      "🧪 View experiment at: http://127.0.0.1:8080/#/experiments/516757630045126067\n",
      "Alpha = 0.0012427079085965739\n",
      "RMSE val = 0.5714928872439479, RMSE test = 0.609109561490189\n"
     ]
    },
    {
     "name": "stderr",
     "output_type": "stream",
     "text": [
      "[I 2025-08-02 14:03:25,653] Trial 5 finished with value: 0.571 and parameters: {'alpha': 0.0012427079085965739}. Best is trial 3 with value: 0.571.\n",
      "[I 2025-08-02 14:03:25,739] Trial 6 finished with value: 0.577 and parameters: {'alpha': 0.004346113270371531}. Best is trial 3 with value: 0.571.\n",
      "[I 2025-08-02 14:03:25,819] Trial 7 finished with value: 0.577 and parameters: {'alpha': 0.0049069405724022725}. Best is trial 3 with value: 0.571.\n"
     ]
    },
    {
     "name": "stdout",
     "output_type": "stream",
     "text": [
      "🏃 View run Lasso_optuna_5 at: http://127.0.0.1:8080/#/experiments/516757630045126067/runs/77eb88aaa1254c2ca4d12d687cbe9158\n",
      "🧪 View experiment at: http://127.0.0.1:8080/#/experiments/516757630045126067\n",
      "Alpha = 0.004346113270371531\n",
      "RMSE val = 0.577035647476002, RMSE test = 0.6061785448193832\n",
      "🏃 View run Lasso_optuna_6 at: http://127.0.0.1:8080/#/experiments/516757630045126067/runs/1393d92301044a34924da22640823c4a\n",
      "🧪 View experiment at: http://127.0.0.1:8080/#/experiments/516757630045126067\n",
      "Alpha = 0.0049069405724022725\n",
      "RMSE val = 0.5772927165625208, RMSE test = 0.6060153497229979\n",
      "🏃 View run Lasso_optuna_7 at: http://127.0.0.1:8080/#/experiments/516757630045126067/runs/de7f47df5e0648ed9a9fa133ef36a7d9\n",
      "🧪 View experiment at: http://127.0.0.1:8080/#/experiments/516757630045126067\n",
      "Alpha = 0.00026521823057008744\n",
      "RMSE val = 0.5711593196633804, RMSE test = 0.6124673246369146\n"
     ]
    },
    {
     "name": "stderr",
     "output_type": "stream",
     "text": [
      "[I 2025-08-02 14:03:25,898] Trial 8 finished with value: 0.571 and parameters: {'alpha': 0.00026521823057008744}. Best is trial 3 with value: 0.571.\n",
      "[I 2025-08-02 14:03:25,968] Trial 9 finished with value: 0.577 and parameters: {'alpha': 0.005334063295402457}. Best is trial 3 with value: 0.571.\n"
     ]
    },
    {
     "name": "stdout",
     "output_type": "stream",
     "text": [
      "🏃 View run Lasso_optuna_8 at: http://127.0.0.1:8080/#/experiments/516757630045126067/runs/e86929c9cda1458db59fb8d2367dd814\n",
      "🧪 View experiment at: http://127.0.0.1:8080/#/experiments/516757630045126067\n",
      "Alpha = 0.005334063295402457\n",
      "RMSE val = 0.5774996111639723, RMSE test = 0.605908854850016\n",
      "🏃 View run Lasso_optuna_9 at: http://127.0.0.1:8080/#/experiments/516757630045126067/runs/fb2366d8c5544774a0576a842dde20c8\n",
      "🧪 View experiment at: http://127.0.0.1:8080/#/experiments/516757630045126067\n",
      "🏃 View run Lasso_optuna at: http://127.0.0.1:8080/#/experiments/516757630045126067/runs/34405e1852b04624bcb1fe1a93bd5146\n",
      "🧪 View experiment at: http://127.0.0.1:8080/#/experiments/516757630045126067\n"
     ]
    }
   ],
   "source": [
    "run_name = 'Lasso_optuna'\n",
    "with mlflow.start_run(run_name=run_name):\n",
    "    study.optimize(\n",
    "    lambda trial: objective(trial, x_train, y_train, x_val, y_val, x_test, y_test),\n",
    "    n_trials=10\n",
    ")\n",
    "    # Log the best metrics and parameters info\n",
    "    mlflow.log_metric(\"best_rmse\", study.best_value)\n",
    "    mlflow.log_params(study.best_params)\n",
    "    mlflow.set_tag('best_model', 'true')\n",
    "    # Refit and log the best model\n",
    "    model = Lasso(**study.best_params)\n",
    "    model.fit(x_train, y_train)\n",
    "    # Log the model\n",
    "    model_info = mlflow.sklearn.log_model(\n",
    "        sk_model=model,\n",
    "        name=\"best_model_lasso\",\n",
    "        input_example=x_train,\n",
    "#         registered_model_name=\"best_model_lasso\",\n",
    "    )"
   ]
  },
  {
   "cell_type": "markdown",
   "id": "4c35040b-c98b-4ae1-8a9e-eb5f22425679",
   "metadata": {},
   "source": [
    "### After the run, we can compare the runs, check the scatter and countour plots of the parameter"
   ]
  },
  {
   "cell_type": "markdown",
   "id": "f0532ef6-0167-45cc-b4d7-03f505c54345",
   "metadata": {},
   "source": [
    "# Loading and registering the best optuna model"
   ]
  },
  {
   "cell_type": "code",
   "execution_count": 67,
   "id": "15099bf5-c0ac-4632-b332-de1683c0f8bc",
   "metadata": {},
   "outputs": [],
   "source": [
    "# Search for the best model\n",
    "client = MlflowClient()"
   ]
  },
  {
   "cell_type": "code",
   "execution_count": 68,
   "id": "ba9e53a5-39f0-463d-aaa4-c5e963dd2ba4",
   "metadata": {},
   "outputs": [],
   "source": [
    "# Search for runs with the \"best_model\" tag set to \"true\"\n",
    "runs = mlflow.search_runs(\n",
    "    filter_string=\"tags.best_model = 'true'\",\n",
    "    order_by=[\"start_time DESC\"],  # Sort by the latest run\n",
    "    max_results=1  # Get only the most recent run\n",
    ")"
   ]
  },
  {
   "cell_type": "code",
   "execution_count": 69,
   "id": "d4a7b344-2222-4b74-9b6c-8fa64f7c63ae",
   "metadata": {},
   "outputs": [
    {
     "data": {
      "text/html": [
       "<div>\n",
       "<style scoped>\n",
       "    .dataframe tbody tr th:only-of-type {\n",
       "        vertical-align: middle;\n",
       "    }\n",
       "\n",
       "    .dataframe tbody tr th {\n",
       "        vertical-align: top;\n",
       "    }\n",
       "\n",
       "    .dataframe thead th {\n",
       "        text-align: right;\n",
       "    }\n",
       "</style>\n",
       "<table border=\"1\" class=\"dataframe\">\n",
       "  <thead>\n",
       "    <tr style=\"text-align: right;\">\n",
       "      <th></th>\n",
       "      <th>run_id</th>\n",
       "      <th>experiment_id</th>\n",
       "      <th>status</th>\n",
       "      <th>artifact_uri</th>\n",
       "      <th>start_time</th>\n",
       "      <th>end_time</th>\n",
       "      <th>metrics.best_rmse</th>\n",
       "      <th>params.alpha</th>\n",
       "      <th>tags.mlflow.source.type</th>\n",
       "      <th>tags.mlflow.source.name</th>\n",
       "      <th>tags.mlflow.runName</th>\n",
       "      <th>tags.best_model</th>\n",
       "      <th>tags.mlflow.user</th>\n",
       "    </tr>\n",
       "  </thead>\n",
       "  <tbody>\n",
       "    <tr>\n",
       "      <th>0</th>\n",
       "      <td>34405e1852b04624bcb1fe1a93bd5146</td>\n",
       "      <td>516757630045126067</td>\n",
       "      <td>FINISHED</td>\n",
       "      <td>mlflow-artifacts:/516757630045126067/34405e185...</td>\n",
       "      <td>2025-08-02 10:03:25.121000+00:00</td>\n",
       "      <td>2025-08-02 10:03:27.047000+00:00</td>\n",
       "      <td>0.571</td>\n",
       "      <td>0.0003134351413728864</td>\n",
       "      <td>LOCAL</td>\n",
       "      <td>/Users/timurbikmuhametov/miniconda3/envs/ml_bl...</td>\n",
       "      <td>Lasso_optuna</td>\n",
       "      <td>true</td>\n",
       "      <td>timurbikmuhametov</td>\n",
       "    </tr>\n",
       "  </tbody>\n",
       "</table>\n",
       "</div>"
      ],
      "text/plain": [
       "                             run_id       experiment_id    status  \\\n",
       "0  34405e1852b04624bcb1fe1a93bd5146  516757630045126067  FINISHED   \n",
       "\n",
       "                                        artifact_uri  \\\n",
       "0  mlflow-artifacts:/516757630045126067/34405e185...   \n",
       "\n",
       "                        start_time                         end_time  \\\n",
       "0 2025-08-02 10:03:25.121000+00:00 2025-08-02 10:03:27.047000+00:00   \n",
       "\n",
       "   metrics.best_rmse           params.alpha tags.mlflow.source.type  \\\n",
       "0              0.571  0.0003134351413728864                   LOCAL   \n",
       "\n",
       "                             tags.mlflow.source.name tags.mlflow.runName  \\\n",
       "0  /Users/timurbikmuhametov/miniconda3/envs/ml_bl...        Lasso_optuna   \n",
       "\n",
       "  tags.best_model   tags.mlflow.user  \n",
       "0            true  timurbikmuhametov  "
      ]
     },
     "execution_count": 69,
     "metadata": {},
     "output_type": "execute_result"
    }
   ],
   "source": [
    "runs"
   ]
  },
  {
   "cell_type": "code",
   "execution_count": 70,
   "id": "96d1393e-c68f-4e5e-9ebe-6c15a71c0df1",
   "metadata": {},
   "outputs": [],
   "source": [
    "# Get the run ID of the latest \"best_model\" if there are several\n",
    "latest_exp_id = runs.iloc[0].experiment_id\n",
    "latest_run_id = runs.iloc[0].run_id"
   ]
  },
  {
   "cell_type": "code",
   "execution_count": 71,
   "id": "f9fb1507-8d01-4118-9256-3e857b377712",
   "metadata": {},
   "outputs": [],
   "source": [
    "# List all artifacts for the given run_id\n",
    "artifacts = client.list_artifacts(latest_run_id)\n",
    "for artifact in artifacts:\n",
    "    print(artifact.path)"
   ]
  },
  {
   "cell_type": "code",
   "execution_count": 72,
   "id": "c2e0e4c1-a07c-426c-9fd5-94dbd540fbde",
   "metadata": {},
   "outputs": [
    {
     "data": {
      "application/vnd.jupyter.widget-view+json": {
       "model_id": "67a0334f305c4906a9d878bfa77ef232",
       "version_major": 2,
       "version_minor": 0
      },
      "text/plain": [
       "Downloading artifacts:   0%|          | 0/1 [00:00<?, ?it/s]"
      ]
     },
     "metadata": {},
     "output_type": "display_data"
    },
    {
     "data": {
      "application/vnd.jupyter.widget-view+json": {
       "model_id": "108b603b5b9a4521bfa1a1c67ce9fb6c",
       "version_major": 2,
       "version_minor": 0
      },
      "text/plain": [
       "Downloading artifacts:   0%|          | 0/7 [00:00<?, ?it/s]"
      ]
     },
     "metadata": {},
     "output_type": "display_data"
    }
   ],
   "source": [
    "# Load the latest best model (adjust artifact path if needed)\n",
    "model_uri = f\"runs:/{latest_run_id}/best_model_lasso\"  # or ridge_model, etc.\n",
    "latest_best_model = mlflow.sklearn.load_model(model_uri)"
   ]
  },
  {
   "cell_type": "code",
   "execution_count": 74,
   "id": "3e72c060-bd1c-4f31-8fcb-f05c2b6e7291",
   "metadata": {},
   "outputs": [
    {
     "data": {
      "text/html": [
       "<style>#sk-container-id-3 {color: black;background-color: white;}#sk-container-id-3 pre{padding: 0;}#sk-container-id-3 div.sk-toggleable {background-color: white;}#sk-container-id-3 label.sk-toggleable__label {cursor: pointer;display: block;width: 100%;margin-bottom: 0;padding: 0.3em;box-sizing: border-box;text-align: center;}#sk-container-id-3 label.sk-toggleable__label-arrow:before {content: \"▸\";float: left;margin-right: 0.25em;color: #696969;}#sk-container-id-3 label.sk-toggleable__label-arrow:hover:before {color: black;}#sk-container-id-3 div.sk-estimator:hover label.sk-toggleable__label-arrow:before {color: black;}#sk-container-id-3 div.sk-toggleable__content {max-height: 0;max-width: 0;overflow: hidden;text-align: left;background-color: #f0f8ff;}#sk-container-id-3 div.sk-toggleable__content pre {margin: 0.2em;color: black;border-radius: 0.25em;background-color: #f0f8ff;}#sk-container-id-3 input.sk-toggleable__control:checked~div.sk-toggleable__content {max-height: 200px;max-width: 100%;overflow: auto;}#sk-container-id-3 input.sk-toggleable__control:checked~label.sk-toggleable__label-arrow:before {content: \"▾\";}#sk-container-id-3 div.sk-estimator input.sk-toggleable__control:checked~label.sk-toggleable__label {background-color: #d4ebff;}#sk-container-id-3 div.sk-label input.sk-toggleable__control:checked~label.sk-toggleable__label {background-color: #d4ebff;}#sk-container-id-3 input.sk-hidden--visually {border: 0;clip: rect(1px 1px 1px 1px);clip: rect(1px, 1px, 1px, 1px);height: 1px;margin: -1px;overflow: hidden;padding: 0;position: absolute;width: 1px;}#sk-container-id-3 div.sk-estimator {font-family: monospace;background-color: #f0f8ff;border: 1px dotted black;border-radius: 0.25em;box-sizing: border-box;margin-bottom: 0.5em;}#sk-container-id-3 div.sk-estimator:hover {background-color: #d4ebff;}#sk-container-id-3 div.sk-parallel-item::after {content: \"\";width: 100%;border-bottom: 1px solid gray;flex-grow: 1;}#sk-container-id-3 div.sk-label:hover label.sk-toggleable__label {background-color: #d4ebff;}#sk-container-id-3 div.sk-serial::before {content: \"\";position: absolute;border-left: 1px solid gray;box-sizing: border-box;top: 0;bottom: 0;left: 50%;z-index: 0;}#sk-container-id-3 div.sk-serial {display: flex;flex-direction: column;align-items: center;background-color: white;padding-right: 0.2em;padding-left: 0.2em;position: relative;}#sk-container-id-3 div.sk-item {position: relative;z-index: 1;}#sk-container-id-3 div.sk-parallel {display: flex;align-items: stretch;justify-content: center;background-color: white;position: relative;}#sk-container-id-3 div.sk-item::before, #sk-container-id-3 div.sk-parallel-item::before {content: \"\";position: absolute;border-left: 1px solid gray;box-sizing: border-box;top: 0;bottom: 0;left: 50%;z-index: -1;}#sk-container-id-3 div.sk-parallel-item {display: flex;flex-direction: column;z-index: 1;position: relative;background-color: white;}#sk-container-id-3 div.sk-parallel-item:first-child::after {align-self: flex-end;width: 50%;}#sk-container-id-3 div.sk-parallel-item:last-child::after {align-self: flex-start;width: 50%;}#sk-container-id-3 div.sk-parallel-item:only-child::after {width: 0;}#sk-container-id-3 div.sk-dashed-wrapped {border: 1px dashed gray;margin: 0 0.4em 0.5em 0.4em;box-sizing: border-box;padding-bottom: 0.4em;background-color: white;}#sk-container-id-3 div.sk-label label {font-family: monospace;font-weight: bold;display: inline-block;line-height: 1.2em;}#sk-container-id-3 div.sk-label-container {text-align: center;}#sk-container-id-3 div.sk-container {/* jupyter's `normalize.less` sets `[hidden] { display: none; }` but bootstrap.min.css set `[hidden] { display: none !important; }` so we also need the `!important` here to be able to override the default hidden behavior on the sphinx rendered scikit-learn.org. See: https://github.com/scikit-learn/scikit-learn/issues/21755 */display: inline-block !important;position: relative;}#sk-container-id-3 div.sk-text-repr-fallback {display: none;}</style><div id=\"sk-container-id-3\" class=\"sk-top-container\"><div class=\"sk-text-repr-fallback\"><pre>Lasso(alpha=0.0003134351413728864)</pre><b>In a Jupyter environment, please rerun this cell to show the HTML representation or trust the notebook. <br />On GitHub, the HTML representation is unable to render, please try loading this page with nbviewer.org.</b></div><div class=\"sk-container\" hidden><div class=\"sk-item\"><div class=\"sk-estimator sk-toggleable\"><input class=\"sk-toggleable__control sk-hidden--visually\" id=\"sk-estimator-id-3\" type=\"checkbox\" checked><label for=\"sk-estimator-id-3\" class=\"sk-toggleable__label sk-toggleable__label-arrow\">Lasso</label><div class=\"sk-toggleable__content\"><pre>Lasso(alpha=0.0003134351413728864)</pre></div></div></div></div></div>"
      ],
      "text/plain": [
       "Lasso(alpha=0.0003134351413728864)"
      ]
     },
     "execution_count": 74,
     "metadata": {},
     "output_type": "execute_result"
    }
   ],
   "source": [
    "latest_best_model"
   ]
  },
  {
   "cell_type": "code",
   "execution_count": 73,
   "id": "c7ba94e5-75e2-414e-85be-6a1ee498b18d",
   "metadata": {},
   "outputs": [
    {
     "name": "stderr",
     "output_type": "stream",
     "text": [
      "Successfully registered model 'prod_lasso_model'.\n",
      "2025/08/02 14:08:37 WARNING mlflow.tracking._model_registry.fluent: Run with id 34405e1852b04624bcb1fe1a93bd5146 has no artifacts at artifact path 'best_model_lasso', registering model based on models:/m-279c6abed3a24012b3169306a0d3726f instead\n",
      "2025/08/02 14:08:37 INFO mlflow.store.model_registry.abstract_store: Waiting up to 300 seconds for model version to finish creation. Model name: prod_lasso_model, version 1\n",
      "Created version '1' of model 'prod_lasso_model'.\n"
     ]
    },
    {
     "data": {
      "text/plain": [
       "<ModelVersion: aliases=[], creation_timestamp=1754129317360, current_stage='None', deployment_job_state=<ModelVersionDeploymentJobState: current_task_name='', job_id='', job_state='DEPLOYMENT_JOB_CONNECTION_STATE_UNSPECIFIED', run_id='', run_state='DEPLOYMENT_JOB_RUN_STATE_UNSPECIFIED'>, description='', last_updated_timestamp=1754129317360, metrics=None, model_id=None, name='prod_lasso_model', params=None, run_id='34405e1852b04624bcb1fe1a93bd5146', run_link='', source='models:/m-279c6abed3a24012b3169306a0d3726f', status='READY', status_message=None, tags={}, user_id='', version='1'>"
      ]
     },
     "execution_count": 73,
     "metadata": {},
     "output_type": "execute_result"
    }
   ],
   "source": [
    "# Register the best model\n",
    "mlflow.register_model(model_uri, \"prod_lasso_model\")"
   ]
  },
  {
   "cell_type": "markdown",
   "id": "3e67ed68-85b3-476c-ac43-48df7f41a40f",
   "metadata": {},
   "source": [
    "# Loading the registered model"
   ]
  },
  {
   "cell_type": "code",
   "execution_count": 73,
   "id": "9cbbcbbf-640d-4efa-a692-51c31059dc75",
   "metadata": {},
   "outputs": [
    {
     "name": "stderr",
     "output_type": "stream",
     "text": [
      "/Users/timurbikmuhametov/miniconda3/envs/ml-project/lib/python3.10/site-packages/mlflow/store/artifact/utils/models.py:31: FutureWarning: ``mlflow.tracking.client.MlflowClient.get_latest_versions`` is deprecated since 2.9.0. Model registry stages will be removed in a future major release. To learn more about the deprecation of model registry stages, see our migration guide here: https://mlflow.org/docs/latest/model-registry.html#migrating-from-stages\n",
      "  latest = client.get_latest_versions(name, None if stage is None else [stage])\n"
     ]
    },
    {
     "data": {
      "application/vnd.jupyter.widget-view+json": {
       "model_id": "d3fb93f9ad674da8a788e6711a3bacdd",
       "version_major": 2,
       "version_minor": 0
      },
      "text/plain": [
       "Downloading artifacts:   0%|          | 0/7 [00:00<?, ?it/s]"
      ]
     },
     "metadata": {},
     "output_type": "display_data"
    }
   ],
   "source": [
    "model_name = \"prod_lasso_model\"\n",
    "model_version = \"latest\"\n",
    "\n",
    "# Load the model from the Model Registry\n",
    "model_uri = f\"models:/{model_name}/{model_version}\"\n",
    "model = mlflow.sklearn.load_model(model_uri)"
   ]
  }
 ],
 "metadata": {
  "kernelspec": {
   "display_name": "Python 3 (ipykernel)",
   "language": "python",
   "name": "python3"
  },
  "language_info": {
   "codemirror_mode": {
    "name": "ipython",
    "version": 3
   },
   "file_extension": ".py",
   "mimetype": "text/x-python",
   "name": "python",
   "nbconvert_exporter": "python",
   "pygments_lexer": "ipython3",
   "version": "3.11.13"
  }
 },
 "nbformat": 4,
 "nbformat_minor": 5
}
