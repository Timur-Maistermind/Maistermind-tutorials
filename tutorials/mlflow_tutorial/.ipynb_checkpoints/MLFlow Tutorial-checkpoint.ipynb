{
 "cells": [
  {
   "cell_type": "code",
   "execution_count": 17,
   "id": "a512b9ec-3873-4da8-a16a-605ea755808b",
   "metadata": {},
   "outputs": [],
   "source": [
    "import numpy as np\n",
    "import pandas as pd\n",
    "import mlflow\n",
    "import optuna\n",
    "import mlflow.sklearn\n",
    "from mlflow.tracking import MlflowClient\n",
    "from sklearn.datasets import make_regression\n",
    "from sklearn.linear_model import Lasso\n",
    "from sklearn.metrics import mean_squared_error\n",
    "from sklearn.model_selection import train_test_split, cross_val_score\n",
    "from mlflow.models import infer_signature"
   ]
  },
  {
   "cell_type": "markdown",
   "id": "69f09765-3b79-4587-a2e3-8a009a782ff5",
   "metadata": {},
   "source": [
    "# MLFlow"
   ]
  },
  {
   "cell_type": "markdown",
   "id": "efdd6522-0245-4583-accf-1b27c58ea77f",
   "metadata": {},
   "source": [
    "# Step 1 - Start ML Tracking Server"
   ]
  },
  {
   "cell_type": "markdown",
   "id": "2a064223-10c7-475e-aecd-9bae90b237ea",
   "metadata": {},
   "source": [
    "In the terminal, navigate to the notebook folder and the start the ml server\n",
    "\n",
    "Run in the terminal (command line): mlflow server --host 127.0.0.1 --port 8080\n",
    "\n",
    "This will start the server, visit 127.0.0.1:8080 or localhost:8080"
   ]
  },
  {
   "cell_type": "markdown",
   "id": "b50c8aa0-0b1a-471e-9d0b-39a09ce395fc",
   "metadata": {},
   "source": [
    "# Step 2"
   ]
  },
  {
   "cell_type": "code",
   "execution_count": 2,
   "id": "b7384755-4370-4e02-8c07-e2170704aecb",
   "metadata": {},
   "outputs": [],
   "source": [
    "# Set the tracking uri\n",
    "mlflow.set_tracking_uri(uri=\"http://127.0.0.1:8080\")"
   ]
  },
  {
   "cell_type": "code",
   "execution_count": 3,
   "id": "29bf7ea4-2c2d-4ec1-9ee5-82152447c270",
   "metadata": {},
   "outputs": [
    {
     "name": "stdout",
     "output_type": "stream",
     "text": [
      "Current Tracking URI: http://127.0.0.1:8080\n"
     ]
    }
   ],
   "source": [
    "print(\"Current Tracking URI:\", mlflow.get_tracking_uri())"
   ]
  },
  {
   "cell_type": "markdown",
   "id": "aec196ff-bc27-4831-9d1f-9048a22a94c6",
   "metadata": {},
   "source": [
    "__Detailed Explanation__\n",
    "mlflow.set_tracking_uri() configures where MLflow will store experiment metadata.\n",
    "uri=\"http://127.0.0.1:8080\" points to an MLflow Tracking Server running locally on your machine at port 8080.\n",
    "\n",
    "__How It Works__\n",
    "\n",
    "\n",
    "-> Experiment Metadata Logging\n",
    "\n",
    "All logs of experiments (parameters, metrics, tags) will be stored on the MLflow server running at http://127.0.0.1:8080.\n",
    "\n",
    "Also, by default, it stores the artifacts on the mlruns folder created locally\n",
    "\n",
    "\n",
    "-> Model Artifact Logging\n",
    "\n",
    "Artifacts like models, plots, and files will be stored in the location configured on the server (--default-artifact-root).\n",
    "\n",
    "__UI Access__\n",
    "You can view experiments in the MLflow UI by visiting:\n",
    "🔗 http://127.0.0.1:8080"
   ]
  },
  {
   "cell_type": "markdown",
   "id": "24b2e086-b992-4313-85f2-01f82f8893fd",
   "metadata": {},
   "source": [
    "# Step 3"
   ]
  },
  {
   "cell_type": "markdown",
   "id": "f8942f66-07bc-49c5-af15-3bd136ff7f47",
   "metadata": {},
   "source": [
    "Create an MLFLow Experiment. It will create a folder with artifact_location= ... name in the mlruns folder"
   ]
  },
  {
   "cell_type": "code",
   "execution_count": 23,
   "id": "49a77b6e-496a-4ec9-9c00-abbd9b15ede8",
   "metadata": {},
   "outputs": [
    {
     "data": {
      "text/plain": [
       "<Experiment: artifact_location='mlflow-artifacts:/516757630045126067', creation_time=1754054035158, experiment_id='516757630045126067', last_update_time=1754054035158, lifecycle_stage='active', name='First Experiment', tags={}>"
      ]
     },
     "execution_count": 23,
     "metadata": {},
     "output_type": "execute_result"
    }
   ],
   "source": [
    "mlflow.set_experiment(\"First Experiment\")"
   ]
  },
  {
   "cell_type": "markdown",
   "id": "586f53a5-ec53-429c-9444-3b6e7ed51b4e",
   "metadata": {},
   "source": [
    "# Step 4"
   ]
  },
  {
   "cell_type": "markdown",
   "id": "dc342a7a-840f-424c-ac09-86b0f1b2817c",
   "metadata": {},
   "source": [
    "Prepare the data and fit the model"
   ]
  },
  {
   "cell_type": "code",
   "execution_count": 24,
   "id": "d581e782-0705-4037-b949-87123cc75ecf",
   "metadata": {},
   "outputs": [],
   "source": [
    "# Load datasets\n",
    "df = pd.read_csv('WineQT.csv', sep=',')"
   ]
  },
  {
   "cell_type": "code",
   "execution_count": 25,
   "id": "bada06a6-aef2-4d8a-a9b8-4176bd309bb3",
   "metadata": {},
   "outputs": [
    {
     "data": {
      "text/html": [
       "<div>\n",
       "<style scoped>\n",
       "    .dataframe tbody tr th:only-of-type {\n",
       "        vertical-align: middle;\n",
       "    }\n",
       "\n",
       "    .dataframe tbody tr th {\n",
       "        vertical-align: top;\n",
       "    }\n",
       "\n",
       "    .dataframe thead th {\n",
       "        text-align: right;\n",
       "    }\n",
       "</style>\n",
       "<table border=\"1\" class=\"dataframe\">\n",
       "  <thead>\n",
       "    <tr style=\"text-align: right;\">\n",
       "      <th></th>\n",
       "      <th>fixed acidity</th>\n",
       "      <th>volatile acidity</th>\n",
       "      <th>citric acid</th>\n",
       "      <th>residual sugar</th>\n",
       "      <th>chlorides</th>\n",
       "      <th>free sulfur dioxide</th>\n",
       "      <th>total sulfur dioxide</th>\n",
       "      <th>density</th>\n",
       "      <th>pH</th>\n",
       "      <th>sulphates</th>\n",
       "      <th>alcohol</th>\n",
       "      <th>quality</th>\n",
       "      <th>Id</th>\n",
       "    </tr>\n",
       "  </thead>\n",
       "  <tbody>\n",
       "    <tr>\n",
       "      <th>0</th>\n",
       "      <td>7.4</td>\n",
       "      <td>0.70</td>\n",
       "      <td>0.00</td>\n",
       "      <td>1.9</td>\n",
       "      <td>0.076</td>\n",
       "      <td>11.0</td>\n",
       "      <td>34.0</td>\n",
       "      <td>0.9978</td>\n",
       "      <td>3.51</td>\n",
       "      <td>0.56</td>\n",
       "      <td>9.4</td>\n",
       "      <td>5</td>\n",
       "      <td>0</td>\n",
       "    </tr>\n",
       "    <tr>\n",
       "      <th>1</th>\n",
       "      <td>7.8</td>\n",
       "      <td>0.88</td>\n",
       "      <td>0.00</td>\n",
       "      <td>2.6</td>\n",
       "      <td>0.098</td>\n",
       "      <td>25.0</td>\n",
       "      <td>67.0</td>\n",
       "      <td>0.9968</td>\n",
       "      <td>3.20</td>\n",
       "      <td>0.68</td>\n",
       "      <td>9.8</td>\n",
       "      <td>5</td>\n",
       "      <td>1</td>\n",
       "    </tr>\n",
       "    <tr>\n",
       "      <th>2</th>\n",
       "      <td>7.8</td>\n",
       "      <td>0.76</td>\n",
       "      <td>0.04</td>\n",
       "      <td>2.3</td>\n",
       "      <td>0.092</td>\n",
       "      <td>15.0</td>\n",
       "      <td>54.0</td>\n",
       "      <td>0.9970</td>\n",
       "      <td>3.26</td>\n",
       "      <td>0.65</td>\n",
       "      <td>9.8</td>\n",
       "      <td>5</td>\n",
       "      <td>2</td>\n",
       "    </tr>\n",
       "  </tbody>\n",
       "</table>\n",
       "</div>"
      ],
      "text/plain": [
       "   fixed acidity  volatile acidity  citric acid  residual sugar  chlorides  \\\n",
       "0            7.4              0.70         0.00             1.9      0.076   \n",
       "1            7.8              0.88         0.00             2.6      0.098   \n",
       "2            7.8              0.76         0.04             2.3      0.092   \n",
       "\n",
       "   free sulfur dioxide  total sulfur dioxide  density    pH  sulphates  \\\n",
       "0                 11.0                  34.0   0.9978  3.51       0.56   \n",
       "1                 25.0                  67.0   0.9968  3.20       0.68   \n",
       "2                 15.0                  54.0   0.9970  3.26       0.65   \n",
       "\n",
       "   alcohol  quality  Id  \n",
       "0      9.4        5   0  \n",
       "1      9.8        5   1  \n",
       "2      9.8        5   2  "
      ]
     },
     "execution_count": 25,
     "metadata": {},
     "output_type": "execute_result"
    }
   ],
   "source": [
    "df.head(3)"
   ]
  },
  {
   "cell_type": "code",
   "execution_count": 26,
   "id": "ebf447c5-b54f-4348-a2e9-177814091729",
   "metadata": {},
   "outputs": [],
   "source": [
    "# Split the data into training, validation, and test sets\n",
    "train, test = train_test_split(df, test_size=0.25, random_state=42)\n",
    "x_train = train.drop([\"quality\"], axis=1).values\n",
    "y_train = train[[\"quality\"]].values.ravel()\n",
    "x_test= test.drop([\"quality\"], axis=1).values\n",
    "y_test = test[[\"quality\"]].values.ravel()"
   ]
  },
  {
   "cell_type": "code",
   "execution_count": 27,
   "id": "9d9e886b-3567-41be-b7ae-df8002e4ac03",
   "metadata": {},
   "outputs": [],
   "source": [
    "x_train, x_val, y_train, y_val = train_test_split(\n",
    "    x_train, y_train, test_size=0.2, random_state=42\n",
    ")"
   ]
  },
  {
   "cell_type": "code",
   "execution_count": 28,
   "id": "de84366d-3ae0-45a8-a1ca-143e26502f4b",
   "metadata": {},
   "outputs": [
    {
     "data": {
      "text/html": [
       "<style>#sk-container-id-2 {color: black;background-color: white;}#sk-container-id-2 pre{padding: 0;}#sk-container-id-2 div.sk-toggleable {background-color: white;}#sk-container-id-2 label.sk-toggleable__label {cursor: pointer;display: block;width: 100%;margin-bottom: 0;padding: 0.3em;box-sizing: border-box;text-align: center;}#sk-container-id-2 label.sk-toggleable__label-arrow:before {content: \"▸\";float: left;margin-right: 0.25em;color: #696969;}#sk-container-id-2 label.sk-toggleable__label-arrow:hover:before {color: black;}#sk-container-id-2 div.sk-estimator:hover label.sk-toggleable__label-arrow:before {color: black;}#sk-container-id-2 div.sk-toggleable__content {max-height: 0;max-width: 0;overflow: hidden;text-align: left;background-color: #f0f8ff;}#sk-container-id-2 div.sk-toggleable__content pre {margin: 0.2em;color: black;border-radius: 0.25em;background-color: #f0f8ff;}#sk-container-id-2 input.sk-toggleable__control:checked~div.sk-toggleable__content {max-height: 200px;max-width: 100%;overflow: auto;}#sk-container-id-2 input.sk-toggleable__control:checked~label.sk-toggleable__label-arrow:before {content: \"▾\";}#sk-container-id-2 div.sk-estimator input.sk-toggleable__control:checked~label.sk-toggleable__label {background-color: #d4ebff;}#sk-container-id-2 div.sk-label input.sk-toggleable__control:checked~label.sk-toggleable__label {background-color: #d4ebff;}#sk-container-id-2 input.sk-hidden--visually {border: 0;clip: rect(1px 1px 1px 1px);clip: rect(1px, 1px, 1px, 1px);height: 1px;margin: -1px;overflow: hidden;padding: 0;position: absolute;width: 1px;}#sk-container-id-2 div.sk-estimator {font-family: monospace;background-color: #f0f8ff;border: 1px dotted black;border-radius: 0.25em;box-sizing: border-box;margin-bottom: 0.5em;}#sk-container-id-2 div.sk-estimator:hover {background-color: #d4ebff;}#sk-container-id-2 div.sk-parallel-item::after {content: \"\";width: 100%;border-bottom: 1px solid gray;flex-grow: 1;}#sk-container-id-2 div.sk-label:hover label.sk-toggleable__label {background-color: #d4ebff;}#sk-container-id-2 div.sk-serial::before {content: \"\";position: absolute;border-left: 1px solid gray;box-sizing: border-box;top: 0;bottom: 0;left: 50%;z-index: 0;}#sk-container-id-2 div.sk-serial {display: flex;flex-direction: column;align-items: center;background-color: white;padding-right: 0.2em;padding-left: 0.2em;position: relative;}#sk-container-id-2 div.sk-item {position: relative;z-index: 1;}#sk-container-id-2 div.sk-parallel {display: flex;align-items: stretch;justify-content: center;background-color: white;position: relative;}#sk-container-id-2 div.sk-item::before, #sk-container-id-2 div.sk-parallel-item::before {content: \"\";position: absolute;border-left: 1px solid gray;box-sizing: border-box;top: 0;bottom: 0;left: 50%;z-index: -1;}#sk-container-id-2 div.sk-parallel-item {display: flex;flex-direction: column;z-index: 1;position: relative;background-color: white;}#sk-container-id-2 div.sk-parallel-item:first-child::after {align-self: flex-end;width: 50%;}#sk-container-id-2 div.sk-parallel-item:last-child::after {align-self: flex-start;width: 50%;}#sk-container-id-2 div.sk-parallel-item:only-child::after {width: 0;}#sk-container-id-2 div.sk-dashed-wrapped {border: 1px dashed gray;margin: 0 0.4em 0.5em 0.4em;box-sizing: border-box;padding-bottom: 0.4em;background-color: white;}#sk-container-id-2 div.sk-label label {font-family: monospace;font-weight: bold;display: inline-block;line-height: 1.2em;}#sk-container-id-2 div.sk-label-container {text-align: center;}#sk-container-id-2 div.sk-container {/* jupyter's `normalize.less` sets `[hidden] { display: none; }` but bootstrap.min.css set `[hidden] { display: none !important; }` so we also need the `!important` here to be able to override the default hidden behavior on the sphinx rendered scikit-learn.org. See: https://github.com/scikit-learn/scikit-learn/issues/21755 */display: inline-block !important;position: relative;}#sk-container-id-2 div.sk-text-repr-fallback {display: none;}</style><div id=\"sk-container-id-2\" class=\"sk-top-container\"><div class=\"sk-text-repr-fallback\"><pre>Lasso(alpha=0.1)</pre><b>In a Jupyter environment, please rerun this cell to show the HTML representation or trust the notebook. <br />On GitHub, the HTML representation is unable to render, please try loading this page with nbviewer.org.</b></div><div class=\"sk-container\" hidden><div class=\"sk-item\"><div class=\"sk-estimator sk-toggleable\"><input class=\"sk-toggleable__control sk-hidden--visually\" id=\"sk-estimator-id-2\" type=\"checkbox\" checked><label for=\"sk-estimator-id-2\" class=\"sk-toggleable__label sk-toggleable__label-arrow\">Lasso</label><div class=\"sk-toggleable__content\"><pre>Lasso(alpha=0.1)</pre></div></div></div></div></div>"
      ],
      "text/plain": [
       "Lasso(alpha=0.1)"
      ]
     },
     "execution_count": 28,
     "metadata": {},
     "output_type": "execute_result"
    }
   ],
   "source": [
    "alpha = 0.1\n",
    "model = Lasso(alpha=alpha)\n",
    "model.fit(x_train, y_train)"
   ]
  },
  {
   "cell_type": "code",
   "execution_count": 29,
   "id": "0a1ed349-8ddc-43a1-97c9-345107655d7e",
   "metadata": {},
   "outputs": [],
   "source": [
    "y_pred_val = model.predict(x_val)\n",
    "y_pred_test = model.predict(x_test)"
   ]
  },
  {
   "cell_type": "code",
   "execution_count": 30,
   "id": "d29ec525-aaaa-44ed-a2bd-41790d8b5be0",
   "metadata": {},
   "outputs": [
    {
     "name": "stdout",
     "output_type": "stream",
     "text": [
      "RMSE val = 0.6356127117266147, RMSE test = 0.638554128638353\n"
     ]
    }
   ],
   "source": [
    "rmse_val = np.sqrt(mean_squared_error(y_val, y_pred_val))\n",
    "rmse_test = np.sqrt(mean_squared_error(y_test, y_pred_test))\n",
    "print(f'RMSE val = {rmse_val}, RMSE test = {rmse_test}')"
   ]
  },
  {
   "cell_type": "code",
   "execution_count": 31,
   "id": "83489dcd-a821-4782-bbbc-3526c486c09b",
   "metadata": {},
   "outputs": [],
   "source": [
    "params = {\n",
    "    'alpha': model.alpha\n",
    "}"
   ]
  },
  {
   "cell_type": "code",
   "execution_count": 32,
   "id": "389d7191-26c1-4858-8259-4a397ef38899",
   "metadata": {},
   "outputs": [
    {
     "name": "stderr",
     "output_type": "stream",
     "text": [
      "Registered model 'lasso_baseline_1' already exists. Creating a new version of this model...\n",
      "2025/08/01 17:41:49 INFO mlflow.store.model_registry.abstract_store: Waiting up to 300 seconds for model version to finish creation. Model name: lasso_baseline_1, version 3\n"
     ]
    },
    {
     "name": "stdout",
     "output_type": "stream",
     "text": [
      "🏃 View run lasso_baseline at: http://127.0.0.1:8080/#/experiments/516757630045126067/runs/184179c5c21c4adc890edf7cca462a03\n",
      "🧪 View experiment at: http://127.0.0.1:8080/#/experiments/516757630045126067\n"
     ]
    },
    {
     "name": "stderr",
     "output_type": "stream",
     "text": [
      "Created version '3' of model 'lasso_baseline_1'.\n"
     ]
    }
   ],
   "source": [
    "# Start an MLflow run\n",
    "with mlflow.start_run(run_name='lasso_baseline'):\n",
    "    # Log the hyperparameters\n",
    "    mlflow.log_params(params)\n",
    "    # Log the loss metric\n",
    "    mlflow.log_metric(\"rmse_val\", rmse_val)\n",
    "    mlflow.log_metric(\"rmse_test\", rmse_test)\n",
    "    # Set a tag that we can use to remind ourselves what this run was for\n",
    "    mlflow.set_tag(\"model_version\", \"baseline\")\n",
    "\n",
    "    # Log the model\n",
    "    model_info = mlflow.sklearn.log_model(\n",
    "        sk_model=model,\n",
    "        name=\"wine_model_lasso\",\n",
    "        input_example=x_train,\n",
    "        registered_model_name=\"lasso_baseline_1\",\n",
    "    )"
   ]
  },
  {
   "cell_type": "markdown",
   "id": "9efa1a5e-036d-4482-8fdf-3abee47c2901",
   "metadata": {},
   "source": [
    "## Child runs"
   ]
  },
  {
   "cell_type": "markdown",
   "id": "d86c0b5a-8ed1-4c32-b257-fac33db32b15",
   "metadata": {},
   "source": [
    "Within the same run, you can create child runs with different parameters"
   ]
  },
  {
   "cell_type": "code",
   "execution_count": 50,
   "id": "037b8fa8-b353-4108-a641-47876a486528",
   "metadata": {},
   "outputs": [],
   "source": [
    "# Define a function to log parameters and metrics and add tag\n",
    "# logging for search_runs functionality\n",
    "def log_run(run_name, iteration, params, rmse_val, rmse_test):\n",
    "    with mlflow.start_run(run_name=f\"{run_name}_{iteration}\", nested=True):\n",
    "        # Log the hyperparameters\n",
    "        mlflow.log_params(params)\n",
    "        # Log the loss metric\n",
    "        mlflow.log_metric(\"rmse_error_val\", rmse_val)\n",
    "        mlflow.log_metric(\"rmse_error_test\", rmse_test)"
   ]
  },
  {
   "cell_type": "code",
   "execution_count": 45,
   "id": "cbc0fa06-7daa-44a3-85a8-b901bed7e430",
   "metadata": {},
   "outputs": [
    {
     "name": "stdout",
     "output_type": "stream",
     "text": [
      "[1.0, 0.4641588833612779, 0.2154434690031884, 0.1, 0.046415888336127795, 0.021544346900318846, 0.01, 0.004641588833612782, 0.0021544346900318843, 0.001]\n"
     ]
    }
   ],
   "source": [
    "# Specify several alphas\n",
    "alpha_range = np.logspace(0, -3, num=10).tolist()\n",
    "print(alpha_range)"
   ]
  },
  {
   "cell_type": "code",
   "execution_count": 47,
   "id": "43fa77e5-7aee-49b7-9421-e5ec21500fc7",
   "metadata": {},
   "outputs": [
    {
     "name": "stdout",
     "output_type": "stream",
     "text": [
      "Iteration 0, rmse=0.7374379792573892\n",
      "🏃 View run Lasso_nested_0 at: http://127.0.0.1:8080/#/experiments/516757630045126067/runs/6f9fc596e26e41a4b2ca7da25f60e43d\n",
      "🧪 View experiment at: http://127.0.0.1:8080/#/experiments/516757630045126067\n",
      "Iteration 1, rmse=0.7366319489063405\n",
      "🏃 View run Lasso_nested_1 at: http://127.0.0.1:8080/#/experiments/516757630045126067/runs/a8a8a49b7ee24291851614e8a1a531ea\n",
      "🧪 View experiment at: http://127.0.0.1:8080/#/experiments/516757630045126067\n",
      "Iteration 2, rmse=0.6743324662326164\n",
      "🏃 View run Lasso_nested_2 at: http://127.0.0.1:8080/#/experiments/516757630045126067/runs/b31bfac145a041a79bfc32483ac0d2a1\n",
      "🧪 View experiment at: http://127.0.0.1:8080/#/experiments/516757630045126067\n",
      "Iteration 3, rmse=0.638554128638353\n",
      "🏃 View run Lasso_nested_3 at: http://127.0.0.1:8080/#/experiments/516757630045126067/runs/ce7ddb15126a4965833f0d4d2a74d918\n",
      "🧪 View experiment at: http://127.0.0.1:8080/#/experiments/516757630045126067\n",
      "Iteration 4, rmse=0.628923587071802\n",
      "🏃 View run Lasso_nested_4 at: http://127.0.0.1:8080/#/experiments/516757630045126067/runs/4a4582937c46429eafb44117f2b1bb3d\n",
      "🧪 View experiment at: http://127.0.0.1:8080/#/experiments/516757630045126067\n",
      "Iteration 5, rmse=0.6128059355142866\n",
      "🏃 View run Lasso_nested_5 at: http://127.0.0.1:8080/#/experiments/516757630045126067/runs/063ae0e2a8a34aab9a280be2ce489260\n",
      "🧪 View experiment at: http://127.0.0.1:8080/#/experiments/516757630045126067\n",
      "Iteration 6, rmse=0.605750602168249\n",
      "🏃 View run Lasso_nested_6 at: http://127.0.0.1:8080/#/experiments/516757630045126067/runs/8bf6bceb9fe8464b8a3bddf8189c47d2\n",
      "🧪 View experiment at: http://127.0.0.1:8080/#/experiments/516757630045126067\n",
      "Iteration 7, rmse=0.6060892593315526\n",
      "🏃 View run Lasso_nested_7 at: http://127.0.0.1:8080/#/experiments/516757630045126067/runs/4e7b30e375554027a773a963ec4f821d\n",
      "🧪 View experiment at: http://127.0.0.1:8080/#/experiments/516757630045126067\n",
      "Iteration 8, rmse=0.6072882839308418\n",
      "🏃 View run Lasso_nested_8 at: http://127.0.0.1:8080/#/experiments/516757630045126067/runs/797e2ed50346486daa2f52fbb720ddb1\n",
      "🧪 View experiment at: http://127.0.0.1:8080/#/experiments/516757630045126067\n",
      "Iteration 9, rmse=0.6098083649853254\n",
      "🏃 View run Lasso_nested_9 at: http://127.0.0.1:8080/#/experiments/516757630045126067/runs/bb731b28032a4753997f2e36265059ac\n",
      "🧪 View experiment at: http://127.0.0.1:8080/#/experiments/516757630045126067\n",
      "🏃 View run Lasso_nested at: http://127.0.0.1:8080/#/experiments/516757630045126067/runs/2f547ee274254b9bbade6e4ba6c8f48c\n",
      "🧪 View experiment at: http://127.0.0.1:8080/#/experiments/516757630045126067\n"
     ]
    }
   ],
   "source": [
    "run_name = 'Lasso_nested'\n",
    "with mlflow.start_run(run_name=run_name):\n",
    "    for idx, alpha in enumerate(alpha_range):\n",
    "        model = Lasso(alpha=alpha)\n",
    "        model.fit(x_train, y_train)\n",
    "        # Predictions\n",
    "        y_pred_val = model.predict(x_val)\n",
    "        y_pred_test = model.predict(x_test)\n",
    "        # Erros\n",
    "        rmse_val = np.sqrt(mean_squared_error(y_val, y_pred_val))\n",
    "        rmse_test = np.sqrt(mean_squared_error(y_test, y_pred_test))\n",
    "        print(f'Iteration {idx}, rmse={rmse_test}')\n",
    "        # Writing params\n",
    "        params = {'alpha': alpha}\n",
    "        log_run(run_name, idx, params, rmse_val, rmse_test)"
   ]
  },
  {
   "cell_type": "markdown",
   "id": "cc0f12aa-3661-40c4-8d27-1ec4a10663e2",
   "metadata": {},
   "source": [
    "### Child runs with Optuna"
   ]
  },
  {
   "cell_type": "markdown",
   "id": "d3767a55-6215-4426-96dd-6aff2b3c4b03",
   "metadata": {},
   "source": [
    "Child runs are useful when tuning hyperparameters under the same run. Here's an example of how to rune hyperparameters wth Optuna."
   ]
  },
  {
   "cell_type": "code",
   "execution_count": 64,
   "id": "cf64795f-97bf-4a31-b7d7-eef4deae4500",
   "metadata": {},
   "outputs": [],
   "source": [
    "# Specify the objective function with Optuna\n",
    "def objective(trial, x_train, y_train, x_val, y_val, x_test, y_test):\n",
    "    # Sample alpha\n",
    "    alpha = trial.suggest_float('alpha', 0.0001, 1, log=True)\n",
    "    model = Lasso(alpha=alpha)\n",
    "    model.fit(x_train, y_train)\n",
    "    # Predictions\n",
    "    y_pred_val = model.predict(x_val)\n",
    "    y_pred_test = model.predict(x_test)\n",
    "    # Erros\n",
    "    rmse_val = np.sqrt(mean_squared_error(y_val, y_pred_val))\n",
    "    rmse_test = np.sqrt(mean_squared_error(y_test, y_pred_test))\n",
    "    params = {'alpha': alpha}\n",
    "    log_run(run_name, trial.number, params, rmse_val, rmse_test)\n",
    "    return round(rmse_val, 3)"
   ]
  },
  {
   "cell_type": "code",
   "execution_count": 65,
   "id": "50eeed7c-ca93-4277-a320-6d78a6d62fe7",
   "metadata": {},
   "outputs": [
    {
     "name": "stderr",
     "output_type": "stream",
     "text": [
      "[I 2025-08-02 14:03:24,962] A new study created in memory with name: no-name-7b154b66-c55b-451a-a7fd-82aef6d089e0\n"
     ]
    }
   ],
   "source": [
    "study = optuna.create_study(direction=\"minimize\")"
   ]
  },
  {
   "cell_type": "code",
   "execution_count": 66,
   "id": "95df8b48-8728-42d3-8024-4f218319fb9c",
   "metadata": {},
   "outputs": [
    {
     "name": "stderr",
     "output_type": "stream",
     "text": [
      "[I 2025-08-02 14:03:25,217] Trial 0 finished with value: 0.572 and parameters: {'alpha': 0.0012763906181106578}. Best is trial 0 with value: 0.572.\n",
      "[I 2025-08-02 14:03:25,311] Trial 1 finished with value: 0.579 and parameters: {'alpha': 0.008637636160407839}. Best is trial 0 with value: 0.572.\n"
     ]
    },
    {
     "name": "stdout",
     "output_type": "stream",
     "text": [
      "Alpha = 0.0012763906181106578\n",
      "RMSE val = 0.5715216132633616, RMSE test = 0.609019662261828\n",
      "🏃 View run Lasso_optuna_0 at: http://127.0.0.1:8080/#/experiments/516757630045126067/runs/10d2cac749374ae7a827f64d27c7f9bd\n",
      "🧪 View experiment at: http://127.0.0.1:8080/#/experiments/516757630045126067\n",
      "Alpha = 0.008637636160407839\n",
      "RMSE val = 0.5794276266600845, RMSE test = 0.6056065029825204\n",
      "🏃 View run Lasso_optuna_1 at: http://127.0.0.1:8080/#/experiments/516757630045126067/runs/af23ba2897ea40b3b97c02c8c9ff3842\n",
      "🧪 View experiment at: http://127.0.0.1:8080/#/experiments/516757630045126067\n",
      "Alpha = 0.14109067380360615\n",
      "RMSE val = 0.6474581339947599, RMSE test = 0.6513333206284194\n"
     ]
    },
    {
     "name": "stderr",
     "output_type": "stream",
     "text": [
      "[I 2025-08-02 14:03:25,400] Trial 2 finished with value: 0.647 and parameters: {'alpha': 0.14109067380360615}. Best is trial 0 with value: 0.572.\n",
      "[I 2025-08-02 14:03:25,487] Trial 3 finished with value: 0.571 and parameters: {'alpha': 0.0003134351413728864}. Best is trial 3 with value: 0.571.\n",
      "[I 2025-08-02 14:03:25,570] Trial 4 finished with value: 0.572 and parameters: {'alpha': 0.001552855110295442}. Best is trial 3 with value: 0.571.\n"
     ]
    },
    {
     "name": "stdout",
     "output_type": "stream",
     "text": [
      "🏃 View run Lasso_optuna_2 at: http://127.0.0.1:8080/#/experiments/516757630045126067/runs/b59221ff85514ce7aab1a2be2c19f369\n",
      "🧪 View experiment at: http://127.0.0.1:8080/#/experiments/516757630045126067\n",
      "Alpha = 0.0003134351413728864\n",
      "RMSE val = 0.5711530951272646, RMSE test = 0.6122679319127128\n",
      "🏃 View run Lasso_optuna_3 at: http://127.0.0.1:8080/#/experiments/516757630045126067/runs/91d49b5a1c984a24bb460e745893fff9\n",
      "🧪 View experiment at: http://127.0.0.1:8080/#/experiments/516757630045126067\n",
      "Alpha = 0.001552855110295442\n",
      "RMSE val = 0.5718007267437641, RMSE test = 0.6083471053016355\n",
      "🏃 View run Lasso_optuna_4 at: http://127.0.0.1:8080/#/experiments/516757630045126067/runs/8fea6c4275354961bdd21bfc60ed903b\n",
      "🧪 View experiment at: http://127.0.0.1:8080/#/experiments/516757630045126067\n",
      "Alpha = 0.0012427079085965739\n",
      "RMSE val = 0.5714928872439479, RMSE test = 0.609109561490189\n"
     ]
    },
    {
     "name": "stderr",
     "output_type": "stream",
     "text": [
      "[I 2025-08-02 14:03:25,653] Trial 5 finished with value: 0.571 and parameters: {'alpha': 0.0012427079085965739}. Best is trial 3 with value: 0.571.\n",
      "[I 2025-08-02 14:03:25,739] Trial 6 finished with value: 0.577 and parameters: {'alpha': 0.004346113270371531}. Best is trial 3 with value: 0.571.\n",
      "[I 2025-08-02 14:03:25,819] Trial 7 finished with value: 0.577 and parameters: {'alpha': 0.0049069405724022725}. Best is trial 3 with value: 0.571.\n"
     ]
    },
    {
     "name": "stdout",
     "output_type": "stream",
     "text": [
      "🏃 View run Lasso_optuna_5 at: http://127.0.0.1:8080/#/experiments/516757630045126067/runs/77eb88aaa1254c2ca4d12d687cbe9158\n",
      "🧪 View experiment at: http://127.0.0.1:8080/#/experiments/516757630045126067\n",
      "Alpha = 0.004346113270371531\n",
      "RMSE val = 0.577035647476002, RMSE test = 0.6061785448193832\n",
      "🏃 View run Lasso_optuna_6 at: http://127.0.0.1:8080/#/experiments/516757630045126067/runs/1393d92301044a34924da22640823c4a\n",
      "🧪 View experiment at: http://127.0.0.1:8080/#/experiments/516757630045126067\n",
      "Alpha = 0.0049069405724022725\n",
      "RMSE val = 0.5772927165625208, RMSE test = 0.6060153497229979\n",
      "🏃 View run Lasso_optuna_7 at: http://127.0.0.1:8080/#/experiments/516757630045126067/runs/de7f47df5e0648ed9a9fa133ef36a7d9\n",
      "🧪 View experiment at: http://127.0.0.1:8080/#/experiments/516757630045126067\n",
      "Alpha = 0.00026521823057008744\n",
      "RMSE val = 0.5711593196633804, RMSE test = 0.6124673246369146\n"
     ]
    },
    {
     "name": "stderr",
     "output_type": "stream",
     "text": [
      "[I 2025-08-02 14:03:25,898] Trial 8 finished with value: 0.571 and parameters: {'alpha': 0.00026521823057008744}. Best is trial 3 with value: 0.571.\n",
      "[I 2025-08-02 14:03:25,968] Trial 9 finished with value: 0.577 and parameters: {'alpha': 0.005334063295402457}. Best is trial 3 with value: 0.571.\n"
     ]
    },
    {
     "name": "stdout",
     "output_type": "stream",
     "text": [
      "🏃 View run Lasso_optuna_8 at: http://127.0.0.1:8080/#/experiments/516757630045126067/runs/e86929c9cda1458db59fb8d2367dd814\n",
      "🧪 View experiment at: http://127.0.0.1:8080/#/experiments/516757630045126067\n",
      "Alpha = 0.005334063295402457\n",
      "RMSE val = 0.5774996111639723, RMSE test = 0.605908854850016\n",
      "🏃 View run Lasso_optuna_9 at: http://127.0.0.1:8080/#/experiments/516757630045126067/runs/fb2366d8c5544774a0576a842dde20c8\n",
      "🧪 View experiment at: http://127.0.0.1:8080/#/experiments/516757630045126067\n",
      "🏃 View run Lasso_optuna at: http://127.0.0.1:8080/#/experiments/516757630045126067/runs/34405e1852b04624bcb1fe1a93bd5146\n",
      "🧪 View experiment at: http://127.0.0.1:8080/#/experiments/516757630045126067\n"
     ]
    }
   ],
   "source": [
    "run_name = 'Lasso_optuna'\n",
    "with mlflow.start_run(run_name=run_name):\n",
    "    study.optimize(\n",
    "    lambda trial: objective(trial, x_train, y_train, x_val, y_val, x_test, y_test),\n",
    "    n_trials=10\n",
    ")\n",
    "    # Log the best metrics and parameters info\n",
    "    mlflow.log_metric(\"best_rmse\", study.best_value)\n",
    "    mlflow.log_params(study.best_params)\n",
    "    mlflow.set_tag('best_model', 'true')\n",
    "    # Refit and log the best model\n",
    "    model = Lasso(**study.best_params)\n",
    "    model.fit(x_train, y_train)\n",
    "    # Log the model\n",
    "    model_info = mlflow.sklearn.log_model(\n",
    "        sk_model=model,\n",
    "        name=\"best_model_lasso\",\n",
    "        input_example=x_train,\n",
    "#         registered_model_name=\"best_model_lasso\",\n",
    "    )"
   ]
  },
  {
   "cell_type": "markdown",
   "id": "4c35040b-c98b-4ae1-8a9e-eb5f22425679",
   "metadata": {},
   "source": [
    "### After the run, we can compare the runs, check the scatter and countour plots of the parameter"
   ]
  },
  {
   "cell_type": "markdown",
   "id": "f0532ef6-0167-45cc-b4d7-03f505c54345",
   "metadata": {},
   "source": [
    "# Loading and registering the best optuna model"
   ]
  },
  {
   "cell_type": "code",
   "execution_count": 67,
   "id": "15099bf5-c0ac-4632-b332-de1683c0f8bc",
   "metadata": {},
   "outputs": [],
   "source": [
    "# Search for the best model\n",
    "client = MlflowClient()"
   ]
  },
  {
   "cell_type": "code",
   "execution_count": 68,
   "id": "ba9e53a5-39f0-463d-aaa4-c5e963dd2ba4",
   "metadata": {},
   "outputs": [],
   "source": [
    "# Search for runs with the \"best_model\" tag set to \"true\"\n",
    "runs = mlflow.search_runs(\n",
    "    filter_string=\"tags.best_model = 'true'\",\n",
    "    order_by=[\"start_time DESC\"],  # Sort by the latest run\n",
    "    max_results=1  # Get only the most recent run\n",
    ")"
   ]
  },
  {
   "cell_type": "code",
   "execution_count": 69,
   "id": "d4a7b344-2222-4b74-9b6c-8fa64f7c63ae",
   "metadata": {},
   "outputs": [
    {
     "data": {
      "text/html": [
       "<div>\n",
       "<style scoped>\n",
       "    .dataframe tbody tr th:only-of-type {\n",
       "        vertical-align: middle;\n",
       "    }\n",
       "\n",
       "    .dataframe tbody tr th {\n",
       "        vertical-align: top;\n",
       "    }\n",
       "\n",
       "    .dataframe thead th {\n",
       "        text-align: right;\n",
       "    }\n",
       "</style>\n",
       "<table border=\"1\" class=\"dataframe\">\n",
       "  <thead>\n",
       "    <tr style=\"text-align: right;\">\n",
       "      <th></th>\n",
       "      <th>run_id</th>\n",
       "      <th>experiment_id</th>\n",
       "      <th>status</th>\n",
       "      <th>artifact_uri</th>\n",
       "      <th>start_time</th>\n",
       "      <th>end_time</th>\n",
       "      <th>metrics.best_rmse</th>\n",
       "      <th>params.alpha</th>\n",
       "      <th>tags.mlflow.source.type</th>\n",
       "      <th>tags.mlflow.source.name</th>\n",
       "      <th>tags.mlflow.runName</th>\n",
       "      <th>tags.best_model</th>\n",
       "      <th>tags.mlflow.user</th>\n",
       "    </tr>\n",
       "  </thead>\n",
       "  <tbody>\n",
       "    <tr>\n",
       "      <th>0</th>\n",
       "      <td>34405e1852b04624bcb1fe1a93bd5146</td>\n",
       "      <td>516757630045126067</td>\n",
       "      <td>FINISHED</td>\n",
       "      <td>mlflow-artifacts:/516757630045126067/34405e185...</td>\n",
       "      <td>2025-08-02 10:03:25.121000+00:00</td>\n",
       "      <td>2025-08-02 10:03:27.047000+00:00</td>\n",
       "      <td>0.571</td>\n",
       "      <td>0.0003134351413728864</td>\n",
       "      <td>LOCAL</td>\n",
       "      <td>/Users/timurbikmuhametov/miniconda3/envs/ml_bl...</td>\n",
       "      <td>Lasso_optuna</td>\n",
       "      <td>true</td>\n",
       "      <td>timurbikmuhametov</td>\n",
       "    </tr>\n",
       "  </tbody>\n",
       "</table>\n",
       "</div>"
      ],
      "text/plain": [
       "                             run_id       experiment_id    status  \\\n",
       "0  34405e1852b04624bcb1fe1a93bd5146  516757630045126067  FINISHED   \n",
       "\n",
       "                                        artifact_uri  \\\n",
       "0  mlflow-artifacts:/516757630045126067/34405e185...   \n",
       "\n",
       "                        start_time                         end_time  \\\n",
       "0 2025-08-02 10:03:25.121000+00:00 2025-08-02 10:03:27.047000+00:00   \n",
       "\n",
       "   metrics.best_rmse           params.alpha tags.mlflow.source.type  \\\n",
       "0              0.571  0.0003134351413728864                   LOCAL   \n",
       "\n",
       "                             tags.mlflow.source.name tags.mlflow.runName  \\\n",
       "0  /Users/timurbikmuhametov/miniconda3/envs/ml_bl...        Lasso_optuna   \n",
       "\n",
       "  tags.best_model   tags.mlflow.user  \n",
       "0            true  timurbikmuhametov  "
      ]
     },
     "execution_count": 69,
     "metadata": {},
     "output_type": "execute_result"
    }
   ],
   "source": [
    "runs"
   ]
  },
  {
   "cell_type": "code",
   "execution_count": 70,
   "id": "96d1393e-c68f-4e5e-9ebe-6c15a71c0df1",
   "metadata": {},
   "outputs": [],
   "source": [
    "# Get the run ID of the latest \"best_model\" if there are several\n",
    "latest_exp_id = runs.iloc[0].experiment_id\n",
    "latest_run_id = runs.iloc[0].run_id"
   ]
  },
  {
   "cell_type": "code",
   "execution_count": 71,
   "id": "f9fb1507-8d01-4118-9256-3e857b377712",
   "metadata": {},
   "outputs": [],
   "source": [
    "# List all artifacts for the given run_id\n",
    "artifacts = client.list_artifacts(latest_run_id)\n",
    "for artifact in artifacts:\n",
    "    print(artifact.path)"
   ]
  },
  {
   "cell_type": "code",
   "execution_count": null,
   "id": "c2e0e4c1-a07c-426c-9fd5-94dbd540fbde",
   "metadata": {},
   "outputs": [
    {
     "data": {
      "application/vnd.jupyter.widget-view+json": {
       "model_id": "67a0334f305c4906a9d878bfa77ef232",
       "version_major": 2,
       "version_minor": 0
      },
      "text/plain": [
       "Downloading artifacts:   0%|          | 0/1 [00:00<?, ?it/s]"
      ]
     },
     "metadata": {},
     "output_type": "display_data"
    }
   ],
   "source": [
    "# Load the latest best model (adjust artifact path if needed)\n",
    "model_uri = f\"runs:/{latest_run_id}/best_model_lasso\"  # or ridge_model, etc.\n",
    "latest_best_model = mlflow.sklearn.load_model(model_uri)"
   ]
  },
  {
   "cell_type": "code",
   "execution_count": null,
   "id": "c7ba94e5-75e2-414e-85be-6a1ee498b18d",
   "metadata": {},
   "outputs": [],
   "source": [
    "# Register the best model\n",
    "mlflow.register_model(model_uri, \"prod_lasso_model\")"
   ]
  },
  {
   "cell_type": "markdown",
   "id": "3e67ed68-85b3-476c-ac43-48df7f41a40f",
   "metadata": {},
   "source": [
    "# Loading the registered model"
   ]
  },
  {
   "cell_type": "code",
   "execution_count": 73,
   "id": "9cbbcbbf-640d-4efa-a692-51c31059dc75",
   "metadata": {},
   "outputs": [
    {
     "name": "stderr",
     "output_type": "stream",
     "text": [
      "/Users/timurbikmuhametov/miniconda3/envs/ml-project/lib/python3.10/site-packages/mlflow/store/artifact/utils/models.py:31: FutureWarning: ``mlflow.tracking.client.MlflowClient.get_latest_versions`` is deprecated since 2.9.0. Model registry stages will be removed in a future major release. To learn more about the deprecation of model registry stages, see our migration guide here: https://mlflow.org/docs/latest/model-registry.html#migrating-from-stages\n",
      "  latest = client.get_latest_versions(name, None if stage is None else [stage])\n"
     ]
    },
    {
     "data": {
      "application/vnd.jupyter.widget-view+json": {
       "model_id": "d3fb93f9ad674da8a788e6711a3bacdd",
       "version_major": 2,
       "version_minor": 0
      },
      "text/plain": [
       "Downloading artifacts:   0%|          | 0/7 [00:00<?, ?it/s]"
      ]
     },
     "metadata": {},
     "output_type": "display_data"
    }
   ],
   "source": [
    "model_name = \"prod_lasso_model\"\n",
    "model_version = \"latest\"\n",
    "\n",
    "# Load the model from the Model Registry\n",
    "model_uri = f\"models:/{model_name}/{model_version}\"\n",
    "model = mlflow.sklearn.load_model(model_uri)"
   ]
  }
 ],
 "metadata": {
  "kernelspec": {
   "display_name": "Python 3 (ipykernel)",
   "language": "python",
   "name": "python3"
  },
  "language_info": {
   "codemirror_mode": {
    "name": "ipython",
    "version": 3
   },
   "file_extension": ".py",
   "mimetype": "text/x-python",
   "name": "python",
   "nbconvert_exporter": "python",
   "pygments_lexer": "ipython3",
   "version": "3.10.15"
  }
 },
 "nbformat": 4,
 "nbformat_minor": 5
}
