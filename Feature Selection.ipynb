{
 "cells": [
  {
   "cell_type": "code",
   "execution_count": 1,
   "id": "ee13886e-0328-45cf-ba28-088581e09451",
   "metadata": {},
   "outputs": [],
   "source": [
    "import pandas as pd\n",
    "import numpy as np\n",
    "import seaborn as sns\n",
    "import matplotlib.pyplot as plt\n",
    "from scipy.spatial.distance import squareform\n",
    "from tsfresh import extract_features\n",
    "from tsfresh.utilities.dataframe_functions import impute, roll_time_series\n",
    "from sklearn.model_selection import train_test_split\n",
    "from sklearn.preprocessing import StandardScaler\n",
    "from sklearn.linear_model import Lasso\n",
    "from sklearn.feature_selection import VarianceThreshold\n",
    "from sklearn.inspection import permutation_importance\n",
    "from scipy.cluster.hierarchy import linkage, fcluster, dendrogram\n",
    "from sklearn.metrics import mean_absolute_error, mean_absolute_percentage_error\n",
    "from xgboost import XGBRegressor\n",
    "from sklearn.ensemble import RandomForestRegressor\n",
    "import warnings\n",
    "warnings.filterwarnings('ignore')"
   ]
  },
  {
   "cell_type": "code",
   "execution_count": 2,
   "id": "20aab36e-6caa-4976-a32b-95d90715ed43",
   "metadata": {},
   "outputs": [
    {
     "name": "stdout",
     "output_type": "stream",
     "text": [
      "Dataset Loaded. Shape: (19735, 29)\n"
     ]
    }
   ],
   "source": [
    "# Step 1: Load the dataset\n",
    "url = \"https://archive.ics.uci.edu/ml/machine-learning-databases/00374/energydata_complete.csv\"\n",
    "df = pd.read_csv(url)\n",
    "print(\"Dataset Loaded. Shape:\", df.shape)"
   ]
  },
  {
   "cell_type": "code",
   "execution_count": 3,
   "id": "a08ab008-9817-463a-8af7-7e4be1cfc8cc",
   "metadata": {},
   "outputs": [
    {
     "data": {
      "text/html": [
       "<div>\n",
       "<style scoped>\n",
       "    .dataframe tbody tr th:only-of-type {\n",
       "        vertical-align: middle;\n",
       "    }\n",
       "\n",
       "    .dataframe tbody tr th {\n",
       "        vertical-align: top;\n",
       "    }\n",
       "\n",
       "    .dataframe thead th {\n",
       "        text-align: right;\n",
       "    }\n",
       "</style>\n",
       "<table border=\"1\" class=\"dataframe\">\n",
       "  <thead>\n",
       "    <tr style=\"text-align: right;\">\n",
       "      <th></th>\n",
       "      <th>date</th>\n",
       "      <th>Appliances</th>\n",
       "      <th>lights</th>\n",
       "      <th>T1</th>\n",
       "      <th>RH_1</th>\n",
       "      <th>T2</th>\n",
       "      <th>RH_2</th>\n",
       "      <th>T3</th>\n",
       "      <th>RH_3</th>\n",
       "      <th>T4</th>\n",
       "      <th>...</th>\n",
       "      <th>T9</th>\n",
       "      <th>RH_9</th>\n",
       "      <th>T_out</th>\n",
       "      <th>Press_mm_hg</th>\n",
       "      <th>RH_out</th>\n",
       "      <th>Windspeed</th>\n",
       "      <th>Visibility</th>\n",
       "      <th>Tdewpoint</th>\n",
       "      <th>rv1</th>\n",
       "      <th>rv2</th>\n",
       "    </tr>\n",
       "  </thead>\n",
       "  <tbody>\n",
       "    <tr>\n",
       "      <th>0</th>\n",
       "      <td>2016-01-11 17:00:00</td>\n",
       "      <td>60</td>\n",
       "      <td>30</td>\n",
       "      <td>19.89</td>\n",
       "      <td>47.596667</td>\n",
       "      <td>19.2</td>\n",
       "      <td>44.790000</td>\n",
       "      <td>19.79</td>\n",
       "      <td>44.730000</td>\n",
       "      <td>19.000000</td>\n",
       "      <td>...</td>\n",
       "      <td>17.033333</td>\n",
       "      <td>45.53</td>\n",
       "      <td>6.600000</td>\n",
       "      <td>733.5</td>\n",
       "      <td>92.0</td>\n",
       "      <td>7.000000</td>\n",
       "      <td>63.000000</td>\n",
       "      <td>5.3</td>\n",
       "      <td>13.275433</td>\n",
       "      <td>13.275433</td>\n",
       "    </tr>\n",
       "    <tr>\n",
       "      <th>1</th>\n",
       "      <td>2016-01-11 17:10:00</td>\n",
       "      <td>60</td>\n",
       "      <td>30</td>\n",
       "      <td>19.89</td>\n",
       "      <td>46.693333</td>\n",
       "      <td>19.2</td>\n",
       "      <td>44.722500</td>\n",
       "      <td>19.79</td>\n",
       "      <td>44.790000</td>\n",
       "      <td>19.000000</td>\n",
       "      <td>...</td>\n",
       "      <td>17.066667</td>\n",
       "      <td>45.56</td>\n",
       "      <td>6.483333</td>\n",
       "      <td>733.6</td>\n",
       "      <td>92.0</td>\n",
       "      <td>6.666667</td>\n",
       "      <td>59.166667</td>\n",
       "      <td>5.2</td>\n",
       "      <td>18.606195</td>\n",
       "      <td>18.606195</td>\n",
       "    </tr>\n",
       "    <tr>\n",
       "      <th>2</th>\n",
       "      <td>2016-01-11 17:20:00</td>\n",
       "      <td>50</td>\n",
       "      <td>30</td>\n",
       "      <td>19.89</td>\n",
       "      <td>46.300000</td>\n",
       "      <td>19.2</td>\n",
       "      <td>44.626667</td>\n",
       "      <td>19.79</td>\n",
       "      <td>44.933333</td>\n",
       "      <td>18.926667</td>\n",
       "      <td>...</td>\n",
       "      <td>17.000000</td>\n",
       "      <td>45.50</td>\n",
       "      <td>6.366667</td>\n",
       "      <td>733.7</td>\n",
       "      <td>92.0</td>\n",
       "      <td>6.333333</td>\n",
       "      <td>55.333333</td>\n",
       "      <td>5.1</td>\n",
       "      <td>28.642668</td>\n",
       "      <td>28.642668</td>\n",
       "    </tr>\n",
       "    <tr>\n",
       "      <th>3</th>\n",
       "      <td>2016-01-11 17:30:00</td>\n",
       "      <td>50</td>\n",
       "      <td>40</td>\n",
       "      <td>19.89</td>\n",
       "      <td>46.066667</td>\n",
       "      <td>19.2</td>\n",
       "      <td>44.590000</td>\n",
       "      <td>19.79</td>\n",
       "      <td>45.000000</td>\n",
       "      <td>18.890000</td>\n",
       "      <td>...</td>\n",
       "      <td>17.000000</td>\n",
       "      <td>45.40</td>\n",
       "      <td>6.250000</td>\n",
       "      <td>733.8</td>\n",
       "      <td>92.0</td>\n",
       "      <td>6.000000</td>\n",
       "      <td>51.500000</td>\n",
       "      <td>5.0</td>\n",
       "      <td>45.410389</td>\n",
       "      <td>45.410389</td>\n",
       "    </tr>\n",
       "    <tr>\n",
       "      <th>4</th>\n",
       "      <td>2016-01-11 17:40:00</td>\n",
       "      <td>60</td>\n",
       "      <td>40</td>\n",
       "      <td>19.89</td>\n",
       "      <td>46.333333</td>\n",
       "      <td>19.2</td>\n",
       "      <td>44.530000</td>\n",
       "      <td>19.79</td>\n",
       "      <td>45.000000</td>\n",
       "      <td>18.890000</td>\n",
       "      <td>...</td>\n",
       "      <td>17.000000</td>\n",
       "      <td>45.40</td>\n",
       "      <td>6.133333</td>\n",
       "      <td>733.9</td>\n",
       "      <td>92.0</td>\n",
       "      <td>5.666667</td>\n",
       "      <td>47.666667</td>\n",
       "      <td>4.9</td>\n",
       "      <td>10.084097</td>\n",
       "      <td>10.084097</td>\n",
       "    </tr>\n",
       "  </tbody>\n",
       "</table>\n",
       "<p>5 rows × 29 columns</p>\n",
       "</div>"
      ],
      "text/plain": [
       "                  date  Appliances  lights     T1       RH_1    T2       RH_2  \\\n",
       "0  2016-01-11 17:00:00          60      30  19.89  47.596667  19.2  44.790000   \n",
       "1  2016-01-11 17:10:00          60      30  19.89  46.693333  19.2  44.722500   \n",
       "2  2016-01-11 17:20:00          50      30  19.89  46.300000  19.2  44.626667   \n",
       "3  2016-01-11 17:30:00          50      40  19.89  46.066667  19.2  44.590000   \n",
       "4  2016-01-11 17:40:00          60      40  19.89  46.333333  19.2  44.530000   \n",
       "\n",
       "      T3       RH_3         T4  ...         T9   RH_9     T_out  Press_mm_hg  \\\n",
       "0  19.79  44.730000  19.000000  ...  17.033333  45.53  6.600000        733.5   \n",
       "1  19.79  44.790000  19.000000  ...  17.066667  45.56  6.483333        733.6   \n",
       "2  19.79  44.933333  18.926667  ...  17.000000  45.50  6.366667        733.7   \n",
       "3  19.79  45.000000  18.890000  ...  17.000000  45.40  6.250000        733.8   \n",
       "4  19.79  45.000000  18.890000  ...  17.000000  45.40  6.133333        733.9   \n",
       "\n",
       "   RH_out  Windspeed  Visibility  Tdewpoint        rv1        rv2  \n",
       "0    92.0   7.000000   63.000000        5.3  13.275433  13.275433  \n",
       "1    92.0   6.666667   59.166667        5.2  18.606195  18.606195  \n",
       "2    92.0   6.333333   55.333333        5.1  28.642668  28.642668  \n",
       "3    92.0   6.000000   51.500000        5.0  45.410389  45.410389  \n",
       "4    92.0   5.666667   47.666667        4.9  10.084097  10.084097  \n",
       "\n",
       "[5 rows x 29 columns]"
      ]
     },
     "execution_count": 3,
     "metadata": {},
     "output_type": "execute_result"
    }
   ],
   "source": [
    "df.head(5)"
   ]
  },
  {
   "cell_type": "code",
   "execution_count": 4,
   "id": "9159b497-3e30-4968-9e50-dd79bb1d1dba",
   "metadata": {},
   "outputs": [],
   "source": [
    "# Convert \"date\" to datetime and set as index for time-based feature engineering\n",
    "df['date'] = pd.to_datetime(df['date'])\n",
    "df.set_index('date', inplace=True)"
   ]
  },
  {
   "cell_type": "code",
   "execution_count": 5,
   "id": "55a7bbf8-b36f-47e7-b375-3e1dbb929c9d",
   "metadata": {
    "scrolled": true
   },
   "outputs": [
    {
     "data": {
      "text/html": [
       "<div>\n",
       "<style scoped>\n",
       "    .dataframe tbody tr th:only-of-type {\n",
       "        vertical-align: middle;\n",
       "    }\n",
       "\n",
       "    .dataframe tbody tr th {\n",
       "        vertical-align: top;\n",
       "    }\n",
       "\n",
       "    .dataframe thead th {\n",
       "        text-align: right;\n",
       "    }\n",
       "</style>\n",
       "<table border=\"1\" class=\"dataframe\">\n",
       "  <thead>\n",
       "    <tr style=\"text-align: right;\">\n",
       "      <th></th>\n",
       "      <th>Appliances</th>\n",
       "      <th>lights</th>\n",
       "      <th>T1</th>\n",
       "      <th>RH_1</th>\n",
       "      <th>T2</th>\n",
       "      <th>RH_2</th>\n",
       "      <th>T3</th>\n",
       "      <th>RH_3</th>\n",
       "      <th>T4</th>\n",
       "      <th>RH_4</th>\n",
       "      <th>...</th>\n",
       "      <th>T9</th>\n",
       "      <th>RH_9</th>\n",
       "      <th>T_out</th>\n",
       "      <th>Press_mm_hg</th>\n",
       "      <th>RH_out</th>\n",
       "      <th>Windspeed</th>\n",
       "      <th>Visibility</th>\n",
       "      <th>Tdewpoint</th>\n",
       "      <th>rv1</th>\n",
       "      <th>rv2</th>\n",
       "    </tr>\n",
       "    <tr>\n",
       "      <th>date</th>\n",
       "      <th></th>\n",
       "      <th></th>\n",
       "      <th></th>\n",
       "      <th></th>\n",
       "      <th></th>\n",
       "      <th></th>\n",
       "      <th></th>\n",
       "      <th></th>\n",
       "      <th></th>\n",
       "      <th></th>\n",
       "      <th></th>\n",
       "      <th></th>\n",
       "      <th></th>\n",
       "      <th></th>\n",
       "      <th></th>\n",
       "      <th></th>\n",
       "      <th></th>\n",
       "      <th></th>\n",
       "      <th></th>\n",
       "      <th></th>\n",
       "      <th></th>\n",
       "    </tr>\n",
       "  </thead>\n",
       "  <tbody>\n",
       "    <tr>\n",
       "      <th>2016-01-11 17:00:00</th>\n",
       "      <td>60</td>\n",
       "      <td>30</td>\n",
       "      <td>19.89</td>\n",
       "      <td>47.596667</td>\n",
       "      <td>19.2</td>\n",
       "      <td>44.790000</td>\n",
       "      <td>19.79</td>\n",
       "      <td>44.730000</td>\n",
       "      <td>19.000000</td>\n",
       "      <td>45.566667</td>\n",
       "      <td>...</td>\n",
       "      <td>17.033333</td>\n",
       "      <td>45.53</td>\n",
       "      <td>6.600000</td>\n",
       "      <td>733.5</td>\n",
       "      <td>92.0</td>\n",
       "      <td>7.000000</td>\n",
       "      <td>63.000000</td>\n",
       "      <td>5.3</td>\n",
       "      <td>13.275433</td>\n",
       "      <td>13.275433</td>\n",
       "    </tr>\n",
       "    <tr>\n",
       "      <th>2016-01-11 17:10:00</th>\n",
       "      <td>60</td>\n",
       "      <td>30</td>\n",
       "      <td>19.89</td>\n",
       "      <td>46.693333</td>\n",
       "      <td>19.2</td>\n",
       "      <td>44.722500</td>\n",
       "      <td>19.79</td>\n",
       "      <td>44.790000</td>\n",
       "      <td>19.000000</td>\n",
       "      <td>45.992500</td>\n",
       "      <td>...</td>\n",
       "      <td>17.066667</td>\n",
       "      <td>45.56</td>\n",
       "      <td>6.483333</td>\n",
       "      <td>733.6</td>\n",
       "      <td>92.0</td>\n",
       "      <td>6.666667</td>\n",
       "      <td>59.166667</td>\n",
       "      <td>5.2</td>\n",
       "      <td>18.606195</td>\n",
       "      <td>18.606195</td>\n",
       "    </tr>\n",
       "    <tr>\n",
       "      <th>2016-01-11 17:20:00</th>\n",
       "      <td>50</td>\n",
       "      <td>30</td>\n",
       "      <td>19.89</td>\n",
       "      <td>46.300000</td>\n",
       "      <td>19.2</td>\n",
       "      <td>44.626667</td>\n",
       "      <td>19.79</td>\n",
       "      <td>44.933333</td>\n",
       "      <td>18.926667</td>\n",
       "      <td>45.890000</td>\n",
       "      <td>...</td>\n",
       "      <td>17.000000</td>\n",
       "      <td>45.50</td>\n",
       "      <td>6.366667</td>\n",
       "      <td>733.7</td>\n",
       "      <td>92.0</td>\n",
       "      <td>6.333333</td>\n",
       "      <td>55.333333</td>\n",
       "      <td>5.1</td>\n",
       "      <td>28.642668</td>\n",
       "      <td>28.642668</td>\n",
       "    </tr>\n",
       "    <tr>\n",
       "      <th>2016-01-11 17:30:00</th>\n",
       "      <td>50</td>\n",
       "      <td>40</td>\n",
       "      <td>19.89</td>\n",
       "      <td>46.066667</td>\n",
       "      <td>19.2</td>\n",
       "      <td>44.590000</td>\n",
       "      <td>19.79</td>\n",
       "      <td>45.000000</td>\n",
       "      <td>18.890000</td>\n",
       "      <td>45.723333</td>\n",
       "      <td>...</td>\n",
       "      <td>17.000000</td>\n",
       "      <td>45.40</td>\n",
       "      <td>6.250000</td>\n",
       "      <td>733.8</td>\n",
       "      <td>92.0</td>\n",
       "      <td>6.000000</td>\n",
       "      <td>51.500000</td>\n",
       "      <td>5.0</td>\n",
       "      <td>45.410389</td>\n",
       "      <td>45.410389</td>\n",
       "    </tr>\n",
       "    <tr>\n",
       "      <th>2016-01-11 17:40:00</th>\n",
       "      <td>60</td>\n",
       "      <td>40</td>\n",
       "      <td>19.89</td>\n",
       "      <td>46.333333</td>\n",
       "      <td>19.2</td>\n",
       "      <td>44.530000</td>\n",
       "      <td>19.79</td>\n",
       "      <td>45.000000</td>\n",
       "      <td>18.890000</td>\n",
       "      <td>45.530000</td>\n",
       "      <td>...</td>\n",
       "      <td>17.000000</td>\n",
       "      <td>45.40</td>\n",
       "      <td>6.133333</td>\n",
       "      <td>733.9</td>\n",
       "      <td>92.0</td>\n",
       "      <td>5.666667</td>\n",
       "      <td>47.666667</td>\n",
       "      <td>4.9</td>\n",
       "      <td>10.084097</td>\n",
       "      <td>10.084097</td>\n",
       "    </tr>\n",
       "  </tbody>\n",
       "</table>\n",
       "<p>5 rows × 28 columns</p>\n",
       "</div>"
      ],
      "text/plain": [
       "                     Appliances  lights     T1       RH_1    T2       RH_2  \\\n",
       "date                                                                         \n",
       "2016-01-11 17:00:00          60      30  19.89  47.596667  19.2  44.790000   \n",
       "2016-01-11 17:10:00          60      30  19.89  46.693333  19.2  44.722500   \n",
       "2016-01-11 17:20:00          50      30  19.89  46.300000  19.2  44.626667   \n",
       "2016-01-11 17:30:00          50      40  19.89  46.066667  19.2  44.590000   \n",
       "2016-01-11 17:40:00          60      40  19.89  46.333333  19.2  44.530000   \n",
       "\n",
       "                        T3       RH_3         T4       RH_4  ...         T9  \\\n",
       "date                                                         ...              \n",
       "2016-01-11 17:00:00  19.79  44.730000  19.000000  45.566667  ...  17.033333   \n",
       "2016-01-11 17:10:00  19.79  44.790000  19.000000  45.992500  ...  17.066667   \n",
       "2016-01-11 17:20:00  19.79  44.933333  18.926667  45.890000  ...  17.000000   \n",
       "2016-01-11 17:30:00  19.79  45.000000  18.890000  45.723333  ...  17.000000   \n",
       "2016-01-11 17:40:00  19.79  45.000000  18.890000  45.530000  ...  17.000000   \n",
       "\n",
       "                      RH_9     T_out  Press_mm_hg  RH_out  Windspeed  \\\n",
       "date                                                                   \n",
       "2016-01-11 17:00:00  45.53  6.600000        733.5    92.0   7.000000   \n",
       "2016-01-11 17:10:00  45.56  6.483333        733.6    92.0   6.666667   \n",
       "2016-01-11 17:20:00  45.50  6.366667        733.7    92.0   6.333333   \n",
       "2016-01-11 17:30:00  45.40  6.250000        733.8    92.0   6.000000   \n",
       "2016-01-11 17:40:00  45.40  6.133333        733.9    92.0   5.666667   \n",
       "\n",
       "                     Visibility  Tdewpoint        rv1        rv2  \n",
       "date                                                              \n",
       "2016-01-11 17:00:00   63.000000        5.3  13.275433  13.275433  \n",
       "2016-01-11 17:10:00   59.166667        5.2  18.606195  18.606195  \n",
       "2016-01-11 17:20:00   55.333333        5.1  28.642668  28.642668  \n",
       "2016-01-11 17:30:00   51.500000        5.0  45.410389  45.410389  \n",
       "2016-01-11 17:40:00   47.666667        4.9  10.084097  10.084097  \n",
       "\n",
       "[5 rows x 28 columns]"
      ]
     },
     "execution_count": 5,
     "metadata": {},
     "output_type": "execute_result"
    }
   ],
   "source": [
    "df.head(5)"
   ]
  },
  {
   "cell_type": "code",
   "execution_count": 6,
   "id": "c543a635-a638-4dc6-8f0e-1114e5fbe59a",
   "metadata": {},
   "outputs": [],
   "source": [
    "# Step 2: Prepare Data for Rolling Feature Extraction\n",
    "# Add 'id' and 'time' columns for roll_time_series\n",
    "df['id'] = 1  # Single ID to treat the entire dataset as one series\n",
    "df['time'] = np.arange(len(df))  # Time index within the dataset"
   ]
  },
  {
   "cell_type": "code",
   "execution_count": 7,
   "id": "aeca4783-64d6-4966-bc41-536558387169",
   "metadata": {},
   "outputs": [],
   "source": [
    "df_feats = df.drop(columns=['Appliances'])"
   ]
  },
  {
   "cell_type": "code",
   "execution_count": 8,
   "id": "4bd97d5a-7d5d-4cd2-a61d-5d2b1c71e1e4",
   "metadata": {},
   "outputs": [
    {
     "name": "stderr",
     "output_type": "stream",
     "text": [
      "Rolling: 100%|████████████████████████████████████████████████████████████████████████████████████████████████████████████████████████████████████████████████████████████████████████| 25/25 [00:06<00:00,  3.76it/s]\n"
     ]
    }
   ],
   "source": [
    "# Step 3: Create Rolling Windows with `roll_time_series`\n",
    "window_size = 10  # Define the desired window size\n",
    "rolled_df = roll_time_series(df_feats, column_id=\"id\", column_sort=\"time\", max_timeshift=window_size - 1)"
   ]
  },
  {
   "cell_type": "code",
   "execution_count": 9,
   "id": "497003c4-4f02-44ad-bf95-5f1a0bc4cb4e",
   "metadata": {},
   "outputs": [],
   "source": [
    "# Step 4: Define fc_parameters with Top 7 Most Popular Features\n",
    "fc_parameters = {\n",
    "    \"mean\": None,\n",
    "    \"standard_deviation\": None,\n",
    "    # \"skewness\": None,\n",
    "    # \"kurtosis\": None,\n",
    "    # \"minimum\": None,\n",
    "    # \"maximum\": None,\n",
    "}"
   ]
  },
  {
   "cell_type": "code",
   "execution_count": 10,
   "id": "48100dfb-9682-41b5-80fc-559d359ae3c7",
   "metadata": {},
   "outputs": [
    {
     "name": "stderr",
     "output_type": "stream",
     "text": [
      "Feature Extraction: 100%|█████████████████████████████████████████████████████████████████████████████████████████████████████████████████████████████████████████████████████████████| 25/25 [00:23<00:00,  1.08it/s]\n"
     ]
    }
   ],
   "source": [
    "# Extract rolling features with the specified parameters\n",
    "rolled_features = extract_features(\n",
    "    rolled_df,\n",
    "    column_id=\"id\",\n",
    "    column_sort=\"time\",\n",
    "    default_fc_parameters=fc_parameters,\n",
    "    disable_progressbar=False\n",
    ")"
   ]
  },
  {
   "cell_type": "code",
   "execution_count": 11,
   "id": "45fd6724-d4ba-4ab8-a7a7-ae87b76813a0",
   "metadata": {},
   "outputs": [],
   "source": [
    "rolled_features.fillna(method='bfill', inplace=True)"
   ]
  },
  {
   "cell_type": "code",
   "execution_count": 12,
   "id": "6aaf72a8-53a8-40d6-810a-d82d7ea03be4",
   "metadata": {},
   "outputs": [],
   "source": [
    "rolled_features.index = pd.to_datetime(df.index)"
   ]
  },
  {
   "cell_type": "code",
   "execution_count": 13,
   "id": "beb062a3-a590-4346-af6b-19823442a802",
   "metadata": {},
   "outputs": [
    {
     "data": {
      "text/html": [
       "<div>\n",
       "<style scoped>\n",
       "    .dataframe tbody tr th:only-of-type {\n",
       "        vertical-align: middle;\n",
       "    }\n",
       "\n",
       "    .dataframe tbody tr th {\n",
       "        vertical-align: top;\n",
       "    }\n",
       "\n",
       "    .dataframe thead th {\n",
       "        text-align: right;\n",
       "    }\n",
       "</style>\n",
       "<table border=\"1\" class=\"dataframe\">\n",
       "  <thead>\n",
       "    <tr style=\"text-align: right;\">\n",
       "      <th></th>\n",
       "      <th>lights__mean</th>\n",
       "      <th>lights__standard_deviation</th>\n",
       "      <th>T1__mean</th>\n",
       "      <th>T1__standard_deviation</th>\n",
       "      <th>RH_1__mean</th>\n",
       "      <th>RH_1__standard_deviation</th>\n",
       "      <th>T2__mean</th>\n",
       "      <th>T2__standard_deviation</th>\n",
       "      <th>RH_2__mean</th>\n",
       "      <th>RH_2__standard_deviation</th>\n",
       "      <th>...</th>\n",
       "      <th>Windspeed__mean</th>\n",
       "      <th>Windspeed__standard_deviation</th>\n",
       "      <th>Visibility__mean</th>\n",
       "      <th>Visibility__standard_deviation</th>\n",
       "      <th>Tdewpoint__mean</th>\n",
       "      <th>Tdewpoint__standard_deviation</th>\n",
       "      <th>rv1__mean</th>\n",
       "      <th>rv1__standard_deviation</th>\n",
       "      <th>rv2__mean</th>\n",
       "      <th>rv2__standard_deviation</th>\n",
       "    </tr>\n",
       "    <tr>\n",
       "      <th>date</th>\n",
       "      <th></th>\n",
       "      <th></th>\n",
       "      <th></th>\n",
       "      <th></th>\n",
       "      <th></th>\n",
       "      <th></th>\n",
       "      <th></th>\n",
       "      <th></th>\n",
       "      <th></th>\n",
       "      <th></th>\n",
       "      <th></th>\n",
       "      <th></th>\n",
       "      <th></th>\n",
       "      <th></th>\n",
       "      <th></th>\n",
       "      <th></th>\n",
       "      <th></th>\n",
       "      <th></th>\n",
       "      <th></th>\n",
       "      <th></th>\n",
       "      <th></th>\n",
       "    </tr>\n",
       "  </thead>\n",
       "  <tbody>\n",
       "    <tr>\n",
       "      <th>2016-01-11 17:00:00</th>\n",
       "      <td>30.0</td>\n",
       "      <td>0.0</td>\n",
       "      <td>19.89</td>\n",
       "      <td>0.0</td>\n",
       "      <td>47.596667</td>\n",
       "      <td>0.000000</td>\n",
       "      <td>19.2</td>\n",
       "      <td>0.0</td>\n",
       "      <td>44.790000</td>\n",
       "      <td>0.000000</td>\n",
       "      <td>...</td>\n",
       "      <td>7.000000</td>\n",
       "      <td>0.000000</td>\n",
       "      <td>63.000000</td>\n",
       "      <td>0.000000</td>\n",
       "      <td>5.30</td>\n",
       "      <td>0.00000</td>\n",
       "      <td>13.275433</td>\n",
       "      <td>0.000000</td>\n",
       "      <td>13.275433</td>\n",
       "      <td>0.000000</td>\n",
       "    </tr>\n",
       "    <tr>\n",
       "      <th>2016-01-11 17:10:00</th>\n",
       "      <td>30.0</td>\n",
       "      <td>0.0</td>\n",
       "      <td>19.89</td>\n",
       "      <td>0.0</td>\n",
       "      <td>47.145000</td>\n",
       "      <td>0.451667</td>\n",
       "      <td>19.2</td>\n",
       "      <td>0.0</td>\n",
       "      <td>44.756250</td>\n",
       "      <td>0.033750</td>\n",
       "      <td>...</td>\n",
       "      <td>6.833333</td>\n",
       "      <td>0.166667</td>\n",
       "      <td>61.083333</td>\n",
       "      <td>1.916667</td>\n",
       "      <td>5.25</td>\n",
       "      <td>0.05000</td>\n",
       "      <td>15.940814</td>\n",
       "      <td>2.665381</td>\n",
       "      <td>15.940814</td>\n",
       "      <td>2.665381</td>\n",
       "    </tr>\n",
       "    <tr>\n",
       "      <th>2016-01-11 17:20:00</th>\n",
       "      <td>30.0</td>\n",
       "      <td>0.0</td>\n",
       "      <td>19.89</td>\n",
       "      <td>0.0</td>\n",
       "      <td>46.863333</td>\n",
       "      <td>0.542839</td>\n",
       "      <td>19.2</td>\n",
       "      <td>0.0</td>\n",
       "      <td>44.713056</td>\n",
       "      <td>0.067014</td>\n",
       "      <td>...</td>\n",
       "      <td>6.666667</td>\n",
       "      <td>0.272166</td>\n",
       "      <td>59.166667</td>\n",
       "      <td>3.129904</td>\n",
       "      <td>5.20</td>\n",
       "      <td>0.08165</td>\n",
       "      <td>20.174765</td>\n",
       "      <td>6.370939</td>\n",
       "      <td>20.174765</td>\n",
       "      <td>6.370939</td>\n",
       "    </tr>\n",
       "  </tbody>\n",
       "</table>\n",
       "<p>3 rows × 54 columns</p>\n",
       "</div>"
      ],
      "text/plain": [
       "                     lights__mean  lights__standard_deviation  T1__mean  \\\n",
       "date                                                                      \n",
       "2016-01-11 17:00:00          30.0                         0.0     19.89   \n",
       "2016-01-11 17:10:00          30.0                         0.0     19.89   \n",
       "2016-01-11 17:20:00          30.0                         0.0     19.89   \n",
       "\n",
       "                     T1__standard_deviation  RH_1__mean  \\\n",
       "date                                                      \n",
       "2016-01-11 17:00:00                     0.0   47.596667   \n",
       "2016-01-11 17:10:00                     0.0   47.145000   \n",
       "2016-01-11 17:20:00                     0.0   46.863333   \n",
       "\n",
       "                     RH_1__standard_deviation  T2__mean  \\\n",
       "date                                                      \n",
       "2016-01-11 17:00:00                  0.000000      19.2   \n",
       "2016-01-11 17:10:00                  0.451667      19.2   \n",
       "2016-01-11 17:20:00                  0.542839      19.2   \n",
       "\n",
       "                     T2__standard_deviation  RH_2__mean  \\\n",
       "date                                                      \n",
       "2016-01-11 17:00:00                     0.0   44.790000   \n",
       "2016-01-11 17:10:00                     0.0   44.756250   \n",
       "2016-01-11 17:20:00                     0.0   44.713056   \n",
       "\n",
       "                     RH_2__standard_deviation  ...  Windspeed__mean  \\\n",
       "date                                           ...                    \n",
       "2016-01-11 17:00:00                  0.000000  ...         7.000000   \n",
       "2016-01-11 17:10:00                  0.033750  ...         6.833333   \n",
       "2016-01-11 17:20:00                  0.067014  ...         6.666667   \n",
       "\n",
       "                     Windspeed__standard_deviation  Visibility__mean  \\\n",
       "date                                                                   \n",
       "2016-01-11 17:00:00                       0.000000         63.000000   \n",
       "2016-01-11 17:10:00                       0.166667         61.083333   \n",
       "2016-01-11 17:20:00                       0.272166         59.166667   \n",
       "\n",
       "                     Visibility__standard_deviation  Tdewpoint__mean  \\\n",
       "date                                                                   \n",
       "2016-01-11 17:00:00                        0.000000             5.30   \n",
       "2016-01-11 17:10:00                        1.916667             5.25   \n",
       "2016-01-11 17:20:00                        3.129904             5.20   \n",
       "\n",
       "                     Tdewpoint__standard_deviation  rv1__mean  \\\n",
       "date                                                            \n",
       "2016-01-11 17:00:00                        0.00000  13.275433   \n",
       "2016-01-11 17:10:00                        0.05000  15.940814   \n",
       "2016-01-11 17:20:00                        0.08165  20.174765   \n",
       "\n",
       "                     rv1__standard_deviation  rv2__mean  \\\n",
       "date                                                      \n",
       "2016-01-11 17:00:00                 0.000000  13.275433   \n",
       "2016-01-11 17:10:00                 2.665381  15.940814   \n",
       "2016-01-11 17:20:00                 6.370939  20.174765   \n",
       "\n",
       "                     rv2__standard_deviation  \n",
       "date                                          \n",
       "2016-01-11 17:00:00                 0.000000  \n",
       "2016-01-11 17:10:00                 2.665381  \n",
       "2016-01-11 17:20:00                 6.370939  \n",
       "\n",
       "[3 rows x 54 columns]"
      ]
     },
     "execution_count": 13,
     "metadata": {},
     "output_type": "execute_result"
    }
   ],
   "source": [
    "rolled_features.head(3)"
   ]
  },
  {
   "cell_type": "code",
   "execution_count": 14,
   "id": "b8efcf37-c862-47bc-8a6d-71fcfe2fa98a",
   "metadata": {},
   "outputs": [
    {
     "name": "stdout",
     "output_type": "stream",
     "text": [
      "Rolled features shape: (19735, 54)\n"
     ]
    }
   ],
   "source": [
    "# Check the shape of extracted rolling features\n",
    "print(\"Rolled features shape:\", rolled_features.shape)"
   ]
  },
  {
   "cell_type": "code",
   "execution_count": 15,
   "id": "edbcb324-6f31-43ac-ab03-c11265eba680",
   "metadata": {},
   "outputs": [],
   "source": [
    "# Step 5: Align the Target Variable and Original Features\n",
    "# Keep only the rows aligned with the rolling windows for a consistent shape\n",
    "original_features = df.copy() # .iloc[window_size - 1:].reset_index(drop=True)\n",
    "y = original_features['Appliances']\n",
    "original_features = original_features.drop(columns=['Appliances', 'id', 'time'])  # Remove target and auxiliary columns"
   ]
  },
  {
   "cell_type": "code",
   "execution_count": 16,
   "id": "c7062d0c-a341-48cd-bfa3-a6d29f5287dd",
   "metadata": {},
   "outputs": [
    {
     "data": {
      "text/plain": [
       "(19735, 27)"
      ]
     },
     "execution_count": 16,
     "metadata": {},
     "output_type": "execute_result"
    }
   ],
   "source": [
    "original_features.shape"
   ]
  },
  {
   "cell_type": "code",
   "execution_count": 17,
   "id": "00e7a72a-1b21-4706-bb48-9280a15701ba",
   "metadata": {},
   "outputs": [
    {
     "data": {
      "text/html": [
       "<div>\n",
       "<style scoped>\n",
       "    .dataframe tbody tr th:only-of-type {\n",
       "        vertical-align: middle;\n",
       "    }\n",
       "\n",
       "    .dataframe tbody tr th {\n",
       "        vertical-align: top;\n",
       "    }\n",
       "\n",
       "    .dataframe thead th {\n",
       "        text-align: right;\n",
       "    }\n",
       "</style>\n",
       "<table border=\"1\" class=\"dataframe\">\n",
       "  <thead>\n",
       "    <tr style=\"text-align: right;\">\n",
       "      <th></th>\n",
       "      <th>lights</th>\n",
       "      <th>T1</th>\n",
       "      <th>RH_1</th>\n",
       "      <th>T2</th>\n",
       "      <th>RH_2</th>\n",
       "      <th>T3</th>\n",
       "      <th>RH_3</th>\n",
       "      <th>T4</th>\n",
       "      <th>RH_4</th>\n",
       "      <th>T5</th>\n",
       "      <th>...</th>\n",
       "      <th>T9</th>\n",
       "      <th>RH_9</th>\n",
       "      <th>T_out</th>\n",
       "      <th>Press_mm_hg</th>\n",
       "      <th>RH_out</th>\n",
       "      <th>Windspeed</th>\n",
       "      <th>Visibility</th>\n",
       "      <th>Tdewpoint</th>\n",
       "      <th>rv1</th>\n",
       "      <th>rv2</th>\n",
       "    </tr>\n",
       "    <tr>\n",
       "      <th>date</th>\n",
       "      <th></th>\n",
       "      <th></th>\n",
       "      <th></th>\n",
       "      <th></th>\n",
       "      <th></th>\n",
       "      <th></th>\n",
       "      <th></th>\n",
       "      <th></th>\n",
       "      <th></th>\n",
       "      <th></th>\n",
       "      <th></th>\n",
       "      <th></th>\n",
       "      <th></th>\n",
       "      <th></th>\n",
       "      <th></th>\n",
       "      <th></th>\n",
       "      <th></th>\n",
       "      <th></th>\n",
       "      <th></th>\n",
       "      <th></th>\n",
       "      <th></th>\n",
       "    </tr>\n",
       "  </thead>\n",
       "  <tbody>\n",
       "    <tr>\n",
       "      <th>2016-01-11 17:00:00</th>\n",
       "      <td>30</td>\n",
       "      <td>19.89</td>\n",
       "      <td>47.596667</td>\n",
       "      <td>19.2</td>\n",
       "      <td>44.790000</td>\n",
       "      <td>19.79</td>\n",
       "      <td>44.730000</td>\n",
       "      <td>19.000000</td>\n",
       "      <td>45.566667</td>\n",
       "      <td>17.166667</td>\n",
       "      <td>...</td>\n",
       "      <td>17.033333</td>\n",
       "      <td>45.53</td>\n",
       "      <td>6.600000</td>\n",
       "      <td>733.5</td>\n",
       "      <td>92.0</td>\n",
       "      <td>7.000000</td>\n",
       "      <td>63.000000</td>\n",
       "      <td>5.3</td>\n",
       "      <td>13.275433</td>\n",
       "      <td>13.275433</td>\n",
       "    </tr>\n",
       "    <tr>\n",
       "      <th>2016-01-11 17:10:00</th>\n",
       "      <td>30</td>\n",
       "      <td>19.89</td>\n",
       "      <td>46.693333</td>\n",
       "      <td>19.2</td>\n",
       "      <td>44.722500</td>\n",
       "      <td>19.79</td>\n",
       "      <td>44.790000</td>\n",
       "      <td>19.000000</td>\n",
       "      <td>45.992500</td>\n",
       "      <td>17.166667</td>\n",
       "      <td>...</td>\n",
       "      <td>17.066667</td>\n",
       "      <td>45.56</td>\n",
       "      <td>6.483333</td>\n",
       "      <td>733.6</td>\n",
       "      <td>92.0</td>\n",
       "      <td>6.666667</td>\n",
       "      <td>59.166667</td>\n",
       "      <td>5.2</td>\n",
       "      <td>18.606195</td>\n",
       "      <td>18.606195</td>\n",
       "    </tr>\n",
       "    <tr>\n",
       "      <th>2016-01-11 17:20:00</th>\n",
       "      <td>30</td>\n",
       "      <td>19.89</td>\n",
       "      <td>46.300000</td>\n",
       "      <td>19.2</td>\n",
       "      <td>44.626667</td>\n",
       "      <td>19.79</td>\n",
       "      <td>44.933333</td>\n",
       "      <td>18.926667</td>\n",
       "      <td>45.890000</td>\n",
       "      <td>17.166667</td>\n",
       "      <td>...</td>\n",
       "      <td>17.000000</td>\n",
       "      <td>45.50</td>\n",
       "      <td>6.366667</td>\n",
       "      <td>733.7</td>\n",
       "      <td>92.0</td>\n",
       "      <td>6.333333</td>\n",
       "      <td>55.333333</td>\n",
       "      <td>5.1</td>\n",
       "      <td>28.642668</td>\n",
       "      <td>28.642668</td>\n",
       "    </tr>\n",
       "  </tbody>\n",
       "</table>\n",
       "<p>3 rows × 27 columns</p>\n",
       "</div>"
      ],
      "text/plain": [
       "                     lights     T1       RH_1    T2       RH_2     T3  \\\n",
       "date                                                                    \n",
       "2016-01-11 17:00:00      30  19.89  47.596667  19.2  44.790000  19.79   \n",
       "2016-01-11 17:10:00      30  19.89  46.693333  19.2  44.722500  19.79   \n",
       "2016-01-11 17:20:00      30  19.89  46.300000  19.2  44.626667  19.79   \n",
       "\n",
       "                          RH_3         T4       RH_4         T5  ...  \\\n",
       "date                                                             ...   \n",
       "2016-01-11 17:00:00  44.730000  19.000000  45.566667  17.166667  ...   \n",
       "2016-01-11 17:10:00  44.790000  19.000000  45.992500  17.166667  ...   \n",
       "2016-01-11 17:20:00  44.933333  18.926667  45.890000  17.166667  ...   \n",
       "\n",
       "                            T9   RH_9     T_out  Press_mm_hg  RH_out  \\\n",
       "date                                                                   \n",
       "2016-01-11 17:00:00  17.033333  45.53  6.600000        733.5    92.0   \n",
       "2016-01-11 17:10:00  17.066667  45.56  6.483333        733.6    92.0   \n",
       "2016-01-11 17:20:00  17.000000  45.50  6.366667        733.7    92.0   \n",
       "\n",
       "                     Windspeed  Visibility  Tdewpoint        rv1        rv2  \n",
       "date                                                                         \n",
       "2016-01-11 17:00:00   7.000000   63.000000        5.3  13.275433  13.275433  \n",
       "2016-01-11 17:10:00   6.666667   59.166667        5.2  18.606195  18.606195  \n",
       "2016-01-11 17:20:00   6.333333   55.333333        5.1  28.642668  28.642668  \n",
       "\n",
       "[3 rows x 27 columns]"
      ]
     },
     "execution_count": 17,
     "metadata": {},
     "output_type": "execute_result"
    }
   ],
   "source": [
    "original_features.head(3)"
   ]
  },
  {
   "cell_type": "code",
   "execution_count": 18,
   "id": "d8b27337-24f3-4b4b-be03-1323a0c625db",
   "metadata": {},
   "outputs": [
    {
     "name": "stdout",
     "output_type": "stream",
     "text": [
      "Combined features shape: (19735, 81)\n"
     ]
    }
   ],
   "source": [
    "# Step 6: Concatenate Original and Rolled Features\n",
    "X_combined = pd.concat([original_features, rolled_features], axis=1)\n",
    "X_combined.dropna(inplace=True)\n",
    "print(\"Combined features shape:\", X_combined.shape)"
   ]
  },
  {
   "cell_type": "code",
   "execution_count": 19,
   "id": "332d3f9f-b17b-4d8e-bc9d-b5f10f68c217",
   "metadata": {},
   "outputs": [],
   "source": [
    "# Calculate the variance of each feature before variance thresholding\n",
    "feature_variances = X_combined.var()"
   ]
  },
  {
   "cell_type": "code",
   "execution_count": 20,
   "id": "ec2be085-0f7a-4ca5-ad0d-d97ce5377350",
   "metadata": {},
   "outputs": [
    {
     "data": {
      "text/plain": [
       "(0.0, 20.0)"
      ]
     },
     "execution_count": 20,
     "metadata": {},
     "output_type": "execute_result"
    },
    {
     "data": {
      "image/png": "[encoded data removed]",
      "text/plain": [
       "<Figure size 640x480 with 1 Axes>"
      ]
     },
     "metadata": {},
     "output_type": "display_data"
    }
   ],
   "source": [
    "sns.histplot(feature_variances)\n",
    "plt.xlim(0, 20)"
   ]
  },
  {
   "cell_type": "code",
   "execution_count": 58,
   "id": "e6548a03-0236-4eb7-bda1-ec2e78714331",
   "metadata": {},
   "outputs": [],
   "source": [
    "# Step 7: Apply Variance Thresholding to Remove Low-Variance Features\n",
    "selector = VarianceThreshold(threshold=0.01)\n",
    "X_var = selector.fit_transform(X_combined)\n",
    "selected_feature_names = X_combined.columns[selector.get_support()]\n",
    "X_var_df = X_combined # pd.DataFrame(X_var, columns=selected_feature_names)"
   ]
  },
  {
   "cell_type": "code",
   "execution_count": 59,
   "id": "ee9be703-4f63-42d2-9055-760056f34115",
   "metadata": {},
   "outputs": [
    {
     "data": {
      "text/plain": [
       "(19735, 81)"
      ]
     },
     "execution_count": 59,
     "metadata": {},
     "output_type": "execute_result"
    }
   ],
   "source": [
    "X_var_df.shape"
   ]
  },
  {
   "cell_type": "code",
   "execution_count": 65,
   "id": "f43636db-9a1b-45da-bc22-a4628330545b",
   "metadata": {},
   "outputs": [],
   "source": [
    "corr_matrix = X_var_df.corr().abs()\n",
    "distance_matrix = 1 - corr_matrix\n",
    "linked = linkage(distance_matrix, method='average')\n",
    "cluster_labels = fcluster(linked, t=0.05, criterion='distance')\n",
    "\n",
    "representative_features = []\n",
    "for cluster_id in np.unique(cluster_labels):\n",
    "    cluster_features = X_var_df.columns[cluster_labels == cluster_id]\n",
    "    representative_feature = cluster_features[np.argmax(X_var_df[cluster_features].var().values)]\n",
    "    representative_features.append(representative_feature)\n",
    "X_clustered_df = X_var_df[representative_features]"
   ]
  },
  {
   "cell_type": "code",
   "execution_count": 66,
   "id": "bed92513-9d3e-475c-904b-218130c42f9e",
   "metadata": {},
   "outputs": [
    {
     "data": {
      "text/plain": [
       "(19735, 73)"
      ]
     },
     "execution_count": 66,
     "metadata": {},
     "output_type": "execute_result"
    }
   ],
   "source": [
    "X_clustered_df.shape"
   ]
  },
  {
   "cell_type": "code",
   "execution_count": 67,
   "id": "4d2d161f-cd7b-4ffc-8147-a84aa79cba34",
   "metadata": {},
   "outputs": [
    {
     "data": {
      "image/png": "[encoded data removed]",
      "text/plain": [
       "<Figure size 1200x600 with 1 Axes>"
      ]
     },
     "metadata": {},
     "output_type": "display_data"
    }
   ],
   "source": [
    "condensed_distance = squareform(distance_matrix)\n",
    "\n",
    "# Perform hierarchical clustering using linkage\n",
    "linked = linkage(condensed_distance, method='average')\n",
    "\n",
    "# Plot the dendrogram\n",
    "plt.figure(figsize=(12, 6))\n",
    "dendrogram(linked, labels=X_var_df.columns, color_threshold=0.9)\n",
    "plt.title('Dendrogram of Feature Clusters')\n",
    "plt.xlabel('Features')\n",
    "plt.ylabel('Distance')\n",
    "plt.xticks(rotation=90)\n",
    "plt.show()"
   ]
  },
  {
   "cell_type": "code",
   "execution_count": 68,
   "id": "d25e57e2-f198-4983-a881-ef6274eb8026",
   "metadata": {},
   "outputs": [],
   "source": [
    "scaler = StandardScaler()\n",
    "X_scaled = scaler.fit_transform(X_clustered_df)\n",
    "\n",
    "# Step 8: Apply Lasso without CV for Feature Selection\n",
    "alpha = 0.05  # Set the regularization strength manually (tune as necessary)\n",
    "lasso = Lasso(alpha=alpha, random_state=0)\n",
    "lasso.fit(X_scaled, y)\n",
    "lasso_selected_features = X_clustered_df.columns[(lasso.coef_ != 0)]\n",
    "X_lasso_df = X_clustered_df# [lasso_selected_features]"
   ]
  },
  {
   "cell_type": "code",
   "execution_count": 69,
   "id": "1fa7ca3a-750f-4282-bba1-72d5db827efe",
   "metadata": {},
   "outputs": [
    {
     "data": {
      "text/plain": [
       "(19735, 73)"
      ]
     },
     "execution_count": 69,
     "metadata": {},
     "output_type": "execute_result"
    }
   ],
   "source": [
    "X_lasso_df.shape"
   ]
  },
  {
   "cell_type": "code",
   "execution_count": 70,
   "id": "222ad08e-4ec4-4c5f-a4da-d701420935c2",
   "metadata": {},
   "outputs": [
    {
     "data": {
      "text/html": [
       "<style>#sk-container-id-3 {color: black;background-color: white;}#sk-container-id-3 pre{padding: 0;}#sk-container-id-3 div.sk-toggleable {background-color: white;}#sk-container-id-3 label.sk-toggleable__label {cursor: pointer;display: block;width: 100%;margin-bottom: 0;padding: 0.3em;box-sizing: border-box;text-align: center;}#sk-container-id-3 label.sk-toggleable__label-arrow:before {content: \"▸\";float: left;margin-right: 0.25em;color: #696969;}#sk-container-id-3 label.sk-toggleable__label-arrow:hover:before {color: black;}#sk-container-id-3 div.sk-estimator:hover label.sk-toggleable__label-arrow:before {color: black;}#sk-container-id-3 div.sk-toggleable__content {max-height: 0;max-width: 0;overflow: hidden;text-align: left;background-color: #f0f8ff;}#sk-container-id-3 div.sk-toggleable__content pre {margin: 0.2em;color: black;border-radius: 0.25em;background-color: #f0f8ff;}#sk-container-id-3 input.sk-toggleable__control:checked~div.sk-toggleable__content {max-height: 200px;max-width: 100%;overflow: auto;}#sk-container-id-3 input.sk-toggleable__control:checked~label.sk-toggleable__label-arrow:before {content: \"▾\";}#sk-container-id-3 div.sk-estimator input.sk-toggleable__control:checked~label.sk-toggleable__label {background-color: #d4ebff;}#sk-container-id-3 div.sk-label input.sk-toggleable__control:checked~label.sk-toggleable__label {background-color: #d4ebff;}#sk-container-id-3 input.sk-hidden--visually {border: 0;clip: rect(1px 1px 1px 1px);clip: rect(1px, 1px, 1px, 1px);height: 1px;margin: -1px;overflow: hidden;padding: 0;position: absolute;width: 1px;}#sk-container-id-3 div.sk-estimator {font-family: monospace;background-color: #f0f8ff;border: 1px dotted black;border-radius: 0.25em;box-sizing: border-box;margin-bottom: 0.5em;}#sk-container-id-3 div.sk-estimator:hover {background-color: #d4ebff;}#sk-container-id-3 div.sk-parallel-item::after {content: \"\";width: 100%;border-bottom: 1px solid gray;flex-grow: 1;}#sk-container-id-3 div.sk-label:hover label.sk-toggleable__label {background-color: #d4ebff;}#sk-container-id-3 div.sk-serial::before {content: \"\";position: absolute;border-left: 1px solid gray;box-sizing: border-box;top: 0;bottom: 0;left: 50%;z-index: 0;}#sk-container-id-3 div.sk-serial {display: flex;flex-direction: column;align-items: center;background-color: white;padding-right: 0.2em;padding-left: 0.2em;position: relative;}#sk-container-id-3 div.sk-item {position: relative;z-index: 1;}#sk-container-id-3 div.sk-parallel {display: flex;align-items: stretch;justify-content: center;background-color: white;position: relative;}#sk-container-id-3 div.sk-item::before, #sk-container-id-3 div.sk-parallel-item::before {content: \"\";position: absolute;border-left: 1px solid gray;box-sizing: border-box;top: 0;bottom: 0;left: 50%;z-index: -1;}#sk-container-id-3 div.sk-parallel-item {display: flex;flex-direction: column;z-index: 1;position: relative;background-color: white;}#sk-container-id-3 div.sk-parallel-item:first-child::after {align-self: flex-end;width: 50%;}#sk-container-id-3 div.sk-parallel-item:last-child::after {align-self: flex-start;width: 50%;}#sk-container-id-3 div.sk-parallel-item:only-child::after {width: 0;}#sk-container-id-3 div.sk-dashed-wrapped {border: 1px dashed gray;margin: 0 0.4em 0.5em 0.4em;box-sizing: border-box;padding-bottom: 0.4em;background-color: white;}#sk-container-id-3 div.sk-label label {font-family: monospace;font-weight: bold;display: inline-block;line-height: 1.2em;}#sk-container-id-3 div.sk-label-container {text-align: center;}#sk-container-id-3 div.sk-container {/* jupyter's `normalize.less` sets `[hidden] { display: none; }` but bootstrap.min.css set `[hidden] { display: none !important; }` so we also need the `!important` here to be able to override the default hidden behavior on the sphinx rendered scikit-learn.org. See: https://github.com/scikit-learn/scikit-learn/issues/21755 */display: inline-block !important;position: relative;}#sk-container-id-3 div.sk-text-repr-fallback {display: none;}</style><div id=\"sk-container-id-3\" class=\"sk-top-container\"><div class=\"sk-text-repr-fallback\"><pre>XGBRegressor(base_score=None, booster=None, callbacks=None,\n",
       "             colsample_bylevel=None, colsample_bynode=None,\n",
       "             colsample_bytree=None, early_stopping_rounds=None,\n",
       "             enable_categorical=False, eval_metric=&#x27;rmse&#x27;, feature_types=None,\n",
       "             gamma=None, gpu_id=None, grow_policy=None, importance_type=None,\n",
       "             interaction_constraints=None, learning_rate=None, max_bin=None,\n",
       "             max_cat_threshold=None, max_cat_to_onehot=None,\n",
       "             max_delta_step=None, max_depth=None, max_leaves=None,\n",
       "             min_child_weight=None, missing=nan, monotone_constraints=None,\n",
       "             n_estimators=200, n_jobs=None, num_parallel_tree=None,\n",
       "             predictor=None, random_state=0, ...)</pre><b>In a Jupyter environment, please rerun this cell to show the HTML representation or trust the notebook. <br />On GitHub, the HTML representation is unable to render, please try loading this page with nbviewer.org.</b></div><div class=\"sk-container\" hidden><div class=\"sk-item\"><div class=\"sk-estimator sk-toggleable\"><input class=\"sk-toggleable__control sk-hidden--visually\" id=\"sk-estimator-id-3\" type=\"checkbox\" checked><label for=\"sk-estimator-id-3\" class=\"sk-toggleable__label sk-toggleable__label-arrow\">XGBRegressor</label><div class=\"sk-toggleable__content\"><pre>XGBRegressor(base_score=None, booster=None, callbacks=None,\n",
       "             colsample_bylevel=None, colsample_bynode=None,\n",
       "             colsample_bytree=None, early_stopping_rounds=None,\n",
       "             enable_categorical=False, eval_metric=&#x27;rmse&#x27;, feature_types=None,\n",
       "             gamma=None, gpu_id=None, grow_policy=None, importance_type=None,\n",
       "             interaction_constraints=None, learning_rate=None, max_bin=None,\n",
       "             max_cat_threshold=None, max_cat_to_onehot=None,\n",
       "             max_delta_step=None, max_depth=None, max_leaves=None,\n",
       "             min_child_weight=None, missing=nan, monotone_constraints=None,\n",
       "             n_estimators=200, n_jobs=None, num_parallel_tree=None,\n",
       "             predictor=None, random_state=0, ...)</pre></div></div></div></div></div>"
      ],
      "text/plain": [
       "XGBRegressor(base_score=None, booster=None, callbacks=None,\n",
       "             colsample_bylevel=None, colsample_bynode=None,\n",
       "             colsample_bytree=None, early_stopping_rounds=None,\n",
       "             enable_categorical=False, eval_metric='rmse', feature_types=None,\n",
       "             gamma=None, gpu_id=None, grow_policy=None, importance_type=None,\n",
       "             interaction_constraints=None, learning_rate=None, max_bin=None,\n",
       "             max_cat_threshold=None, max_cat_to_onehot=None,\n",
       "             max_delta_step=None, max_depth=None, max_leaves=None,\n",
       "             min_child_weight=None, missing=nan, monotone_constraints=None,\n",
       "             n_estimators=200, n_jobs=None, num_parallel_tree=None,\n",
       "             predictor=None, random_state=0, ...)"
      ]
     },
     "execution_count": 70,
     "metadata": {},
     "output_type": "execute_result"
    }
   ],
   "source": [
    "model = XGBRegressor(n_estimators=200, random_state=0, eval_metric='rmse')\n",
    "model.fit(X_lasso_df, y)"
   ]
  },
  {
   "cell_type": "code",
   "execution_count": 71,
   "id": "9f1bfaaa-1e1a-4d21-91d2-dc6bcb6d22dd",
   "metadata": {},
   "outputs": [],
   "source": [
    "# perm_importance = permutation_importance(model, X_lasso_df, y, n_repeats=5, random_state=0)\n",
    "# important_features = X_lasso_df.columns[perm_importance.importances_mean > 0.001]\n",
    "perm_importance = permutation_importance(model, X_clustered_df, y, n_repeats=5, random_state=0)\n",
    "important_features = X_clustered_df.columns[perm_importance.importances_mean > 0.001]\n",
    "X_final_df = X_lasso_df[important_features]"
   ]
  },
  {
   "cell_type": "code",
   "execution_count": 72,
   "id": "78427c07-8568-4d93-9056-164c0a22b36d",
   "metadata": {},
   "outputs": [
    {
     "data": {
      "text/plain": [
       "(19735, 73)"
      ]
     },
     "execution_count": 72,
     "metadata": {},
     "output_type": "execute_result"
    }
   ],
   "source": [
    "X_final_df.shape"
   ]
  },
  {
   "cell_type": "code",
   "execution_count": 73,
   "id": "9906e6ca-7413-4675-bc71-06801ade0dbc",
   "metadata": {},
   "outputs": [],
   "source": [
    "# Train-Test Split and Model Evaluation\n",
    "X_train, X_test, y_train, y_test = train_test_split(X_final_df, y, test_size=0.2, random_state=42)\n",
    "model = XGBRegressor(random_state=42, eval_metric='rmse')\n",
    "model.fit(X_train, y_train)\n",
    "\n",
    "y_pred_train = model.predict(X_train)\n",
    "y_pred_test = model.predict(X_test)"
   ]
  },
  {
   "cell_type": "code",
   "execution_count": 74,
   "id": "084a380c-1676-4456-899f-1c645bb63442",
   "metadata": {},
   "outputs": [
    {
     "data": {
      "text/plain": [
       "(3947,)"
      ]
     },
     "execution_count": 74,
     "metadata": {},
     "output_type": "execute_result"
    }
   ],
   "source": [
    "y_pred_test.shape"
   ]
  },
  {
   "cell_type": "code",
   "execution_count": 75,
   "id": "7eff187a-ddcc-4f25-9fb5-dc7accc8c8cc",
   "metadata": {},
   "outputs": [
    {
     "name": "stdout",
     "output_type": "stream",
     "text": [
      "Training Set Metrics:\n",
      "Mean Absolute Error (MAE): 20.376213318642588\n",
      "Mean Absolute Percentage Error (MSE): 25.36198426236223\n",
      "\n",
      "Test Set Metrics:\n",
      "Mean Absolute Error (MAE): 35.735888218604856\n",
      "Mean Absolute Percentage (MSE): 38.82168378312248\n"
     ]
    }
   ],
   "source": [
    "print(\"Training Set Metrics:\")\n",
    "print(\"Mean Absolute Error (MAE):\", mean_absolute_error(y_train, y_pred_train))\n",
    "print(\"Mean Absolute Percentage Error (MSE):\", mean_absolute_percentage_error(y_train, y_pred_train)*100)\n",
    "\n",
    "print(\"\\nTest Set Metrics:\")\n",
    "print(\"Mean Absolute Error (MAE):\", mean_absolute_error(y_test, y_pred_test))\n",
    "print(\"Mean Absolute Percentage (MSE):\", mean_absolute_percentage_error(y_test, y_pred_test)*100)"
   ]
  },
  {
   "cell_type": "code",
   "execution_count": 76,
   "id": "fa733629-d831-4e23-8818-671cc7c6ab13",
   "metadata": {},
   "outputs": [],
   "source": [
    "# Assuming `df` is already loaded with the original data\n",
    "\n",
    "# Step 1: Define Features and Target\n",
    "X = df.drop(columns=['Appliances', 'id', 'time'])  # Exclude the target column\n",
    "y = df['Appliances']  # Define target variable"
   ]
  },
  {
   "cell_type": "code",
   "execution_count": 77,
   "id": "42479a5e-34f1-442f-99c0-22f6b5ff81a6",
   "metadata": {},
   "outputs": [
    {
     "data": {
      "text/plain": [
       "(19735, 27)"
      ]
     },
     "execution_count": 77,
     "metadata": {},
     "output_type": "execute_result"
    }
   ],
   "source": [
    "X.shape"
   ]
  },
  {
   "cell_type": "code",
   "execution_count": 78,
   "id": "8980b22b-c637-4cd8-aa42-b498ead5199c",
   "metadata": {},
   "outputs": [
    {
     "name": "stdout",
     "output_type": "stream",
     "text": [
      "Training Set Metrics:\n",
      "Mean Absolute Error (MAE): 13.567925429748891\n",
      "Mean Absolute Percentage Error (MSE): 18.054247543108826\n",
      "\n",
      "Test Set Metrics:\n",
      "Mean Absolute Error (MAE): 35.01552747139787\n",
      "Mean Absolute Percentage (MSE): 37.40106293989613\n"
     ]
    }
   ],
   "source": [
    "# Step 2: Train-Test Split\n",
    "X_train, X_test, y_train, y_test = train_test_split(X, y, test_size=0.2, random_state=42)\n",
    "\n",
    "# Step 3: Train XGBoost Model\n",
    "model = XGBRegressor(n_estimators=250, random_state=0, use_label_encoder=False, eval_metric='rmse')\n",
    "model.fit(X_train, y_train)\n",
    "\n",
    "# Step 4: Make Predictions\n",
    "y_pred_train = model.predict(X_train)\n",
    "y_pred_test = model.predict(X_test)\n",
    "\n",
    "# Step 5: Evaluate Model\n",
    "print(\"Training Set Metrics:\")\n",
    "print(\"Mean Absolute Error (MAE):\", mean_absolute_error(y_train, y_pred_train))\n",
    "print(\"Mean Absolute Percentage Error (MSE):\", mean_absolute_percentage_error(y_train, y_pred_train)*100)\n",
    "\n",
    "print(\"\\nTest Set Metrics:\")\n",
    "print(\"Mean Absolute Error (MAE):\", mean_absolute_error(y_test, y_pred_test))\n",
    "print(\"Mean Absolute Percentage (MSE):\", mean_absolute_percentage_error(y_test, y_pred_test)*100)"
   ]
  },
  {
   "cell_type": "code",
   "execution_count": 79,
   "id": "821e8869-666f-4ea1-bdcd-427261ea662e",
   "metadata": {},
   "outputs": [
    {
     "name": "stdout",
     "output_type": "stream",
     "text": [
      "Training Set Metrics:\n",
      "Mean Absolute Error (MAE): 10.827819598032185\n",
      "Mean Absolute Percentage Error (MSE): 15.253707894129423\n",
      "\n",
      "Test Set Metrics:\n",
      "Mean Absolute Error (MAE): 33.57445705352266\n",
      "Mean Absolute Percentage (MSE): 36.42914331737073\n"
     ]
    }
   ],
   "source": [
    "# Assuming `df` is already loaded with the original data\n",
    "\n",
    "# Step 2: Train-Test Split\n",
    "X_train, X_test, y_train, y_test = train_test_split(X_combined, y, test_size=0.2, random_state=42)\n",
    "\n",
    "# Step 3: Train XGBoost Model\n",
    "model = XGBRegressor(n_estimators=250, random_state=0, use_label_encoder=False, eval_metric='rmse')\n",
    "model.fit(X_train, y_train)\n",
    "\n",
    "# Step 4: Make Predictions\n",
    "y_pred_train = model.predict(X_train)\n",
    "y_pred_test = model.predict(X_test)\n",
    "\n",
    "# Step 5: Evaluate Model\n",
    "print(\"Training Set Metrics:\")\n",
    "print(\"Mean Absolute Error (MAE):\", mean_absolute_error(y_train, y_pred_train))\n",
    "print(\"Mean Absolute Percentage Error (MSE):\", mean_absolute_percentage_error(y_train, y_pred_train)*100)\n",
    "\n",
    "print(\"\\nTest Set Metrics:\")\n",
    "print(\"Mean Absolute Error (MAE):\", mean_absolute_error(y_test, y_pred_test))\n",
    "print(\"Mean Absolute Percentage (MSE):\", mean_absolute_percentage_error(y_test, y_pred_test)*100)"
   ]
  },
  {
   "cell_type": "code",
   "execution_count": 80,
   "id": "68483576-2b7e-4368-9d82-413717f8f594",
   "metadata": {},
   "outputs": [
    {
     "name": "stdout",
     "output_type": "stream",
     "text": [
      "Columns only in df1: {'RH_3__mean', 'rv2__standard_deviation', 'rv2', 'T9__mean', 'Press_mm_hg', 'RH_4__mean', 'rv2__mean', 'Tdewpoint__mean'}\n",
      "Columns only in df2: set()\n",
      "Columns in both df1 and df2: {'RH_8__mean', 'T3__mean', 'T_out', 'RH_7__standard_deviation', 'Visibility', 'T1', 'RH_7', 'RH_5__standard_deviation', 'T4', 'T4__mean', 'RH_2', 'Visibility__mean', 'lights__standard_deviation', 'T2__mean', 'rv1__standard_deviation', 'Press_mm_hg__standard_deviation', 'Tdewpoint', 'T7__mean', 'T6__standard_deviation', 'T7', 'RH_6', 'T4__standard_deviation', 'T3__standard_deviation', 'RH_9', 'lights__mean', 'RH_3', 'RH_out', 'Windspeed', 'T3', 'rv1', 'T9__standard_deviation', 'T8__standard_deviation', 'T6', 'Press_mm_hg__mean', 'T1__mean', 'RH_6__mean', 'rv1__mean', 'RH_4', 'T6__mean', 'Windspeed__mean', 'RH_1__mean', 'RH_1__standard_deviation', 'RH_2__standard_deviation', 'T7__standard_deviation', 'lights', 'RH_7__mean', 'RH_8__standard_deviation', 'RH_9__standard_deviation', 'RH_5', 'T5', 'T_out__mean', 'Windspeed__standard_deviation', 'Tdewpoint__standard_deviation', 'T2__standard_deviation', 'T8', 'RH_3__standard_deviation', 'RH_4__standard_deviation', 'T1__standard_deviation', 'RH_out__standard_deviation', 'RH_8', 'T5__standard_deviation', 'Visibility__standard_deviation', 'RH_5__mean', 'T5__mean', 'RH_2__mean', 'T9', 'T2', 'T_out__standard_deviation', 'RH_9__mean', 'RH_1', 'RH_6__standard_deviation', 'RH_out__mean', 'T8__mean'}\n"
     ]
    }
   ],
   "source": [
    "# Get columns in each DataFrame\n",
    "columns_df1 = set(X_combined.columns)\n",
    "columns_df2 = set(X_final_df.columns)\n",
    "\n",
    "# 1. Columns only in df1\n",
    "only_in_df1 = columns_df1 - columns_df2\n",
    "print(\"Columns only in df1:\", only_in_df1)\n",
    "\n",
    "# 2. Columns only in df2\n",
    "only_in_df2 = columns_df2 - columns_df1\n",
    "print(\"Columns only in df2:\", only_in_df2)\n",
    "\n",
    "# 3. Columns in both df1 and df2\n",
    "common_columns = columns_df1 & columns_df2\n",
    "print(\"Columns in both df1 and df2:\", common_columns)"
   ]
  },
  {
   "cell_type": "code",
   "execution_count": 82,
   "id": "a577f35c-ad5a-4995-a686-b56eadd435a3",
   "metadata": {},
   "outputs": [
    {
     "data": {
      "text/plain": [
       "<Axes: >"
      ]
     },
     "execution_count": 82,
     "metadata": {},
     "output_type": "execute_result"
    },
    {
     "data": {
      "image/png": "[encoded data removed]",
      "text/plain": [
       "<Figure size 640x480 with 1 Axes>"
      ]
     },
     "metadata": {},
     "output_type": "display_data"
    }
   ],
   "source": [
    "X_combined['rv2__standard_deviation'].hist()"
   ]
  },
  {
   "cell_type": "code",
   "execution_count": null,
   "id": "7f88d65e-3681-4d9b-932a-88a79ca70cf1",
   "metadata": {},
   "outputs": [],
   "source": []
  }
 ],
 "metadata": {
  "kernelspec": {
   "display_name": "Python 3 (ipykernel)",
   "language": "python",
   "name": "python3"
  },
  "language_info": {
   "codemirror_mode": {
    "name": "ipython",
    "version": 3
   },
   "file_extension": ".py",
   "mimetype": "text/x-python",
   "name": "python",
   "nbconvert_exporter": "python",
   "pygments_lexer": "ipython3",
   "version": "3.10.1"
  }
 },
 "nbformat": 4,
 "nbformat_minor": 5
}
